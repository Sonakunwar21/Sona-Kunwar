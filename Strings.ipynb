{
 "cells": [
  {
   "cell_type": "code",
   "execution_count": 1,
   "id": "eee5a724-307c-420c-8d2a-0c4ee16f878b",
   "metadata": {},
   "outputs": [
    {
     "name": "stdout",
     "output_type": "stream",
     "text": [
      "code\n"
     ]
    }
   ],
   "source": [
    "print(\"code\")"
   ]
  },
  {
   "cell_type": "markdown",
   "id": "107d8476-35db-4819-b36c-13cbead0ee18",
   "metadata": {},
   "source": [
    "# HEADING1\n",
    "## HEADING2\n",
    "### HEADING3"
   ]
  },
  {
   "cell_type": "code",
   "execution_count": 8,
   "id": "d7f66c53-aed9-4706-a1aa-a226800bceab",
   "metadata": {},
   "outputs": [
    {
     "name": "stdout",
     "output_type": "stream",
     "text": [
      "a = 10\n",
      "b = 50\n"
     ]
    }
   ],
   "source": [
    "a=10\n",
    "b=50\n",
    "print(\"a = \"+str(a))\n",
    "print(\"b = \"+str(b))"
   ]
  },
  {
   "cell_type": "code",
   "execution_count": 7,
   "id": "97b13a2f-5e6f-43cc-9ab4-5f4784de09a8",
   "metadata": {},
   "outputs": [
    {
     "name": "stdout",
     "output_type": "stream",
     "text": [
      "30.3\n"
     ]
    }
   ],
   "source": [
    "a=10.3\n",
    "b=20\n",
    "print(a+b)"
   ]
  },
  {
   "cell_type": "markdown",
   "id": "c99d9a02-3d49-40c5-81ce-4bca621783d5",
   "metadata": {},
   "source": [
    "## string"
   ]
  },
  {
   "cell_type": "code",
   "execution_count": 8,
   "id": "1a9215bb-2dd2-483b-bd71-fab99a6ee9f0",
   "metadata": {},
   "outputs": [
    {
     "name": "stdout",
     "output_type": "stream",
     "text": [
      "Tim said,\"I'm busy today.\"\n"
     ]
    }
   ],
   "source": [
    "stg = 'Tim said,\"I\\'m busy today.\"'\n",
    "print(stg)"
   ]
  },
  {
   "cell_type": "code",
   "execution_count": 7,
   "id": "bf216271-4fc7-4333-bbdc-bbaaad4f4b7e",
   "metadata": {},
   "outputs": [
    {
     "name": "stdout",
     "output_type": "stream",
     "text": [
      "Hey there!\n",
      "welcome to simple learn\n"
     ]
    }
   ],
   "source": [
    "str2 = '''Hey there!\n",
    "welcome to simple learn'''\n",
    "print(str2)"
   ]
  },
  {
   "cell_type": "code",
   "execution_count": 2,
   "id": "4db901d1-afed-4e43-86d9-ffa43c343d53",
   "metadata": {},
   "outputs": [
    {
     "name": "stdout",
     "output_type": "stream",
     "text": [
      "Hey there!\n",
      "welcome to simple learn\n"
     ]
    }
   ],
   "source": [
    "str2 = \"Hey there!\\nwelcome to simple learn\" #sequence use\n",
    "print(str2)"
   ]
  },
  {
   "cell_type": "code",
   "execution_count": 11,
   "id": "e2415dad-78c4-41a6-afca-36bc2926266c",
   "metadata": {},
   "outputs": [
    {
     "name": "stdout",
     "output_type": "stream",
     "text": [
      "i\n"
     ]
    }
   ],
   "source": [
    "str3 = \"Simplilearn\"\n",
    "print(str3[5]) "
   ]
  },
  {
   "cell_type": "code",
   "execution_count": 12,
   "id": "f63b34cf-c0a5-4828-b4c4-f34dab14a53c",
   "metadata": {},
   "outputs": [
    {
     "name": "stdout",
     "output_type": "stream",
     "text": [
      "S\n",
      "i\n",
      "m\n",
      "p\n",
      "l\n",
      "i\n",
      "l\n",
      "e\n",
      "a\n",
      "r\n",
      "n\n"
     ]
    }
   ],
   "source": [
    "for i in (str3): \n",
    "    print(i) "
   ]
  },
  {
   "cell_type": "code",
   "execution_count": 8,
   "id": "99a97ede-4146-4b0f-9489-b2ab4ad5060e",
   "metadata": {},
   "outputs": [
    {
     "name": "stdout",
     "output_type": "stream",
     "text": [
      "<class 'str'>\n",
      "S\n",
      "<class 'str'>\n",
      "i\n",
      "<class 'str'>\n",
      "m\n",
      "<class 'str'>\n",
      "p\n",
      "<class 'str'>\n",
      "l\n",
      "<class 'str'>\n",
      "i\n",
      "<class 'str'>\n",
      "l\n",
      "<class 'str'>\n",
      "e\n",
      "<class 'str'>\n",
      "a\n",
      "<class 'str'>\n",
      "r\n",
      "<class 'str'>\n",
      "n\n"
     ]
    }
   ],
   "source": [
    "for a in str3:\n",
    "    print(type(a))\n",
    "    print(a)"
   ]
  },
  {
   "cell_type": "code",
   "execution_count": 1,
   "id": "ab1a7c25-5f8e-4ca8-b83d-f699cfc32166",
   "metadata": {},
   "outputs": [
    {
     "name": "stdout",
     "output_type": "stream",
     "text": [
      "simplilearn"
     ]
    }
   ],
   "source": [
    "str3 = \"simplilearn\"\n",
    "for i in (str3):\n",
    "    print(i,end=\"\")"
   ]
  },
  {
   "cell_type": "code",
   "execution_count": 27,
   "id": "9d05f218-0bde-4fa6-aae3-4dae6ecd1a89",
   "metadata": {},
   "outputs": [
    {
     "name": "stdout",
     "output_type": "stream",
     "text": [
      "welcome to simplilearn"
     ]
    }
   ],
   "source": [
    "stg = \"welcome to simplilearn\"\n",
    "for i in(stg):\n",
    "    print(i,end=\"\")"
   ]
  },
  {
   "cell_type": "code",
   "execution_count": 17,
   "id": "34716fa5-e0dd-4b25-a445-ded9cc951f9a",
   "metadata": {},
   "outputs": [
    {
     "name": "stdout",
     "output_type": "stream",
     "text": [
      "Simp\n",
      "Simpl\n",
      "ilearn\n"
     ]
    }
   ],
   "source": [
    "str4 =\"Simplilearn\"\n",
    "print(str4[0:4])\n",
    "print(str4[:5])\n",
    "print(str4[5:])"
   ]
  },
  {
   "cell_type": "code",
   "execution_count": 1,
   "id": "271c27d9-2055-42e4-b0f5-54ab4f1ca6ef",
   "metadata": {},
   "outputs": [
    {
     "name": "stdout",
     "output_type": "stream",
     "text": [
      "Count: 0\n",
      "After Continue\n",
      "Count: 1\n",
      "After Continue\n",
      "Count: 2\n",
      "Count: 3\n",
      "After Continue\n",
      "Count: 4\n",
      "After Continue\n"
     ]
    }
   ],
   "source": [
    "count = 0\n",
    "while count < 5:\n",
    "   print(\"Count:\", count)\n",
    "   count += 1\n",
    "   if count == 3:\n",
    "       continue\n",
    "   print(\"After Continue\")\n"
   ]
  },
  {
   "cell_type": "code",
   "execution_count": 16,
   "id": "e49a3396-fad6-4ea6-a6db-450218d577a5",
   "metadata": {},
   "outputs": [
    {
     "name": "stdout",
     "output_type": "stream",
     "text": [
      "<class 'type'>\n"
     ]
    }
   ],
   "source": [
    "print(type(type(int)))"
   ]
  },
  {
   "cell_type": "code",
   "execution_count": 3,
   "id": "5c1e6db5-018a-4e2a-977f-9985cddf9e5e",
   "metadata": {},
   "outputs": [
    {
     "name": "stdout",
     "output_type": "stream",
     "text": [
      "WELCOME TO SIMPLILEARN\n",
      "welcome to simplilearn\n",
      "5\n",
      "2\n"
     ]
    }
   ],
   "source": [
    "stg = \"welcome to simplilearn\"\n",
    "print(stg.upper())\n",
    "print(stg.lower())\n",
    "\n",
    "print(stg.find('m'))\n",
    "print(stg.index('l')) "
   ]
  },
  {
   "cell_type": "code",
   "execution_count": 4,
   "id": "3fde87de-6ca2-4ea2-8481-36ed3af9d5ec",
   "metadata": {},
   "outputs": [
    {
     "name": "stdout",
     "output_type": "stream",
     "text": [
      "['welcome', 'to', 'simplilearn']\n",
      "welcome to python tutorial\n"
     ]
    }
   ],
   "source": [
    "print(stg.split(\" \"))\n",
    "print(stg.replace(\"simplilearn\",\"python tutorial\"))"
   ]
  },
  {
   "cell_type": "code",
   "execution_count": 6,
   "id": "069dcb4a-e5d7-46c0-88d5-554ed1746eda",
   "metadata": {},
   "outputs": [
    {
     "name": "stdout",
     "output_type": "stream",
     "text": [
      "('welcome to ', 'simplilearn', '')\n"
     ]
    }
   ],
   "source": [
    "print(stg.rpartition(\"simplilearn\"))"
   ]
  },
  {
   "cell_type": "markdown",
   "id": "6ed99230-c810-4f93-8157-fadcd9b1fb6a",
   "metadata": {},
   "source": [
    "### Catenation-"
   ]
  },
  {
   "cell_type": "code",
   "execution_count": 2,
   "id": "3a2719c2-213a-491d-af33-6c10fbebd53d",
   "metadata": {},
   "outputs": [
    {
     "name": "stdout",
     "output_type": "stream",
     "text": [
      "good morning\n"
     ]
    }
   ],
   "source": [
    "stg1= \"good\"\n",
    "stg2=\"morning\"\n",
    "stg= stg1 +\" \"+stg2\n",
    "print(stg)"
   ]
  },
  {
   "cell_type": "code",
   "execution_count": 5,
   "id": "9ac958c7-22b5-48da-8193-be5e4cbf316d",
   "metadata": {},
   "outputs": [
    {
     "name": "stdout",
     "output_type": "stream",
     "text": [
      "good morning\n"
     ]
    }
   ],
   "source": [
    "print(stg1+\" \"+stg2)"
   ]
  },
  {
   "cell_type": "code",
   "execution_count": 13,
   "id": "f165a73e-ed7b-416d-a6e5-28d2934bd6f9",
   "metadata": {},
   "outputs": [
    {
     "name": "stdout",
     "output_type": "stream",
     "text": [
      "good morning ,eveyone!\n"
     ]
    }
   ],
   "source": [
    "stg1= \"good\"\n",
    "stg2= \"morning\"\n",
    "stg3= \"eveyone\"\n",
    "stg= \"{} {} ,{}!\".format(stg1,stg2,stg3)\n",
    "print(stg)"
   ]
  },
  {
   "cell_type": "code",
   "execution_count": 30,
   "id": "618529cb-6423-4d58-9f72-58faf85ed530",
   "metadata": {},
   "outputs": [
    {
     "name": "stdout",
     "output_type": "stream",
     "text": [
      " olleh\n"
     ]
    }
   ],
   "source": [
    "# Que\n",
    "stg1 = \"hello \"\n",
    "print(stg1[::-1])"
   ]
  },
  {
   "cell_type": "code",
   "execution_count": 2,
   "id": "40a8006a-dcde-49f5-b186-7377546209e4",
   "metadata": {},
   "outputs": [
    {
     "name": "stdout",
     "output_type": "stream",
     "text": [
      "vowel count: 3\n"
     ]
    }
   ],
   "source": [
    "# Que\n",
    "stg_a = \" welcome\"\n",
    "vowels = \"aeiou\"\n",
    "count = 0\n",
    "for c in stg_a:\n",
    "    if c in vowels:\n",
    "        count+=1\n",
    "print(\"vowel count:\",count) "
   ]
  },
  {
   "cell_type": "code",
   "execution_count": 9,
   "id": "762ebb9b-eb8f-4f96-bf1f-81215a163dbf",
   "metadata": {},
   "outputs": [
    {
     "name": "stdout",
     "output_type": "stream",
     "text": [
      "WELCOME \n",
      "welcome \n"
     ]
    }
   ],
   "source": [
    "# Que\n",
    "stg2 = \"welcome \" \n",
    "print(stg2.upper())\n",
    "print(stg2.lower())"
   ]
  },
  {
   "cell_type": "code",
   "execution_count": 37,
   "id": "e9054e82-a3ef-4ca2-933a-cf0dd4d94c01",
   "metadata": {},
   "outputs": [
    {
     "name": "stdout",
     "output_type": "stream",
     "text": [
      "False\n"
     ]
    }
   ],
   "source": [
    "# Que\n",
    "stg3 = \"madam\"\n",
    "if stg3 ==stg3[::-1]:\n",
    "    print(\"True\")\n",
    "else:\n",
    "    print(\"False\")"
   ]
  },
  {
   "cell_type": "code",
   "execution_count": 9,
   "id": "ac26eb89-a2b9-49a0-a79e-25348defce5d",
   "metadata": {},
   "outputs": [
    {
     "name": "stdout",
     "output_type": "stream",
     "text": [
      "17\n"
     ]
    }
   ],
   "source": [
    "# Que\n",
    "stg4 = \"welcome to python\"\n",
    "print(len(stg4))"
   ]
  },
  {
   "cell_type": "code",
   "execution_count": 4,
   "id": "2151259a-c8ff-41c0-b393-b27956ab8a83",
   "metadata": {},
   "outputs": [
    {
     "name": "stdout",
     "output_type": "stream",
     "text": [
      "length: 17\n"
     ]
    }
   ],
   "source": [
    "# Que\n",
    "stg4 = \"welcome to python\"\n",
    "count = 0\n",
    "for c in stg4:\n",
    "    count +=1\n",
    "print(\"length:\" , count)"
   ]
  },
  {
   "cell_type": "code",
   "execution_count": 21,
   "id": "7e5de43c-0410-4ca8-abae-c9cea8c32141",
   "metadata": {},
   "outputs": [
    {
     "name": "stdout",
     "output_type": "stream",
     "text": [
      "welcome to Java\n"
     ]
    }
   ],
   "source": [
    "# Que\n",
    "stg6 = \"welcome to python\"\n",
    "print(stg6.replace(\"python\", \"Java\"))"
   ]
  },
  {
   "cell_type": "code",
   "execution_count": 24,
   "id": "0e1188c5-de71-474b-98a2-3432660c2695",
   "metadata": {},
   "outputs": [
    {
     "name": "stdout",
     "output_type": "stream",
     "text": [
      "w\n",
      "n\n"
     ]
    }
   ],
   "source": [
    "#que \n",
    "print(stg6[0])\n",
    "\n",
    "print(stg6[-1])"
   ]
  },
  {
   "cell_type": "code",
   "execution_count": 11,
   "id": "cd287da3-34db-47e8-a97c-d419e536d71f",
   "metadata": {},
   "outputs": [
    {
     "name": "stdout",
     "output_type": "stream",
     "text": [
      "welcometopython\n"
     ]
    }
   ],
   "source": [
    "#que\n",
    "print(stg6.replace(\" \",\"\"))"
   ]
  },
  {
   "cell_type": "code",
   "execution_count": 27,
   "id": "2d894dda-9eb0-40d1-a52e-ecc8f3a4d4eb",
   "metadata": {},
   "outputs": [
    {
     "name": "stdout",
     "output_type": "stream",
     "text": [
      "True\n"
     ]
    }
   ],
   "source": [
    "#que \n",
    "stg7 = \"123456\"\n",
    "print(stg7.isdigit())"
   ]
  },
  {
   "cell_type": "code",
   "execution_count": 41,
   "id": "03000873-9c17-4f2e-ac3e-f89e3299af89",
   "metadata": {},
   "outputs": [
    {
     "name": "stdout",
     "output_type": "stream",
     "text": [
      "{'b': 1, 'a': 3, 'n': 2}\n"
     ]
    }
   ],
   "source": [
    "# que \n",
    "text = \"banana\"\n",
    "freq ={}\n",
    "for ch in text :\n",
    "    freq[ch] = freq.get(ch,0)+1\n",
    "print(freq)"
   ]
  },
  {
   "cell_type": "code",
   "execution_count": 1,
   "id": "93dc3fc7-e078-4283-a8c9-4f8b55bd735b",
   "metadata": {},
   "outputs": [
    {
     "name": "stdout",
     "output_type": "stream",
     "text": [
      "word count: 5\n"
     ]
    }
   ],
   "source": [
    "# ques\n",
    "text = \"python is fun to learn\"\n",
    "print(\"word count:\",\n",
    "      len(text.split())) "
   ]
  },
  {
   "cell_type": "code",
   "execution_count": 4,
   "id": "c1a8c682-d59f-418f-95fa-179621cb094c",
   "metadata": {},
   "outputs": [
    {
     "name": "stdout",
     "output_type": "stream",
     "text": [
      "longest word: python\n"
     ]
    }
   ],
   "source": [
    "# ques\n",
    "words= text.split()\n",
    "print(\"longest word:\", max(words,key = len))"
   ]
  },
  {
   "cell_type": "code",
   "execution_count": 42,
   "id": "690bb217-57dd-494b-b2f6-64a2f281c5a1",
   "metadata": {},
   "outputs": [
    {
     "name": "stdout",
     "output_type": "stream",
     "text": [
      "True\n"
     ]
    }
   ],
   "source": [
    "# ques\n",
    "s1 = \"listen\"\n",
    "s2 = \"silent\"\n",
    "if sorted(s1) == sorted (s2):\n",
    "    print(\"True\")\n",
    "else:\n",
    "    print(\"False\")"
   ]
  },
  {
   "cell_type": "code",
   "execution_count": null,
   "id": "1a12acb1-8bbc-4f12-a185-2223219451ec",
   "metadata": {},
   "outputs": [],
   "source": []
  },
  {
   "cell_type": "code",
   "execution_count": null,
   "id": "e6757685-5be4-433c-939f-004188a22c34",
   "metadata": {},
   "outputs": [],
   "source": []
  },
  {
   "cell_type": "code",
   "execution_count": null,
   "id": "1e0311e9-740b-43be-9e7f-dba362f873de",
   "metadata": {},
   "outputs": [],
   "source": []
  },
  {
   "cell_type": "code",
   "execution_count": null,
   "id": "9b3c84be-923c-438b-9024-30f0f7bc9f73",
   "metadata": {},
   "outputs": [],
   "source": []
  },
  {
   "cell_type": "code",
   "execution_count": null,
   "id": "8562eee1-21c2-4d9f-991f-4858e228d6e3",
   "metadata": {},
   "outputs": [],
   "source": []
  }
 ],
 "metadata": {
  "kernelspec": {
   "display_name": "Python [conda env:base] *",
   "language": "python",
   "name": "conda-base-py"
  },
  "language_info": {
   "codemirror_mode": {
    "name": "ipython",
    "version": 3
   },
   "file_extension": ".py",
   "mimetype": "text/x-python",
   "name": "python",
   "nbconvert_exporter": "python",
   "pygments_lexer": "ipython3",
   "version": "3.13.5"
  }
 },
 "nbformat": 4,
 "nbformat_minor": 5
}
