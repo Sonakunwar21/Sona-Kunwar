{
 "cells": [
  {
   "cell_type": "markdown",
   "id": "13782464-3db4-40f3-b657-c238ce41ddf8",
   "metadata": {},
   "source": [
    "# Types of operators"
   ]
  },
  {
   "cell_type": "markdown",
   "id": "19054439-262c-4d45-a6d4-a56e70a27792",
   "metadata": {},
   "source": [
    "### 1. Arithmetic operators-"
   ]
  },
  {
   "cell_type": "raw",
   "id": "8c2f27d0-bc70-491a-9047-ffb8fd243506",
   "metadata": {},
   "source": [
    " There are 5 arithmetic operators."
   ]
  },
  {
   "cell_type": "markdown",
   "id": "d78e8442-aa3d-47ad-ac97-ee8ebbb7da35",
   "metadata": {},
   "source": [
    "+, - , * , / , % ,//"
   ]
  },
  {
   "cell_type": "code",
   "execution_count": 1,
   "id": "c70c31bf-3d61-4eeb-a3ef-94da342af114",
   "metadata": {},
   "outputs": [
    {
     "name": "stdout",
     "output_type": "stream",
     "text": [
      "45\n"
     ]
    }
   ],
   "source": [
    "class_1=15 \n",
    "class_2 = 30\n",
    "total_students= class_1+class_2\n",
    "print(total_students)"
   ]
  },
  {
   "cell_type": "code",
   "execution_count": 8,
   "id": "b395edd4-2743-4ebf-84b4-4aa8deb70b10",
   "metadata": {},
   "outputs": [
    {
     "name": "stdout",
     "output_type": "stream",
     "text": [
      "18\n"
     ]
    }
   ],
   "source": [
    "total = 30\n",
    "absent = 12\n",
    "present= total - absent\n",
    "print(present)"
   ]
  },
  {
   "cell_type": "code",
   "execution_count": 80,
   "id": "0c64e67d-a2cd-4a20-a52b-d78016d17597",
   "metadata": {},
   "outputs": [
    {
     "name": "stdout",
     "output_type": "stream",
     "text": [
      "1000\n"
     ]
    }
   ],
   "source": [
    "scores_1 = 20\n",
    "score_2 = 50\n",
    "total = scores_1*score_2\n",
    "print(total)\n"
   ]
  },
  {
   "cell_type": "code",
   "execution_count": 2,
   "id": "445fa3f3-3a4c-4077-a2e5-993977442a83",
   "metadata": {},
   "outputs": [
    {
     "name": "stdout",
     "output_type": "stream",
     "text": [
      "2\n"
     ]
    }
   ],
   "source": [
    "scores_1 = 100\n",
    "score_2 = 50\n",
    "total = scores_1 //score_2  # // gives you int in result\n",
    "print(total)\n"
   ]
  },
  {
   "cell_type": "code",
   "execution_count": 3,
   "id": "9e4099c9-aa15-4580-828b-10c3c93e34a3",
   "metadata": {},
   "outputs": [
    {
     "name": "stdout",
     "output_type": "stream",
     "text": [
      "2.0\n"
     ]
    }
   ],
   "source": [
    "scores_1 = 100\n",
    "score_2 = 50\n",
    "total = scores_1 /score_2       # / gives you float in result\n",
    "print(total)\n"
   ]
  },
  {
   "cell_type": "code",
   "execution_count": 15,
   "id": "217dc97b-f258-4175-b582-2b4adee7cb6f",
   "metadata": {},
   "outputs": [
    {
     "name": "stdout",
     "output_type": "stream",
     "text": [
      "3\n"
     ]
    }
   ],
   "source": [
    "scores_1 = 6\n",
    "score_2 = 2\n",
    "total = scores_1 //score_2\n",
    "print(total)\n"
   ]
  },
  {
   "cell_type": "code",
   "execution_count": 14,
   "id": "e8e948d8-72c0-4247-9865-541462de607e",
   "metadata": {},
   "outputs": [
    {
     "name": "stdout",
     "output_type": "stream",
     "text": [
      "3.0\n"
     ]
    }
   ],
   "source": [
    "scores_1 = 6\n",
    "score_2 = 2\n",
    "total = scores_1 /score_2\n",
    "print(total)\n"
   ]
  },
  {
   "cell_type": "code",
   "execution_count": 16,
   "id": "a8d77eb6-600d-4efc-9c47-59d336dbc0b0",
   "metadata": {},
   "outputs": [
    {
     "name": "stdout",
     "output_type": "stream",
     "text": [
      "3.0\n"
     ]
    }
   ],
   "source": [
    "scores_1 = 6.0\n",
    "score_2 = 2\n",
    "total = scores_1 /score_2\n",
    "print(total)\n"
   ]
  },
  {
   "cell_type": "code",
   "execution_count": 18,
   "id": "a48b0b6e-366a-4e8a-a21f-ad4069f80d51",
   "metadata": {},
   "outputs": [
    {
     "name": "stdout",
     "output_type": "stream",
     "text": [
      "3.0\n"
     ]
    }
   ],
   "source": [
    "scores_1 = 6.0\n",
    "score_2 = 2\n",
    "total = scores_1 //score_2\n",
    "print(total)\n"
   ]
  },
  {
   "cell_type": "code",
   "execution_count": 7,
   "id": "b0d6d5e0-aa9f-4a39-a1ef-46b415a86739",
   "metadata": {},
   "outputs": [
    {
     "name": "stdout",
     "output_type": "stream",
     "text": [
      "420\n"
     ]
    }
   ],
   "source": [
    "score_1 = 220\n",
    "score2 = 200\n",
    "total = score_1 + score2\n",
    "print(total)"
   ]
  },
  {
   "cell_type": "code",
   "execution_count": 8,
   "id": "88536b48-a9cf-43db-a90e-249dcdc351d5",
   "metadata": {},
   "outputs": [
    {
     "name": "stdout",
     "output_type": "stream",
     "text": [
      "20\n"
     ]
    }
   ],
   "source": [
    "print(score_1%score2)"
   ]
  },
  {
   "cell_type": "code",
   "execution_count": 1,
   "id": "db02a7ac-22d6-4ba4-b6ec-11d25cf90018",
   "metadata": {},
   "outputs": [
    {
     "name": "stdout",
     "output_type": "stream",
     "text": [
      "0\n"
     ]
    }
   ],
   "source": [
    "print(6%2) # %= Reminder"
   ]
  },
  {
   "cell_type": "code",
   "execution_count": 21,
   "id": "d73bfc91-e32d-4b66-8e75-6ea80edeea34",
   "metadata": {},
   "outputs": [
    {
     "name": "stdout",
     "output_type": "stream",
     "text": [
      "1\n"
     ]
    }
   ],
   "source": [
    "print(5%2)"
   ]
  },
  {
   "cell_type": "code",
   "execution_count": 23,
   "id": "11e8d051-f432-445f-aac0-1d56f946fada",
   "metadata": {},
   "outputs": [
    {
     "name": "stdout",
     "output_type": "stream",
     "text": [
      "3\n"
     ]
    }
   ],
   "source": [
    "print(23%5)"
   ]
  },
  {
   "cell_type": "code",
   "execution_count": 24,
   "id": "dfba7938-b184-4d70-aeea-af563c2ebe8f",
   "metadata": {},
   "outputs": [
    {
     "name": "stdout",
     "output_type": "stream",
     "text": [
      "20\n"
     ]
    }
   ],
   "source": [
    "print(120%25)"
   ]
  },
  {
   "cell_type": "markdown",
   "id": "f93f7b14-9658-48e0-b5e4-52d6f90e0027",
   "metadata": {},
   "source": [
    "### 2. Relational/ comparision operators -"
   ]
  },
  {
   "cell_type": "markdown",
   "id": "bf0890e4-0acb-4312-af2e-4d79dfc5dd38",
   "metadata": {},
   "source": [
    "[ < ,> , == ,<= , >=  , != ]"
   ]
  },
  {
   "cell_type": "code",
   "execution_count": 25,
   "id": "5c145bce-8048-43b3-a4b5-21ff8be13ca3",
   "metadata": {},
   "outputs": [
    {
     "name": "stdout",
     "output_type": "stream",
     "text": [
      "True\n"
     ]
    }
   ],
   "source": [
    "a = 20\n",
    "b = 30\n",
    "print(a< b)"
   ]
  },
  {
   "cell_type": "code",
   "execution_count": 26,
   "id": "25e74bd6-297e-4692-ada1-71b53d68e9c8",
   "metadata": {},
   "outputs": [
    {
     "name": "stdout",
     "output_type": "stream",
     "text": [
      "False\n"
     ]
    }
   ],
   "source": [
    "p = 10 \n",
    "q = 25\n",
    "print(p> q)"
   ]
  },
  {
   "cell_type": "code",
   "execution_count": 30,
   "id": "cca85873-d61c-45c6-8d2b-ad4cd1e403f3",
   "metadata": {},
   "outputs": [
    {
     "name": "stdout",
     "output_type": "stream",
     "text": [
      "True\n"
     ]
    }
   ],
   "source": [
    "A = 200\n",
    "B = 200\n",
    "print(A==B)"
   ]
  },
  {
   "cell_type": "code",
   "execution_count": 31,
   "id": "37d1e11d-2c15-4dd7-81fc-1c4d76fc9e5d",
   "metadata": {},
   "outputs": [
    {
     "name": "stdout",
     "output_type": "stream",
     "text": [
      "True\n"
     ]
    }
   ],
   "source": [
    "c = 25\n",
    "d = 30\n",
    "print(c<=d)"
   ]
  },
  {
   "cell_type": "code",
   "execution_count": 34,
   "id": "5864cb98-8937-41aa-9b11-53c60b782f17",
   "metadata": {},
   "outputs": [
    {
     "name": "stdout",
     "output_type": "stream",
     "text": [
      "False\n"
     ]
    }
   ],
   "source": [
    "p = 10\n",
    "q = 24\n",
    "print(p>=q)"
   ]
  },
  {
   "cell_type": "code",
   "execution_count": 32,
   "id": "e5cdc200-70a9-42d2-ae61-e4efd7375b67",
   "metadata": {},
   "outputs": [
    {
     "name": "stdout",
     "output_type": "stream",
     "text": [
      "True\n"
     ]
    }
   ],
   "source": [
    "a = 20\n",
    "b = 100\n",
    "print(a!= b)"
   ]
  },
  {
   "cell_type": "code",
   "execution_count": 7,
   "id": "257c8b1e-ff80-498e-8806-a95d464a3716",
   "metadata": {},
   "outputs": [
    {
     "name": "stdout",
     "output_type": "stream",
     "text": [
      "True\n"
     ]
    }
   ],
   "source": [
    "a = 20\n",
    "b = 10\n",
    "print(a!= b)"
   ]
  },
  {
   "cell_type": "code",
   "execution_count": 3,
   "id": "a416c757-a99a-4cb6-99d2-bd3ca819aefe",
   "metadata": {},
   "outputs": [
    {
     "name": "stdout",
     "output_type": "stream",
     "text": [
      "False\n"
     ]
    }
   ],
   "source": [
    "a = 29\n",
    "b = 20\n",
    "print( a <=b )"
   ]
  },
  {
   "cell_type": "code",
   "execution_count": 8,
   "id": "6d965512-193f-4cb5-8150-871aa5cf6d9a",
   "metadata": {},
   "outputs": [
    {
     "name": "stdout",
     "output_type": "stream",
     "text": [
      "nice\n"
     ]
    }
   ],
   "source": [
    "x = 25 \n",
    "if x == 25:\n",
    "    print(\"nice\")    \n",
    "\n",
    "else : \n",
    "     print(\"not nice\")\n"
   ]
  },
  {
   "cell_type": "code",
   "execution_count": 24,
   "id": "dbaa155d-b330-49bc-98c8-b508f2095a33",
   "metadata": {},
   "outputs": [
    {
     "name": "stdout",
     "output_type": "stream",
     "text": [
      "good\n"
     ]
    }
   ],
   "source": [
    "x = 25 \n",
    "if x <= 30:\n",
    "    print(\"good\")\n",
    "else :\n",
    "    print(\"not good\")"
   ]
  },
  {
   "cell_type": "code",
   "execution_count": 25,
   "id": "23b59664-0808-4870-8ba6-5794658460a0",
   "metadata": {},
   "outputs": [
    {
     "name": "stdout",
     "output_type": "stream",
     "text": [
      "not good\n"
     ]
    }
   ],
   "source": [
    "x = 100\n",
    "if x >= 200:\n",
    "    print(\"good\")\n",
    "else: \n",
    "    print(\"not good\")"
   ]
  },
  {
   "cell_type": "markdown",
   "id": "aee4e443-798c-43da-9a61-b318da3fa619",
   "metadata": {},
   "source": [
    "### 3. Python logical operators-"
   ]
  },
  {
   "cell_type": "markdown",
   "id": "eedc85cb-64c0-4a73-bd5a-0a414264a689",
   "metadata": {},
   "source": [
    "* Python logical operators are used to combine conditional statement.\n",
    "* there are 3 logical operators named as - and, or, not .\n"
   ]
  },
  {
   "cell_type": "code",
   "execution_count": 26,
   "id": "ac4c504b-fe09-4448-b5bd-9ad2cdb0c053",
   "metadata": {},
   "outputs": [
    {
     "data": {
      "text/plain": [
       "True"
      ]
     },
     "execution_count": 26,
     "metadata": {},
     "output_type": "execute_result"
    }
   ],
   "source": [
    "a = True\n",
    "b = True\n",
    "a and b "
   ]
  },
  {
   "cell_type": "code",
   "execution_count": 27,
   "id": "62646f69-dacc-4959-aa3e-7a8c1c98da37",
   "metadata": {},
   "outputs": [
    {
     "data": {
      "text/plain": [
       "False"
      ]
     },
     "execution_count": 27,
     "metadata": {},
     "output_type": "execute_result"
    }
   ],
   "source": [
    "a = True \n",
    "b = False\n",
    "a and b "
   ]
  },
  {
   "cell_type": "code",
   "execution_count": 30,
   "id": "d5527a00-ade9-4bf2-bf5e-13dfb8fbe00c",
   "metadata": {},
   "outputs": [
    {
     "data": {
      "text/plain": [
       "True"
      ]
     },
     "execution_count": 30,
     "metadata": {},
     "output_type": "execute_result"
    }
   ],
   "source": [
    "True and True "
   ]
  },
  {
   "cell_type": "code",
   "execution_count": 31,
   "id": "ac410b29-a17e-48ae-9517-c4a1cb98e9d1",
   "metadata": {},
   "outputs": [
    {
     "data": {
      "text/plain": [
       "False"
      ]
     },
     "execution_count": 31,
     "metadata": {},
     "output_type": "execute_result"
    }
   ],
   "source": [
    "True and False"
   ]
  },
  {
   "cell_type": "code",
   "execution_count": 33,
   "id": "9ca9a953-b57d-49eb-b062-a6f6b75cf15d",
   "metadata": {},
   "outputs": [
    {
     "data": {
      "text/plain": [
       "False"
      ]
     },
     "execution_count": 33,
     "metadata": {},
     "output_type": "execute_result"
    }
   ],
   "source": [
    "False and False"
   ]
  },
  {
   "cell_type": "code",
   "execution_count": 36,
   "id": "73ba1bf3-5340-42ba-8968-15083927cedb",
   "metadata": {},
   "outputs": [
    {
     "data": {
      "text/plain": [
       "True"
      ]
     },
     "execution_count": 36,
     "metadata": {},
     "output_type": "execute_result"
    }
   ],
   "source": [
    "True "
   ]
  },
  {
   "cell_type": "code",
   "execution_count": 37,
   "id": "e4743a0e-c125-4329-a9ce-e53ebf3a14fa",
   "metadata": {},
   "outputs": [
    {
     "data": {
      "text/plain": [
       "False"
      ]
     },
     "execution_count": 37,
     "metadata": {},
     "output_type": "execute_result"
    }
   ],
   "source": [
    "a = 20 \n",
    "not a"
   ]
  },
  {
   "cell_type": "code",
   "execution_count": 39,
   "id": "cbdb8bf3-28ec-46e6-82a8-4295b1431d3a",
   "metadata": {},
   "outputs": [
    {
     "data": {
      "text/plain": [
       "False"
      ]
     },
     "execution_count": 39,
     "metadata": {},
     "output_type": "execute_result"
    }
   ],
   "source": [
    "b = 10\n",
    "not b "
   ]
  },
  {
   "cell_type": "code",
   "execution_count": 40,
   "id": "554bd601-635e-4f7b-a0ab-2660a97d073f",
   "metadata": {},
   "outputs": [
    {
     "data": {
      "text/plain": [
       "True"
      ]
     },
     "execution_count": 40,
     "metadata": {},
     "output_type": "execute_result"
    }
   ],
   "source": [
    "a = False\n",
    "not a\n"
   ]
  },
  {
   "cell_type": "code",
   "execution_count": 41,
   "id": "364d25e0-ac98-4822-8a89-b1cf4195e085",
   "metadata": {},
   "outputs": [
    {
     "data": {
      "text/plain": [
       "True"
      ]
     },
     "execution_count": 41,
     "metadata": {},
     "output_type": "execute_result"
    }
   ],
   "source": [
    "a = None\n",
    "not a"
   ]
  },
  {
   "cell_type": "markdown",
   "id": "dd584f80-3256-4041-98b8-46c2d5ebbe38",
   "metadata": {},
   "source": [
    "### 4. assignment operators (=)\n",
    " * *= , += , -= "
   ]
  },
  {
   "cell_type": "code",
   "execution_count": 62,
   "id": "73732ee6-594e-4b68-ade9-a715a64d547b",
   "metadata": {},
   "outputs": [
    {
     "name": "stdout",
     "output_type": "stream",
     "text": [
      "30\n"
     ]
    }
   ],
   "source": [
    " a = 5\n",
    "a*= 6\n",
    "print(a)"
   ]
  },
  {
   "cell_type": "code",
   "execution_count": 63,
   "id": "c6725a35-c529-49e7-a6c8-611cb2204878",
   "metadata": {},
   "outputs": [
    {
     "name": "stdout",
     "output_type": "stream",
     "text": [
      "12\n"
     ]
    }
   ],
   "source": [
    "a = 10\n",
    "a+= 2\n",
    "print(a)"
   ]
  },
  {
   "cell_type": "code",
   "execution_count": 64,
   "id": "5fffc6e1-b384-4715-a938-63f9aba7a136",
   "metadata": {},
   "outputs": [
    {
     "name": "stdout",
     "output_type": "stream",
     "text": [
      "10\n"
     ]
    }
   ],
   "source": [
    "b = 20\n",
    "b-= 10\n",
    "print(b)"
   ]
  },
  {
   "cell_type": "code",
   "execution_count": 65,
   "id": "76b65c0a-61c8-4cc8-a6a7-0f590b78ac27",
   "metadata": {},
   "outputs": [
    {
     "name": "stdout",
     "output_type": "stream",
     "text": [
      "100\n"
     ]
    }
   ],
   "source": [
    " p = 20 \n",
    " p *= 5\n",
    "print(p)"
   ]
  },
  {
   "cell_type": "code",
   "execution_count": 88,
   "id": "c3394251-f76e-46a2-86ed-76de6589fe9d",
   "metadata": {},
   "outputs": [
    {
     "name": "stdout",
     "output_type": "stream",
     "text": [
      "4\n"
     ]
    }
   ],
   "source": [
    "a = 2\n",
    "a*= 2\n",
    "print(a)\n"
   ]
  },
  {
   "cell_type": "code",
   "execution_count": 3,
   "id": "f9f114b9-585d-4b8a-abde-5f7f86b72fe1",
   "metadata": {},
   "outputs": [
    {
     "name": "stdout",
     "output_type": "stream",
     "text": [
      "130\n"
     ]
    }
   ],
   "source": [
    "a = 100\n",
    "b = 10\n",
    "b += 20\n",
    "print(a + b)\n"
   ]
  },
  {
   "cell_type": "code",
   "execution_count": 5,
   "id": "df1ce2c2-e1b4-4691-87f8-d6eb59308143",
   "metadata": {},
   "outputs": [
    {
     "name": "stdout",
     "output_type": "stream",
     "text": [
      "110\n"
     ]
    }
   ],
   "source": [
    "a = 100\n",
    "b = 10\n",
    "print(a + b)"
   ]
  },
  {
   "cell_type": "code",
   "execution_count": null,
   "id": "e82195e2-aa56-44f8-a866-4b3d32e1a86c",
   "metadata": {},
   "outputs": [],
   "source": []
  },
  {
   "cell_type": "code",
   "execution_count": null,
   "id": "50f0dd63-35d9-4281-b0f1-3c10e1379858",
   "metadata": {},
   "outputs": [],
   "source": []
  },
  {
   "cell_type": "markdown",
   "id": "79d42a0f-0f11-4abc-b6ad-57d5c8f6550b",
   "metadata": {},
   "source": [
    "### 5. Identity operators in python "
   ]
  },
  {
   "cell_type": "markdown",
   "id": "9f4ef7f9-5671-4ea8-9bfd-8087c865c798",
   "metadata": {},
   "source": [
    "In python  is and not are the identity operators , both are used to check , if 2  vaiables are used  in same memory part.\n",
    "if 2 variables are eqUAL it doesnot mean they are identical.\n"
   ]
  },
  {
   "cell_type": "code",
   "execution_count": 42,
   "id": "c7076533-2408-4a10-ab02-f481692bf5b6",
   "metadata": {},
   "outputs": [
    {
     "name": "stdout",
     "output_type": "stream",
     "text": [
      "140716887882184\n"
     ]
    }
   ],
   "source": [
    "a = 50 \n",
    "print(id(a))"
   ]
  },
  {
   "cell_type": "code",
   "execution_count": 43,
   "id": "a08e6a01-ef2c-4e41-a647-3389595ecef8",
   "metadata": {},
   "outputs": [
    {
     "name": "stdout",
     "output_type": "stream",
     "text": [
      "140716887882184\n"
     ]
    }
   ],
   "source": [
    " b = 50 \n",
    " print( id (b))"
   ]
  },
  {
   "cell_type": "code",
   "execution_count": 9,
   "id": "0f1f0550-0e8f-4313-ac94-28a4fa4a5d36",
   "metadata": {},
   "outputs": [
    {
     "name": "stdout",
     "output_type": "stream",
     "text": [
      "140728880444936\n",
      "140728880444616\n"
     ]
    },
    {
     "data": {
      "text/plain": [
       "True"
      ]
     },
     "execution_count": 9,
     "metadata": {},
     "output_type": "execute_result"
    }
   ],
   "source": [
    "x = 90\n",
    "y = 90\n",
    "print(id(a))\n",
    "print(id(b))\n",
    "\n",
    "x is y"
   ]
  },
  {
   "cell_type": "code",
   "execution_count": 61,
   "id": "079f6348-edad-472d-91c8-2fdfcf9330a0",
   "metadata": {},
   "outputs": [
    {
     "name": "stdout",
     "output_type": "stream",
     "text": [
      "2491653920976\n",
      "2491653917072\n"
     ]
    }
   ],
   "source": [
    "a = 102500\n",
    "b =  281930.20\n",
    "print(id(a))\n",
    "print(id( b))"
   ]
  },
  {
   "cell_type": "code",
   "execution_count": 57,
   "id": "4ef7a328-6609-4d01-9090-fcab68f6cfdb",
   "metadata": {},
   "outputs": [
    {
     "name": "stdout",
     "output_type": "stream",
     "text": [
      "140716887880904\n",
      "140716887881224\n"
     ]
    },
    {
     "data": {
      "text/plain": [
       "True"
      ]
     },
     "execution_count": 57,
     "metadata": {},
     "output_type": "execute_result"
    }
   ],
   "source": [
    "a = 10\n",
    "b = 20\n",
    "print(id(a))\n",
    "print(id (b))\n",
    "a  is not b"
   ]
  },
  {
   "cell_type": "code",
   "execution_count": null,
   "id": "4f18d09d-4869-41bc-b4a9-5cb2702e6e62",
   "metadata": {},
   "outputs": [],
   "source": []
  },
  {
   "cell_type": "code",
   "execution_count": null,
   "id": "b18b3876-451a-4986-bc50-c1ab02cdf158",
   "metadata": {},
   "outputs": [],
   "source": []
  },
  {
   "cell_type": "code",
   "execution_count": 3,
   "id": "f02b1fab-cc40-4174-9a51-33f3e915b018",
   "metadata": {},
   "outputs": [
    {
     "name": "stdin",
     "output_type": "stream",
     "text": [
      "1: lemon\n",
      "2: tea leave\n",
      "3: water\n",
      "4: milk\n",
      "5: ginger\n",
      "user choice lemon + tea leave+ water\n"
     ]
    },
    {
     "name": "stdout",
     "output_type": "stream",
     "text": [
      "green tea\n"
     ]
    }
   ],
   "source": [
    "choice1 = input( \"1:\")  \n",
    "choice2 = input(\"2:\")     \n",
    "choice3 = input(\"3:\")\n",
    "choice4 = input(\"4:\")\n",
    "choice5 = input(\"5:\")\n",
    "ing = input(\"user choice\")\n",
    "if ing == lemon + tea leave + water:\n",
    "     print(\"Lemon tea\")\n",
    "elif ing== tea leave+ water + milk + ginger:\n",
    "     print(\"masala tea\") \n",
    "else : \n",
    "    print(\"green tea\")"
   ]
  },
  {
   "cell_type": "markdown",
   "id": "54cbaf68-c318-4808-9b6f-b5c3992f59f9",
   "metadata": {},
   "source": []
  },
  {
   "cell_type": "code",
   "execution_count": null,
   "id": "56a08a5d-c6a8-4c11-bfca-50625f9801c4",
   "metadata": {},
   "outputs": [],
   "source": []
  },
  {
   "cell_type": "code",
   "execution_count": null,
   "id": "4ab96621-2173-4af5-8b2d-a123b2305374",
   "metadata": {},
   "outputs": [],
   "source": []
  }
 ],
 "metadata": {
  "kernelspec": {
   "display_name": "Python [conda env:base] *",
   "language": "python",
   "name": "conda-base-py"
  },
  "language_info": {
   "codemirror_mode": {
    "name": "ipython",
    "version": 3
   },
   "file_extension": ".py",
   "mimetype": "text/x-python",
   "name": "python",
   "nbconvert_exporter": "python",
   "pygments_lexer": "ipython3",
   "version": "3.13.5"
  }
 },
 "nbformat": 4,
 "nbformat_minor": 5
}
