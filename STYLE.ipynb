{
 "cells": [
  {
   "cell_type": "markdown",
   "id": "16816563-5eff-4f6e-8b36-8a3d1d0eb5c7",
   "metadata": {},
   "source": [
    "# ***STYLE \n"
   ]
  },
  {
   "cell_type": "markdown",
   "id": "8d468c0a-9886-4641-b861-bbbe23f1f70c",
   "metadata": {},
   "source": [
    "# 1. Comments-"
   ]
  },
  {
   "cell_type": "markdown",
   "id": "a03b0120-5c76-48c1-961b-4aeff1b84998",
   "metadata": {},
   "source": [
    "#Data science\n",
    "## Hello world\n",
    "### Python \n",
    "#### analytics"
   ]
  },
  {
   "cell_type": "code",
   "execution_count": 1,
   "id": "e69aebc1-ccd6-4255-9217-da51636ab5df",
   "metadata": {},
   "outputs": [
    {
     "data": {
      "text/plain": [
       "'This is a easy high-level pragramming language.'"
      ]
     },
     "execution_count": 1,
     "metadata": {},
     "output_type": "execute_result"
    }
   ],
   "source": [
    "\"\"\"This is a easy high-level pragramming language.\"\"\""
   ]
  },
  {
   "cell_type": "markdown",
   "id": "bc34c8b7-2312-4a92-b397-6245b56d61dd",
   "metadata": {},
   "source": [
    "*HELLO*  **WORLD**  ***PYTHON***"
   ]
  },
  {
   "cell_type": "markdown",
   "id": "9c314740-1a48-4ca9-a8c0-4f46cdcc33ad",
   "metadata": {},
   "source": [
    "*DATA* \n",
    "**SCIENCE** \n",
    "***PYTHON***"
   ]
  },
  {
   "cell_type": "markdown",
   "id": "94445c10-f386-4ff1-961f-4658a4dc6f5c",
   "metadata": {},
   "source": [
    "# *DATA*\n",
    "# **SCIENCE**\n",
    "# ***PYTHON***"
   ]
  },
  {
   "cell_type": "markdown",
   "id": "5d677013-5762-4eeb-98c4-78ebf6ee942e",
   "metadata": {},
   "source": [
    "# *DATA*\n",
    "## **SCIENCE**\n",
    " ### ***PYTHON***"
   ]
  },
  {
   "cell_type": "markdown",
   "id": "60a6ff9a-a903-4691-b594-ea25cd149523",
   "metadata": {},
   "source": [
    "# I'm from **Bageshwar.**\n",
    "### I'm from ***Bageshwar***"
   ]
  },
  {
   "cell_type": "code",
   "execution_count": 2,
   "id": "6c6d5cd1-fcab-44ed-98ec-52007d86ec23",
   "metadata": {},
   "outputs": [
    {
     "name": "stdout",
     "output_type": "stream",
     "text": [
      "my name is: sona I'm: 20 years old my score is: 9.5\n"
     ]
    }
   ],
   "source": [
    "name =\"sona\"\n",
    "age = 20\n",
    "score = 9.5\n",
    "print(\"my name is:\",name,\"I'm:\" ,age , \"years old\", \"my score is:\",score)"
   ]
  },
  {
   "cell_type": "markdown",
   "id": "80a2a056-e5ed-4148-8b80-34cc03b6e709",
   "metadata": {},
   "source": [
    "# 2. BOLD -"
   ]
  },
  {
   "cell_type": "markdown",
   "id": "a940391a-3a59-4202-ae3e-2ab887163772",
   "metadata": {},
   "source": [
    "<b> python is easy language."
   ]
  },
  {
   "cell_type": "markdown",
   "id": "85c11751-088a-4b66-8812-ee0fdd3d2064",
   "metadata": {},
   "source": [
    "**python is easy language.**"
   ]
  },
  {
   "cell_type": "markdown",
   "id": "99405fa0-e972-49ad-85b3-aad4374b7021",
   "metadata": {},
   "source": [
    "__python is easy language.__"
   ]
  },
  {
   "cell_type": "markdown",
   "id": "697c0197-b3c7-4882-8a6c-228e94ea6016",
   "metadata": {},
   "source": [
    "# 3. *ITALIC-*"
   ]
  },
  {
   "cell_type": "markdown",
   "id": "649757dd-04cd-43de-ba24-62fa8493dd78",
   "metadata": {},
   "source": [
    "*Python is a high level programming language.*"
   ]
  },
  {
   "cell_type": "markdown",
   "id": "03050739-3fd8-49fd-a701-a6abe9c4a3b1",
   "metadata": {},
   "source": [
    "_Python is a high level programming language._"
   ]
  },
  {
   "cell_type": "markdown",
   "id": "b2ab1ab8-fca5-4d63-ac29-e813159bee2d",
   "metadata": {},
   "source": [
    "# 4. BULLETS-"
   ]
  },
  {
   "cell_type": "markdown",
   "id": "7fe19ac1-7160-49ad-b687-da4c4153f9fd",
   "metadata": {},
   "source": [
    "- PYTHON\n",
    "- DATA SCIENCE\n",
    "    - PROGRAMMING"
   ]
  },
  {
   "cell_type": "markdown",
   "id": "e0b24d7e-1dc8-4a10-a635-acbaee9968d8",
   "metadata": {},
   "source": [
    "# 5. NUMBERED LISTS-"
   ]
  },
  {
   "cell_type": "markdown",
   "id": "0cc19ba0-68bb-4fa2-9022-171f2b3da396",
   "metadata": {},
   "source": [
    "1. JUPYTER\n",
    "2. PYCHARM\n",
    "3. SPYDER\n",
    "4. VS-CODE\n",
    "5. IDLE\n",
    "   "
   ]
  },
  {
   "cell_type": "markdown",
   "id": "4b18a200-abdf-43ef-8431-ade64bb02919",
   "metadata": {},
   "source": [
    "# 6. Mathematical symbols-\n",
    "$/$ 500 $-$ 5 $*$ 10 $/$ 100 $=$ ?\n"
   ]
  },
  {
   "cell_type": "markdown",
   "id": "077c367f-55c8-4433-87c4-4d67f613554c",
   "metadata": {},
   "source": [
    "# 7. Indented quoting-"
   ]
  },
  {
   "cell_type": "markdown",
   "id": "a206781b-920f-41c8-beee-729451ad1d23",
   "metadata": {},
   "source": [
    "> python <br>\n",
    "> java\n",
    "\n",
    "> data science<br>\n",
    ">programmimg"
   ]
  },
  {
   "cell_type": "markdown",
   "id": "431e78c7-1218-4c22-97c1-9a836fda7d77",
   "metadata": {},
   "source": [
    "# 8. Line breaks-"
   ]
  },
  {
   "cell_type": "markdown",
   "id": "f90299d3-4b52-48ed-9dc6-344683e2c9be",
   "metadata": {},
   "source": [
    "line <br>break"
   ]
  },
  {
   "cell_type": "markdown",
   "id": "8c82f51d-700a-4c0b-ba7a-a5a10bb686fe",
   "metadata": {},
   "source": [
    "# 9. Image-"
   ]
  },
  {
   "cell_type": "markdown",
   "id": "e66849bc-6844-4834-9409-6e50dc919b52",
   "metadata": {},
   "source": [
    "![download.png](attachment:download.png)"
   ]
  },
  {
   "cell_type": "markdown",
   "id": "76509588-086a-4b08-9795-196afbd73736",
   "metadata": {},
   "source": [
    "# 10. Colors-"
   ]
  },
  {
   "cell_type": "markdown",
   "id": "57e3db53-46fb-4890-a7cf-b962ce7e1395",
   "metadata": {},
   "source": [
    "<font color = blue> Python is easy.</font> \n"
   ]
  },
  {
   "cell_type": "markdown",
   "id": "959f5232-a049-4dae-afc5-12569e535e55",
   "metadata": {},
   "source": [
    "<font color = green> Data science.</font>"
   ]
  },
  {
   "cell_type": "markdown",
   "id": "75df71db-2867-42f8-a132-788690e1fe35",
   "metadata": {},
   "source": [
    "<font color = yellow > hello world programming</font>"
   ]
  },
  {
   "cell_type": "markdown",
   "id": "dcd68352-779b-4bd6-a1f1-64f81768b0b5",
   "metadata": {},
   "source": [
    "<font color = yellow > hello world programming"
   ]
  },
  {
   "cell_type": "markdown",
   "id": "05be7611-28bb-4ae5-9121-a4b381b1029e",
   "metadata": {},
   "source": [
    "# 11. Links-"
   ]
  },
  {
   "cell_type": "markdown",
   "id": "bc0c1b52-b860-4901-aa19-4e2f0e75d8cc",
   "metadata": {},
   "source": [
    "[click here to google](https://www.google.com/)"
   ]
  },
  {
   "cell_type": "code",
   "execution_count": null,
   "id": "0cfe8dce-a8c2-4f81-9a33-c47594bcc809",
   "metadata": {},
   "outputs": [],
   "source": []
  }
 ],
 "metadata": {
  "kernelspec": {
   "display_name": "Python [conda env:base] *",
   "language": "python",
   "name": "conda-base-py"
  },
  "language_info": {
   "codemirror_mode": {
    "name": "ipython",
    "version": 3
   },
   "file_extension": ".py",
   "mimetype": "text/x-python",
   "name": "python",
   "nbconvert_exporter": "python",
   "pygments_lexer": "ipython3",
   "version": "3.13.5"
  }
 },
 "nbformat": 4,
 "nbformat_minor": 5
}
