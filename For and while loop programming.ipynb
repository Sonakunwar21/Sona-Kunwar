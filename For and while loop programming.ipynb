{
 "cells": [
  {
   "cell_type": "markdown",
   "id": "1e25ac7f-21fc-4589-a06f-6038f24bd5fb",
   "metadata": {},
   "source": [
    "## Basic for loop in Python -"
   ]
  },
  {
   "cell_type": "markdown",
   "id": "bc7f64a0-3404-4024-98be-d866c72acfb8",
   "metadata": {},
   "source": [
    " a for loop is used to repeat a block of code a specific number of time,or for each item in sequence (like a list,string,etc.). "
   ]
  },
  {
   "cell_type": "code",
   "execution_count": 2,
   "id": "c1c3fb1f-886e-4f19-a43a-71b92949d90c",
   "metadata": {},
   "outputs": [],
   "source": [
    "#Syntax \n",
    "\n",
    "#for variable in sequence:\n",
    "    #code block(indented)"
   ]
  },
  {
   "cell_type": "code",
   "execution_count": 5,
   "id": "4efeec4e-5342-4380-89fe-5e1d9599ccbf",
   "metadata": {},
   "outputs": [
    {
     "name": "stdout",
     "output_type": "stream",
     "text": [
      "apple banana cherry "
     ]
    }
   ],
   "source": [
    "# example 1\n",
    "fruits = [\"apple\", \"banana\",\"cherry\"]\n",
    "for fruit in fruits:\n",
    "    print(fruit,end=\" \")"
   ]
  },
  {
   "cell_type": "code",
   "execution_count": 6,
   "id": "ebbf0e95-115c-47ae-b08f-09822a3f127a",
   "metadata": {},
   "outputs": [
    {
     "name": "stdout",
     "output_type": "stream",
     "text": [
      "apple\n",
      "banana\n",
      "cherry\n"
     ]
    }
   ],
   "source": [
    "\n",
    "fruits = [\"apple\", \"banana\",\"cherry\"]\n",
    "for fruit in fruits:\n",
    "    print(fruit)"
   ]
  },
  {
   "cell_type": "code",
   "execution_count": 8,
   "id": "e43b6fac-d882-416a-98d1-9df25c7e46eb",
   "metadata": {},
   "outputs": [
    {
     "name": "stdout",
     "output_type": "stream",
     "text": [
      "23\n",
      "43\n",
      "90\n",
      "20\n"
     ]
    }
   ],
   "source": [
    "numbers =[ 23,43,90,20]\n",
    "for num in numbers:\n",
    "    print(num)"
   ]
  },
  {
   "cell_type": "code",
   "execution_count": 1,
   "id": "7652ffb2-332f-49bd-b9af-3be798a42107",
   "metadata": {},
   "outputs": [
    {
     "name": "stdout",
     "output_type": "stream",
     "text": [
      "23\n",
      "43\n",
      "90\n",
      "20\n"
     ]
    }
   ],
   "source": [
    "numbers =[ 23,43,90,20]\n",
    "for i in numbers:\n",
    "    print(i) "
   ]
  },
  {
   "cell_type": "code",
   "execution_count": 3,
   "id": "90369544-c3a4-4275-a980-b355ad7a6b02",
   "metadata": {},
   "outputs": [
    {
     "name": "stdout",
     "output_type": "stream",
     "text": [
      "apple $$ banana $$ cherry $$ "
     ]
    }
   ],
   "source": [
    "fruits = [\"apple\", \"banana\",\"cherry\"]\n",
    "for fruit in fruits:\n",
    "    print(fruit,end=\" $$ \")"
   ]
  },
  {
   "cell_type": "code",
   "execution_count": 4,
   "id": "6ea671a2-6b0c-42e9-ba15-4d7d9dea89a9",
   "metadata": {},
   "outputs": [
    {
     "name": "stdout",
     "output_type": "stream",
     "text": [
      "apple\n",
      "banana\n",
      "cherry\n"
     ]
    }
   ],
   "source": [
    "fruits = [\"apple\", \"banana\",\"cherry\"]\n",
    "for fruit in fruits:\n",
    "    print(fruit,end=\"\\n\")"
   ]
  },
  {
   "cell_type": "code",
   "execution_count": 7,
   "id": "cf2a7c17-4aa6-4c11-9b9f-9109f931bca3",
   "metadata": {},
   "outputs": [
    {
     "name": "stdout",
     "output_type": "stream",
     "text": [
      "apple,banana,cherry,"
     ]
    }
   ],
   "source": [
    "fruits = [\"apple\", \"banana\",\"cherry\"]\n",
    "for fruit in fruits:\n",
    "    print(fruit,end=\",\")"
   ]
  },
  {
   "cell_type": "code",
   "execution_count": 8,
   "id": "5a7e905b-e058-403c-bcb7-0fdc8efeef85",
   "metadata": {},
   "outputs": [
    {
     "name": "stdout",
     "output_type": "stream",
     "text": [
      "apple\tbanana\tcherry\t"
     ]
    }
   ],
   "source": [
    "fruits = [\"apple\", \"banana\",\"cherry\"]\n",
    "for fruit in fruits:\n",
    "    print(fruit,end=\"\\t\")"
   ]
  },
  {
   "cell_type": "code",
   "execution_count": 10,
   "id": "e80831bd-322c-40b4-9067-fc4395192182",
   "metadata": {},
   "outputs": [
    {
     "name": "stdout",
     "output_type": "stream",
     "text": [
      "apple=sweet\n",
      "banana=sweet\n",
      "cherry=sweet\n"
     ]
    }
   ],
   "source": [
    "fruits = [\"apple\", \"banana\",\"cherry\"]\n",
    "for fruit in fruits:\n",
    "    print(fruit,end=\"=sweet\\n\")"
   ]
  },
  {
   "cell_type": "code",
   "execution_count": 13,
   "id": "db7ea8b6-9efd-4bad-a94a-d7527944a78e",
   "metadata": {},
   "outputs": [
    {
     "name": "stdout",
     "output_type": "stream",
     "text": [
      "apple\n",
      "banana\n",
      "cherry\n"
     ]
    }
   ],
   "source": [
    "fruits = (\"apple,banana,cherry\").split(\",\")\n",
    "for fruit in fruits:\n",
    "    print(fruit,end=\"\\n\")"
   ]
  },
  {
   "cell_type": "code",
   "execution_count": null,
   "id": "fe70f77b-5baa-42b7-8aea-89fed2f477db",
   "metadata": {},
   "outputs": [],
   "source": []
  },
  {
   "cell_type": "markdown",
   "id": "65996458-7a91-4400-be51-d04474067f1e",
   "metadata": {},
   "source": [
    "using range() with for loop \n",
    "range (start,stop, step) is often used with for to repeat something multiple times "
   ]
  },
  {
   "cell_type": "code",
   "execution_count": 3,
   "id": "6e91d378-8708-401c-91cb-c4b836126c70",
   "metadata": {},
   "outputs": [],
   "source": [
    "for i in range (134,25,2):\n",
    "    print(i)"
   ]
  },
  {
   "cell_type": "code",
   "execution_count": 5,
   "id": "c2d102de-8713-4810-9a99-d6171355c864",
   "metadata": {},
   "outputs": [
    {
     "name": "stdout",
     "output_type": "stream",
     "text": [
      "0\n",
      "1\n",
      "2\n",
      "3\n",
      "4\n",
      "5\n"
     ]
    }
   ],
   "source": [
    "for i in range(6):\n",
    "    print(i) "
   ]
  },
  {
   "cell_type": "code",
   "execution_count": 6,
   "id": "c8e7ce07-706f-4c61-9fe8-60ad80c23ab4",
   "metadata": {},
   "outputs": [
    {
     "name": "stdout",
     "output_type": "stream",
     "text": [
      "0\n",
      "1\n",
      "2\n",
      "3\n",
      "4\n",
      "5\n",
      "6\n"
     ]
    }
   ],
   "source": [
    "i =2\n",
    "for i in range(7):\n",
    "    print(i)"
   ]
  },
  {
   "cell_type": "markdown",
   "id": "c8057b84-0ef2-4716-aab4-b5af26f0e533",
   "metadata": {},
   "source": [
    " ## Nested for loop-"
   ]
  },
  {
   "cell_type": "markdown",
   "id": "b71bd71c-79d2-4ff0-8a8e-5cb7bade0f0f",
   "metadata": {},
   "source": [
    "A nested loop is when one for loop is inside another."
   ]
  },
  {
   "cell_type": "code",
   "execution_count": null,
   "id": "bfdb66b6-a9ef-4f2e-8599-c3b3263d1f84",
   "metadata": {},
   "outputs": [],
   "source": [
    "for i in outer_loop:\n",
    "    for j in inner_loop:\n",
    "        "
   ]
  },
  {
   "cell_type": "code",
   "execution_count": 10,
   "id": "6cea5218-a14a-454c-9159-7ad5f629cd2e",
   "metadata": {},
   "outputs": [],
   "source": [
    "# RANGE IS ITERABLE"
   ]
  },
  {
   "cell_type": "code",
   "execution_count": 9,
   "id": "55fe30f9-071f-4b79-bafe-d9a8382a7880",
   "metadata": {},
   "outputs": [
    {
     "name": "stdout",
     "output_type": "stream",
     "text": [
      "i=0,j =0\n",
      "i=0,j =1\n",
      "i=1,j =0\n",
      "i=1,j =1\n",
      "i=2,j =0\n",
      "i=2,j =1\n"
     ]
    }
   ],
   "source": [
    "for i in range(3):   #outer loop runs 3 times\n",
    "    for j in range(2):  # inner loop runs 2 times for each outer\n",
    "        print(f\"i={i},j ={j}\")"
   ]
  },
  {
   "cell_type": "code",
   "execution_count": 3,
   "id": "e39a67e4-827a-4a96-9f61-047fab992cfd",
   "metadata": {},
   "outputs": [
    {
     "name": "stdout",
     "output_type": "stream",
     "text": [
      "name name2 name3\n"
     ]
    }
   ],
   "source": [
    "list1 = \"name$name2$name3\"\n",
    "name,name2,name3 = list1.split(\"$\")\n",
    "print(name,name2,name3)"
   ]
  },
  {
   "cell_type": "code",
   "execution_count": 16,
   "id": "4572093c-6f80-485c-9b65-d29d61e852e1",
   "metadata": {},
   "outputs": [
    {
     "name": "stdout",
     "output_type": "stream",
     "text": [
      "j=0,k =0\n",
      "j=0,k =1\n",
      "j=1,k =0\n",
      "j=1,k =1\n",
      "j=2,k =0\n",
      "j=2,k =1\n",
      "j=3,k =0\n",
      "j=3,k =1\n",
      "j=4,k =0\n",
      "j=4,k =1\n"
     ]
    }
   ],
   "source": [
    "for j in range(5):\n",
    "    for k in range(2):  # inner loop runs 2 times for each outer\n",
    "        print(f\"j={j},k ={k}\")"
   ]
  },
  {
   "cell_type": "markdown",
   "id": "e45db3a0-ec81-416f-8a10-ca23b0a92b20",
   "metadata": {},
   "source": [
    "### Building loop skills"
   ]
  },
  {
   "cell_type": "code",
   "execution_count": 6,
   "id": "58d8f525-2d5d-454e-81f3-2e737f9468c9",
   "metadata": {},
   "outputs": [
    {
     "name": "stdout",
     "output_type": "stream",
     "text": [
      "me\n",
      "meme\n",
      "mememe\n",
      "memememe\n",
      "mememememe\n",
      "memememememe\n"
     ]
    }
   ],
   "source": [
    "# right angled triangle\n",
    "rows = 5\n",
    "\n",
    "for i in range(1, rows + 2):\n",
    "    print(\"me\" * i)"
   ]
  },
  {
   "cell_type": "code",
   "execution_count": 7,
   "id": "01ce6ccc-1754-42e9-ac2d-5c226b7dde28",
   "metadata": {},
   "outputs": [
    {
     "name": "stdout",
     "output_type": "stream",
     "text": [
      "2\n",
      "4\n",
      "6\n"
     ]
    }
   ],
   "source": [
    "rows = 5\n",
    "\n",
    "for i in range(2, rows + 3,2):\n",
    "    print( i)"
   ]
  },
  {
   "cell_type": "code",
   "execution_count": 10,
   "id": "d4486e83-703e-4b14-b872-8214795f0731",
   "metadata": {},
   "outputs": [
    {
     "name": "stdout",
     "output_type": "stream",
     "text": [
      "me\n",
      "meme\n",
      "mememe\n",
      "memememe\n",
      "mememememe\n"
     ]
    }
   ],
   "source": [
    "rows = 5\n",
    "\n",
    "for i in range(1, 6):\n",
    "    print(\"me\" * i)"
   ]
  },
  {
   "cell_type": "markdown",
   "id": "ad91e995-da48-4c40-99df-7a8c8a53c9c9",
   "metadata": {},
   "source": [
    "#the range is from 1 - 6 , therefore i has values \n",
    "* for i = 1 the output will be \"me\"*1\n",
    "* for i = 2 the output will be \"me\"*2= \"meme\"\n",
    "* for i = 2 the output will be \"me\"*3= \"mememe\"\n"
   ]
  },
  {
   "cell_type": "code",
   "execution_count": null,
   "id": "e185529d-5735-4fb1-9656-8c301117842d",
   "metadata": {},
   "outputs": [],
   "source": []
  },
  {
   "cell_type": "code",
   "execution_count": 40,
   "id": "00b335a3-1a81-4b26-8ff1-4d6f152fd95c",
   "metadata": {},
   "outputs": [
    {
     "name": "stdout",
     "output_type": "stream",
     "text": [
      "11\n",
      "21\n",
      "22\n",
      "31\n",
      "32\n",
      "33\n",
      "41\n",
      "42\n",
      "43\n",
      "44\n",
      "51\n",
      "52\n",
      "53\n",
      "54\n",
      "55\n"
     ]
    }
   ],
   "source": [
    "rows = 5 \n",
    "\n",
    "for i in range(1, rows +1):\n",
    "    for j in range(1,i+1):\n",
    "        print( i,end=\"\")\n",
    "        print(j)"
   ]
  },
  {
   "cell_type": "code",
   "execution_count": 11,
   "id": "137ed1fe",
   "metadata": {},
   "outputs": [
    {
     "name": "stdout",
     "output_type": "stream",
     "text": [
      "51\n",
      "52\n",
      "53\n",
      "54\n",
      "55\n"
     ]
    }
   ],
   "source": [
    "rows = 5 \n",
    "\n",
    "for i in range(1,6):\n",
    "    list1=[1,2,3,4,5]\n",
    "for j in range(1,i+1):\n",
    "        print( i,end=\"\")\n",
    "        print(j)"
   ]
  },
  {
   "cell_type": "code",
   "execution_count": 21,
   "id": "399eddc0-231c-42c1-be3a-7165c2b5da4f",
   "metadata": {},
   "outputs": [
    {
     "name": "stdout",
     "output_type": "stream",
     "text": [
      "11\n",
      "21\n",
      "22\n",
      "31\n",
      "32\n",
      "33\n"
     ]
    }
   ],
   "source": [
    "rows = 5 \n",
    "\n",
    "for i in range(1,4):\n",
    "    for j in range(1,i+1):\n",
    "        print( i,end=\"\")\n",
    "        print(j)"
   ]
  },
  {
   "cell_type": "code",
   "execution_count": 42,
   "id": "c4374130",
   "metadata": {},
   "outputs": [
    {
     "name": "stdout",
     "output_type": "stream",
     "text": [
      "1\n",
      "12\n",
      "123\n",
      "1234\n",
      "12345\n"
     ]
    }
   ],
   "source": [
    "rows = 5 \n",
    "\n",
    "for i in range(1, rows +1):\n",
    "    for j in range(1,i+1):\n",
    "        print(j,end=\"\")\n",
    "    print()"
   ]
  },
  {
   "cell_type": "code",
   "execution_count": null,
   "id": "d7c30bb1-91f1-4969-9e2f-a7ca4f65c235",
   "metadata": {},
   "outputs": [],
   "source": []
  },
  {
   "cell_type": "code",
   "execution_count": null,
   "id": "8f663366-17c9-4572-bde5-dd3b0fa4cb73",
   "metadata": {},
   "outputs": [],
   "source": []
  },
  {
   "cell_type": "code",
   "execution_count": 26,
   "id": "986ea7a7-80e3-41e0-973c-78cf0867ce29",
   "metadata": {},
   "outputs": [
    {
     "name": "stdout",
     "output_type": "stream",
     "text": [
      "1\n",
      "1\n",
      "2\n",
      "1\n",
      "2\n",
      "3\n",
      "1\n",
      "2\n",
      "3\n",
      "4\n",
      "1\n",
      "2\n",
      "3\n",
      "4\n",
      "5\n"
     ]
    }
   ],
   "source": [
    "rows = 5\n",
    "for i in range(1, rows +1):\n",
    "    for j in range(1,i+1):\n",
    "            print(j,end=\"\")\n",
    "            print()"
   ]
  },
  {
   "cell_type": "code",
   "execution_count": 19,
   "id": "7208d054-3b94-44a2-b5a8-3d2f49d433e3",
   "metadata": {},
   "outputs": [
    {
     "name": "stdout",
     "output_type": "stream",
     "text": [
      "1\n",
      "\n",
      "1\n",
      "2\n",
      "\n",
      "1\n",
      "2\n",
      "3\n",
      "\n",
      "1\n",
      "2\n",
      "3\n",
      "4\n",
      "\n",
      "1\n",
      "2\n",
      "3\n",
      "4\n",
      "5\n",
      "\n"
     ]
    }
   ],
   "source": [
    "rows = 5\n",
    "for i in range (1,rows +1):\n",
    "        for j in range(1,i+1):\n",
    "            print(j)\n",
    "        print()"
   ]
  },
  {
   "cell_type": "code",
   "execution_count": 21,
   "id": "579b22ac",
   "metadata": {},
   "outputs": [
    {
     "name": "stdout",
     "output_type": "stream",
     "text": [
      "1\n",
      "1\n",
      "\n",
      "2\n",
      "2\n",
      "2\n",
      "\n",
      "3\n",
      "3\n",
      "3\n",
      "3\n",
      "\n",
      "4\n",
      "4\n",
      "4\n",
      "4\n",
      "4\n",
      "\n",
      "5\n",
      "5\n",
      "5\n",
      "5\n",
      "5\n",
      "5\n",
      "\n"
     ]
    }
   ],
   "source": [
    "rows = 5\n",
    "for i in range (1,rows +1):\n",
    "        for j in range(0,i+1):\n",
    "            print(i)\n",
    "        print()"
   ]
  },
  {
   "cell_type": "code",
   "execution_count": 49,
   "id": "df4117dd-1876-4855-9d22-84fd5c40b79e",
   "metadata": {},
   "outputs": [
    {
     "name": "stdout",
     "output_type": "stream",
     "text": [
      "23\n",
      "234\n",
      "2345\n",
      "23456\n"
     ]
    }
   ],
   "source": [
    "rows = 5\n",
    "for i in range (3,7):\n",
    "    for j in range(2,i+1):\n",
    "        print(j,end=\"\")\n",
    "    print()\n",
    "        "
   ]
  },
  {
   "cell_type": "code",
   "execution_count": 29,
   "id": "0a08a80d-c92a-42f7-84af-8077bd873abd",
   "metadata": {},
   "outputs": [
    {
     "name": "stdout",
     "output_type": "stream",
     "text": [
      "1\n",
      "1\n",
      "\n",
      "2\n",
      "2\n",
      "2\n",
      "\n",
      "3\n",
      "3\n",
      "3\n",
      "3\n",
      "\n",
      "4\n",
      "4\n",
      "4\n",
      "4\n",
      "4\n",
      "\n",
      "5\n",
      "5\n",
      "5\n",
      "5\n",
      "5\n",
      "5\n",
      "\n"
     ]
    }
   ],
   "source": [
    "rows = 5\n",
    "for i in range (1,rows +1):\n",
    "        for j in range(0,i+1):\n",
    "            print(i)\n",
    "        print() "
   ]
  },
  {
   "cell_type": "code",
   "execution_count": 2,
   "id": "512e39a7",
   "metadata": {},
   "outputs": [
    {
     "name": "stdout",
     "output_type": "stream",
     "text": [
      "2345\n",
      "23456\n",
      "234567\n",
      "2345678\n",
      "23456789\n"
     ]
    }
   ],
   "source": [
    "rows = 5\n",
    "for i in range (5,10):\n",
    "    for j in range(2,i+1):\n",
    "        print(j,end=\"\")\n",
    "    print()\n",
    "        "
   ]
  },
  {
   "cell_type": "code",
   "execution_count": 54,
   "id": "812a81af",
   "metadata": {},
   "outputs": [
    {
     "name": "stdout",
     "output_type": "stream",
     "text": [
      "1234\n",
      "12345\n",
      "123456\n",
      "1234567\n",
      "12345678\n",
      "123456789\n"
     ]
    }
   ],
   "source": [
    "rows = 5\n",
    "for i in range (4,10):\n",
    "    for j in range(1,i+1):\n",
    "        print(j,end=\"\")\n",
    "    print()\n",
    "        "
   ]
  },
  {
   "cell_type": "code",
   "execution_count": 63,
   "id": "448ae9b9",
   "metadata": {},
   "outputs": [
    {
     "name": "stdout",
     "output_type": "stream",
     "text": [
      "ababab\n",
      "abababababab\n",
      "abababababababababab\n",
      "ababababababababababababababab\n",
      "ababababababababababababababababababababab\n"
     ]
    }
   ],
   "source": [
    "rows = 5\n",
    "for i in range (2,7):\n",
    "    for j in range(0,i+1):\n",
    "        print(\"ab\"*j,end=\"\")\n",
    "    print()"
   ]
  },
  {
   "cell_type": "code",
   "execution_count": 62,
   "id": "0aaab88e",
   "metadata": {},
   "outputs": [
    {
     "name": "stdout",
     "output_type": "stream",
     "text": [
      "012\n",
      "0123\n",
      "01234\n",
      "012345\n",
      "0123456\n"
     ]
    }
   ],
   "source": [
    "rows = 5\n",
    "for i in range (2,7):\n",
    "    for j in range(0,i+1):\n",
    "        print(j,end=\"\")\n",
    "    print()"
   ]
  },
  {
   "cell_type": "code",
   "execution_count": 32,
   "id": "03c24647-1368-4953-8d1c-d4caa4a0de4a",
   "metadata": {},
   "outputs": [
    {
     "name": "stdout",
     "output_type": "stream",
     "text": [
      "1 0\n",
      "2 0\n",
      "2 1\n",
      "3 0\n",
      "3 1\n",
      "3 2\n"
     ]
    }
   ],
   "source": [
    "for i in range (1,4):\n",
    "    for j in range(i):\n",
    "        print(i,j)"
   ]
  },
  {
   "cell_type": "code",
   "execution_count": 7,
   "id": "3cd6ff40-4ed7-4205-834e-e56c91d2c6e6",
   "metadata": {},
   "outputs": [
    {
     "name": "stdout",
     "output_type": "stream",
     "text": [
      "value of x 10 value of y 20  value of z 30\n",
      "value of x 10 value of y 20 value of z 30\n"
     ]
    }
   ],
   "source": [
    "x,y,z= 10,20,30\n",
    "print(\"value of x\", x, \"value of y\",y,\" value of z\",z)\n",
    "print(f\"value of x {x} value of y {y} value of z {z}\" )"
   ]
  },
  {
   "cell_type": "code",
   "execution_count": null,
   "id": "23d64b27-3864-47c5-9d9a-3089eb225199",
   "metadata": {},
   "outputs": [],
   "source": []
  },
  {
   "cell_type": "markdown",
   "id": "0b84b822-e564-4046-a47d-18285f0b5104",
   "metadata": {},
   "source": [
    "## While loop -\n"
   ]
  },
  {
   "cell_type": "markdown",
   "id": "693455a2-c842-4d4a-bc00-fb5a4b4084c5",
   "metadata": {},
   "source": [
    "a while loop repeats a block of code as long as a condition is true."
   ]
  },
  {
   "cell_type": "code",
   "execution_count": null,
   "id": "5e16ff01-5dcc-494c-be99-41e46d0183b3",
   "metadata": {},
   "outputs": [],
   "source": [
    "while condition :\n",
    "    "
   ]
  },
  {
   "cell_type": "markdown",
   "id": "0c2e2212-f802-4602-9db7-88ae6632f8e0",
   "metadata": {},
   "source": [
    "i = 6\n",
    "while i<=5:\n",
    "    print(i)"
   ]
  },
  {
   "cell_type": "code",
   "execution_count": 2,
   "id": "dce6b9ac-3534-441c-855f-4343433e5c98",
   "metadata": {},
   "outputs": [
    {
     "name": "stdout",
     "output_type": "stream",
     "text": [
      "1\n",
      "2\n",
      "3\n",
      "4\n",
      "5\n"
     ]
    }
   ],
   "source": [
    "i = 1\n",
    "while i<=5:\n",
    "    print(i)\n",
    "    i = i+1\n"
   ]
  },
  {
   "cell_type": "code",
   "execution_count": 5,
   "id": "a1f3632c-a858-4da6-8dca-46578225d411",
   "metadata": {},
   "outputs": [
    {
     "name": "stdout",
     "output_type": "stream",
     "text": [
      "1\n",
      "2\n",
      "get up it is time to study\n",
      "3\n",
      "4\n",
      "5\n"
     ]
    }
   ],
   "source": [
    "i = 1\n",
    "while i<=5:\n",
    "    print(i)\n",
    "    i = i+1\n",
    "    if ( i == 3):\n",
    "        print(\"get up it is time to study\")\n",
    "    \n"
   ]
  },
  {
   "cell_type": "markdown",
   "id": "d2e80ec0-41a9-47a7-99c9-459fbed7d959",
   "metadata": {},
   "source": [
    "## condition of stoping while loop "
   ]
  },
  {
   "cell_type": "code",
   "execution_count": 4,
   "id": "9f1db21d-2ab8-497f-82bc-c9640adad12d",
   "metadata": {},
   "outputs": [
    {
     "name": "stdout",
     "output_type": "stream",
     "text": [
      "1\n",
      "get up it is time to study\n",
      "4\n",
      "get up it is time to study\n",
      "7\n",
      "get up it is time to study\n",
      "10\n",
      "get up it is time to study\n"
     ]
    }
   ],
   "source": [
    "i = 1\n",
    "while i<=10:\n",
    "    print(i)\n",
    "    i = i+3   # stops \n",
    "    print(\"get up it is time to study\")"
   ]
  },
  {
   "cell_type": "code",
   "execution_count": null,
   "id": "5ad835a5-f7ce-466f-8908-dc79eaff394b",
   "metadata": {},
   "outputs": [],
   "source": []
  },
  {
   "cell_type": "code",
   "execution_count": 6,
   "id": "c3c79103-2e1f-4fab-92f1-f8b8c7b6965a",
   "metadata": {},
   "outputs": [
    {
     "name": "stdout",
     "output_type": "stream",
     "text": [
      "1\n",
      "get up it is time to study\n",
      "2\n",
      "get up it is time to study\n",
      "3\n",
      "get up it is time to study\n",
      "4\n",
      "get up it is time to study\n",
      "5\n",
      "get up it is time to study\n"
     ]
    }
   ],
   "source": [
    "i = 1\n",
    "while i <=5:\n",
    "    print(i) \n",
    "    i = i+1\n",
    "    print(\"get up it is time to study\")"
   ]
  },
  {
   "cell_type": "code",
   "execution_count": 5,
   "id": "ccbd71d5-1c30-473f-b281-8f29316408bf",
   "metadata": {},
   "outputs": [
    {
     "name": "stdout",
     "output_type": "stream",
     "text": [
      "1\n",
      "get up it is time to study\n",
      "3\n",
      "get up it is time to study\n",
      "5\n",
      "get up it is time to study\n"
     ]
    }
   ],
   "source": [
    "i = 1\n",
    "while i<=5:\n",
    "    print(i) \n",
    "    i = i+2\n",
    "    print(\"get up it is time to study\")"
   ]
  },
  {
   "cell_type": "markdown",
   "id": "ae965c1d-0aad-46bc-8627-f935b41b1be3",
   "metadata": {},
   "source": [
    "### Summery : crux of making patterns -"
   ]
  },
  {
   "cell_type": "markdown",
   "id": "2a437755-9ebd-4299-8e20-bb48c003b415",
   "metadata": {},
   "source": [
    "concept role\n",
    "* inner loop controls character per rows( vertical dimension)\n",
    "* outer loop controls character per row( horizontal dimension)\n",
    "* print(.... end = \"\") keeps printing in the same line\n",
    "* print() moves to the next line after a row is done\n",
    "* logic in inner decides what to print *,number ,space etc.\n",
    "* conditions (if) used for shapes like hollow boxes,diagonals etc.\n"
   ]
  },
  {
   "cell_type": "markdown",
   "id": "72bb6ad6-0ee9-40fd-bf2d-46325f10ea61",
   "metadata": {},
   "source": [
    "pro tip to practice\n",
    "* start with:\n",
    "* for i in range (n): for j in range(m): print(\" ques mark\", end =\"\") print()"
   ]
  },
  {
   "cell_type": "code",
   "execution_count": 4,
   "id": "1246f819-1022-474d-b34c-0c41ef10ab4b",
   "metadata": {},
   "outputs": [
    {
     "name": "stdout",
     "output_type": "stream",
     "text": [
      "1\n",
      "1\n",
      "2\n",
      "1\n",
      "2\n",
      "3\n",
      "1\n",
      "2\n",
      "3\n",
      "4\n",
      "1\n",
      "2\n",
      "3\n",
      "4\n",
      "5\n"
     ]
    }
   ],
   "source": [
    "rows = 5\n",
    "for i in range (1,rows+1):\n",
    "    for j in range(1,i+1):\n",
    "        print(j)"
   ]
  },
  {
   "cell_type": "code",
   "execution_count": 3,
   "id": "54146c47-16c7-4342-9b09-b84b3551d531",
   "metadata": {},
   "outputs": [
    {
     "name": "stdout",
     "output_type": "stream",
     "text": [
      "0\n",
      "1\n",
      "2\n",
      "0\n",
      "1\n",
      "2\n",
      "3\n",
      "0\n",
      "1\n",
      "2\n",
      "3\n",
      "4\n",
      "0\n",
      "1\n",
      "2\n",
      "3\n",
      "4\n",
      "5\n",
      "0\n",
      "1\n",
      "2\n",
      "3\n",
      "4\n",
      "5\n",
      "6\n"
     ]
    }
   ],
   "source": [
    "rows = 5\n",
    "for i in range (1,rows+1):\n",
    "    for j in range(0,i+2):\n",
    "        print(j)"
   ]
  },
  {
   "cell_type": "code",
   "execution_count": 40,
   "id": "0b5cae64-480f-4374-91c7-d2e55ba703c4",
   "metadata": {},
   "outputs": [
    {
     "name": "stdout",
     "output_type": "stream",
     "text": [
      "12\n",
      "123\n",
      "1234\n",
      "12345\n",
      "123456\n"
     ]
    }
   ],
   "source": [
    "rows = 5\n",
    "for i in range (1,rows+1):\n",
    "    for j in range(1,i+2):\n",
    "        print(j,end=\"\")\n",
    "    print()"
   ]
  },
  {
   "cell_type": "code",
   "execution_count": 4,
   "id": "47f9c4b8-dd1f-4039-b94b-accf1008b8ca",
   "metadata": {},
   "outputs": [
    {
     "name": "stdout",
     "output_type": "stream",
     "text": [
      "1\n",
      "12\n",
      "123\n",
      "1234\n",
      "12345\n"
     ]
    }
   ],
   "source": [
    "rows = 5\n",
    "for i in range (1,rows+1):\n",
    "    for j in range(1,i+1):\n",
    "        print(j,end=\"\") \n",
    "    print() # outer loop apna kam pura krta h"
   ]
  },
  {
   "cell_type": "code",
   "execution_count": 26,
   "id": "d3dd4085-d3d3-440f-9b3a-282976666c7f",
   "metadata": {},
   "outputs": [
    {
     "name": "stdout",
     "output_type": "stream",
     "text": [
      "1 1\n",
      "\n",
      "2 1\n",
      "2 2\n",
      "\n",
      "3 1\n",
      "3 2\n",
      "3 3\n",
      "\n",
      "4 1\n",
      "4 2\n",
      "4 3\n",
      "4 4\n",
      "\n",
      "5 1\n",
      "5 2\n",
      "5 3\n",
      "5 4\n",
      "5 5\n",
      "\n"
     ]
    }
   ],
   "source": [
    "rows = 5 \n",
    "for i in range (1,rows+1):\n",
    "    for j in range(1,i+1):\n",
    "        print(i,j)\n",
    "    print() "
   ]
  },
  {
   "cell_type": "code",
   "execution_count": 16,
   "id": "fb98be83-d97d-450d-b989-183b48c7cbe9",
   "metadata": {},
   "outputs": [
    {
     "name": "stdout",
     "output_type": "stream",
     "text": [
      "a\n",
      "a\n",
      "a\n",
      "a\n",
      "a\n"
     ]
    }
   ],
   "source": [
    "rows = 5\n",
    "for i in range (1,rows+1):\n",
    "    \n",
    "        print(\"a\")   "
   ]
  },
  {
   "cell_type": "markdown",
   "id": "c3879678-fdce-440b-aef5-4186316fc33a",
   "metadata": {},
   "source": [
    "#### Pattern 2 : number pyramid"
   ]
  },
  {
   "cell_type": "code",
   "execution_count": 20,
   "id": "e0a7a3ef-4853-44ed-aea5-835881f463ff",
   "metadata": {},
   "outputs": [
    {
     "name": "stdout",
     "output_type": "stream",
     "text": [
      "1\n",
      "1\n",
      "2\n",
      "1\n",
      "2\n",
      "3\n",
      "1\n",
      "2\n",
      "3\n",
      "4\n",
      "1\n",
      "2\n",
      "3\n",
      "4\n",
      "5\n"
     ]
    }
   ],
   "source": [
    "rows = 5\n",
    "for i in range(1,rows+1):\n",
    "    for j in range (1,i +1):\n",
    "        print(j)"
   ]
  },
  {
   "cell_type": "code",
   "execution_count": 4,
   "id": "adc843b2",
   "metadata": {},
   "outputs": [
    {
     "name": "stdout",
     "output_type": "stream",
     "text": [
      "1\n",
      "\n",
      "2\n",
      "\n",
      "3\n",
      "\n",
      "4\n",
      "\n",
      "5\n",
      "\n"
     ]
    }
   ],
   "source": [
    "rows = 5\n",
    "for i in range(1,rows+1):\n",
    "    print(i)\n",
    "    print()"
   ]
  },
  {
   "cell_type": "code",
   "execution_count": 39,
   "id": "5331af56-b5ac-43e3-b4b5-09c199e7e02f",
   "metadata": {},
   "outputs": [
    {
     "name": "stdout",
     "output_type": "stream",
     "text": [
      "12\n",
      "123\n",
      "1234\n",
      "12345\n",
      "123456\n"
     ]
    }
   ],
   "source": [
    "rows = 5\n",
    "for i in range(1,rows+1):  # (1,6)\n",
    "    for j in range (1,i+2):   #(1,i ki range +2)\n",
    "        print(j,end=\"\")\n",
    "    print()"
   ]
  },
  {
   "cell_type": "markdown",
   "id": "ab3bd8d5-2075-4e50-8e37-26b017eb0a4c",
   "metadata": {},
   "source": [
    "pattern 2: Print numbers in triangle form"
   ]
  },
  {
   "cell_type": "code",
   "execution_count": null,
   "id": "a80ab773-462b-4fcd-b56c-186467a4f881",
   "metadata": {},
   "outputs": [],
   "source": []
  },
  {
   "cell_type": "code",
   "execution_count": 1,
   "id": "39c0317d-1f8c-49da-8349-7e96915fc1e4",
   "metadata": {},
   "outputs": [
    {
     "name": "stdout",
     "output_type": "stream",
     "text": [
      "1 \n",
      "1 2 \n",
      "1 2 3 \n",
      "1 2 3 4 \n",
      "1 2 3 4 5 \n"
     ]
    }
   ],
   "source": [
    "rows = 5\n",
    "i = 1\n",
    "while i <= rows:\n",
    "    j =1\n",
    "    while j<=i:\n",
    "        print(j, end=\" \")\n",
    "        j +=1\n",
    "    print()\n",
    "    i +=1\n",
    "            "
   ]
  },
  {
   "cell_type": "code",
   "execution_count": null,
   "id": "0c5db906",
   "metadata": {},
   "outputs": [],
   "source": [
    "rows = 5\n",
    "i = 1\n",
    "while i <= rows:\n",
    "    j =1\n",
    "    while j<=i:\n",
    "        print(j, end=\"\")\n",
    "        j +=1\n",
    "    print()\n",
    "    i +=1\n",
    "            "
   ]
  },
  {
   "cell_type": "markdown",
   "id": "65da5cd9-f768-4dd1-9dc0-978f7201b7c4",
   "metadata": {},
   "source": [
    "### Python Functions"
   ]
  },
  {
   "cell_type": "code",
   "execution_count": 43,
   "id": "24c722d7-f1ba-4045-a724-624aac9b4c10",
   "metadata": {},
   "outputs": [
    {
     "ename": "SyntaxError",
     "evalue": "invalid syntax (1091652966.py, line 4)",
     "output_type": "error",
     "traceback": [
      "\u001b[1;36m  Cell \u001b[1;32mIn[43], line 4\u001b[1;36m\u001b[0m\n\u001b[1;33m    for n in return:\u001b[0m\n\u001b[1;37m             ^\u001b[0m\n\u001b[1;31mSyntaxError\u001b[0m\u001b[1;31m:\u001b[0m invalid syntax\n"
     ]
    }
   ],
   "source": [
    "def multiply(n1,n2):\n",
    "    n3 = n1*n2\n",
    "    return(n3) \n",
    "for n in return:\n",
    "    multiply(n)"
   ]
  },
  {
   "cell_type": "code",
   "execution_count": 2,
   "id": "4c107ac1-c320-4560-8729-cecc2ae4950b",
   "metadata": {},
   "outputs": [],
   "source": [
    "def multiply(n1,n2):\n",
    "    n3 = n1*n2\n",
    "    return n3 \n"
   ]
  },
  {
   "cell_type": "code",
   "execution_count": 4,
   "id": "b1df22d5-b4ad-422d-8196-a87a35422b53",
   "metadata": {},
   "outputs": [
    {
     "data": {
      "text/plain": [
       "100"
      ]
     },
     "execution_count": 4,
     "metadata": {},
     "output_type": "execute_result"
    }
   ],
   "source": [
    "multiply(20,5)"
   ]
  },
  {
   "cell_type": "code",
   "execution_count": 5,
   "id": "304189de-04a6-45e7-a60c-9f0b1a06ad17",
   "metadata": {},
   "outputs": [],
   "source": [
    "def add(n1,n2,n3):\n",
    "    n4= n1+n2+n3\n",
    "    return n4"
   ]
  },
  {
   "cell_type": "code",
   "execution_count": 7,
   "id": "e8e75015-e098-42a6-9129-ba9268e8e55d",
   "metadata": {},
   "outputs": [
    {
     "data": {
      "text/plain": [
       "160"
      ]
     },
     "execution_count": 7,
     "metadata": {},
     "output_type": "execute_result"
    }
   ],
   "source": [
    "add(25,45,90)"
   ]
  },
  {
   "cell_type": "code",
   "execution_count": 10,
   "id": "459e3a01-8dc9-4130-9341-e000024757b8",
   "metadata": {},
   "outputs": [
    {
     "data": {
      "text/plain": [
       "102"
      ]
     },
     "execution_count": 10,
     "metadata": {},
     "output_type": "execute_result"
    }
   ],
   "source": [
    "def add(n1,n2,n3):\n",
    "    n4= n1+n2+n3\n",
    "    return n4\n",
    "add(23,39,40)"
   ]
  },
  {
   "cell_type": "code",
   "execution_count": 22,
   "id": "6db8ca90-b03b-44eb-85b4-3c16b2f5a8ba",
   "metadata": {},
   "outputs": [],
   "source": [
    "def avg(n1,n2,n3):\n",
    "    n4= (n1,n2,n3)/3\n",
    "    return n4"
   ]
  },
  {
   "cell_type": "code",
   "execution_count": 15,
   "id": "ee4481cd-5ce5-4564-8740-2348122bc147",
   "metadata": {},
   "outputs": [
    {
     "name": "stdin",
     "output_type": "stream",
     "text": [
      "no. 2\n",
      "no. 3\n",
      "no. 4\n"
     ]
    },
    {
     "name": "stdout",
     "output_type": "stream",
     "text": [
      "3.0\n"
     ]
    }
   ],
   "source": [
    "def avg():\n",
    "    a = int(input(\"no.\"))\n",
    "    b = int(input(\"no.\"))\n",
    "    c = int(input(\"no.\"))\n",
    "    average = (a+b+c)/3\n",
    "    print(average)\n",
    "avg()\n"
   ]
  },
  {
   "cell_type": "code",
   "execution_count": null,
   "id": "132b7217-e16e-4e7a-9336-14e8991786d1",
   "metadata": {},
   "outputs": [],
   "source": []
  },
  {
   "cell_type": "code",
   "execution_count": 18,
   "id": "e7125779-f8ae-40fb-9f4a-43ed36eddb7a",
   "metadata": {},
   "outputs": [
    {
     "name": "stdin",
     "output_type": "stream",
     "text": [
      "no. 20\n",
      "no. 10\n",
      "no. 40\n"
     ]
    },
    {
     "name": "stdout",
     "output_type": "stream",
     "text": [
      "23.333333333333332\n"
     ]
    }
   ],
   "source": [
    "def avg():\n",
    "    a = int(input(\"no.\"))\n",
    "    b = int(input(\"no.\"))\n",
    "    c = int(input(\"no.\"))\n",
    "    average = (a+b+c)/3\n",
    "    print(average)\n",
    "avg()\n"
   ]
  },
  {
   "cell_type": "code",
   "execution_count": null,
   "id": "140dc47c-b55c-4b63-a7ea-23e86eae7561",
   "metadata": {},
   "outputs": [],
   "source": []
  },
  {
   "cell_type": "code",
   "execution_count": 9,
   "id": "e1ddffb8-b58b-454d-be2c-b49105f6091f",
   "metadata": {},
   "outputs": [
    {
     "data": {
      "text/plain": [
       "'welcome to vijai'"
      ]
     },
     "execution_count": 9,
     "metadata": {},
     "output_type": "execute_result"
    }
   ],
   "source": [
    "def fun():\n",
    "    return(\"welcome to vijai\")\n",
    "fun() "
   ]
  },
  {
   "cell_type": "code",
   "execution_count": 2,
   "id": "3bbc9900-7de9-4666-9022-caa52737a2f0",
   "metadata": {},
   "outputs": [
    {
     "name": "stdout",
     "output_type": "stream",
     "text": [
      "welcome to vijai\n"
     ]
    }
   ],
   "source": [
    "def fun():\n",
    "    print(\"welcome to vijai\")\n",
    "fun() "
   ]
  },
  {
   "cell_type": "markdown",
   "id": "f63c9baf-b0a8-4383-b93c-ecd6a19aca6c",
   "metadata": {},
   "source": []
  },
  {
   "cell_type": "code",
   "execution_count": null,
   "id": "91b79ca4-cda9-4014-99b5-2cfac196b308",
   "metadata": {},
   "outputs": [],
   "source": [
    " "
   ]
  },
  {
   "cell_type": "code",
   "execution_count": null,
   "id": "c0d14b2d-4094-4b04-b472-5846f529a448",
   "metadata": {},
   "outputs": [],
   "source": []
  },
  {
   "cell_type": "markdown",
   "id": "2376bc31-008d-463c-8d13-30c9cb36880e",
   "metadata": {},
   "source": [
    "patterns 1 print a triangle of stars-"
   ]
  },
  {
   "cell_type": "code",
   "execution_count": 8,
   "id": "6b988696-fae8-400b-bcab-f46af1a98b34",
   "metadata": {},
   "outputs": [
    {
     "name": "stdout",
     "output_type": "stream",
     "text": [
      "10\n",
      "11\n",
      "12\n",
      "13\n",
      "14\n",
      "15\n",
      "16\n",
      "17\n",
      "18\n",
      "19\n",
      "20\n"
     ]
    }
   ],
   "source": [
    "i =10\n",
    "while(i<21):\n",
    "    print(i)\n",
    "    i+=1  # i = i + 1"
   ]
  },
  {
   "cell_type": "code",
   "execution_count": null,
   "id": "ef6e4705-c9ea-4e87-8c6f-3a3cb88ede00",
   "metadata": {},
   "outputs": [],
   "source": []
  },
  {
   "cell_type": "code",
   "execution_count": null,
   "id": "f87dc3d8-e374-4abd-bf36-1fd594a7e1de",
   "metadata": {},
   "outputs": [],
   "source": []
  },
  {
   "cell_type": "code",
   "execution_count": null,
   "id": "670e8b99-c40a-4693-92c1-d0be32b35899",
   "metadata": {},
   "outputs": [],
   "source": []
  },
  {
   "cell_type": "code",
   "execution_count": null,
   "id": "7a151cce-40e3-485a-8664-b5a4924ef744",
   "metadata": {},
   "outputs": [],
   "source": []
  },
  {
   "cell_type": "code",
   "execution_count": null,
   "id": "f50aedb7-0e28-484f-b19f-5860a11335a4",
   "metadata": {},
   "outputs": [],
   "source": []
  },
  {
   "cell_type": "code",
   "execution_count": null,
   "id": "8cd0e4f1-9cab-413e-8635-29e08fe7519a",
   "metadata": {},
   "outputs": [],
   "source": []
  }
 ],
 "metadata": {
  "kernelspec": {
   "display_name": "Python [conda env:base] *",
   "language": "python",
   "name": "conda-base-py"
  },
  "language_info": {
   "codemirror_mode": {
    "name": "ipython",
    "version": 3
   },
   "file_extension": ".py",
   "mimetype": "text/x-python",
   "name": "python",
   "nbconvert_exporter": "python",
   "pygments_lexer": "ipython3",
   "version": "3.13.5"
  }
 },
 "nbformat": 4,
 "nbformat_minor": 5
}
