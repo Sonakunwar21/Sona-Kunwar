{
 "cells": [
  {
   "cell_type": "markdown",
   "id": "e97f661d-1075-4125-9888-d77778abad75",
   "metadata": {},
   "source": [
    "# comments in python"
   ]
  },
  {
   "cell_type": "code",
   "execution_count": 2,
   "id": "f97a66a1-332c-46a8-9bf7-6fe897232ff1",
   "metadata": {},
   "outputs": [
    {
     "name": "stdout",
     "output_type": "stream",
     "text": [
      " I'm writting comments.\n"
     ]
    }
   ],
   "source": [
    " print(\" I'm writting comments.\")    # i'm practicing python"
   ]
  },
  {
   "cell_type": "code",
   "execution_count": 3,
   "id": "2e65b3b3-2f44-443d-8da2-350e62c85f12",
   "metadata": {},
   "outputs": [
    {
     "name": "stdout",
     "output_type": "stream",
     "text": [
      " python is a programming language\n"
     ]
    }
   ],
   "source": [
    "print(\" python is a programming language\")  #high level "
   ]
  },
  {
   "cell_type": "code",
   "execution_count": 4,
   "id": "b7bbc116-6b65-4a32-93fa-42c634a37d04",
   "metadata": {
    "scrolled": true
   },
   "outputs": [
    {
     "name": "stdout",
     "output_type": "stream",
     "text": [
      "data science\n"
     ]
    }
   ],
   "source": [
    "print(\"data science\")       #programming"
   ]
  },
  {
   "cell_type": "code",
   "execution_count": 5,
   "id": "a53f4ab4-b079-41f2-a4df-642d4a3585d2",
   "metadata": {},
   "outputs": [
    {
     "name": "stdout",
     "output_type": "stream",
     "text": [
      "*\n"
     ]
    }
   ],
   "source": [
    "print(\"*\")  # this * is for decoration."
   ]
  },
  {
   "cell_type": "code",
   "execution_count": 6,
   "id": "0f4be11a-0229-49f2-b116-d2434c2c42fa",
   "metadata": {},
   "outputs": [
    {
     "name": "stdout",
     "output_type": "stream",
     "text": [
      " python is easy. \n"
     ]
    }
   ],
   "source": [
    "print(\" python is easy. \")  # programming language"
   ]
  },
  {
   "cell_type": "code",
   "execution_count": 7,
   "id": "63a9362e-8a2f-4ffd-bd92-f185d7cadf0e",
   "metadata": {},
   "outputs": [
    {
     "name": "stdout",
     "output_type": "stream",
     "text": [
      "My name is Sona \n"
     ]
    }
   ],
   "source": [
    "print(\"My name is Sona \")  # from bageshwar"
   ]
  },
  {
   "cell_type": "markdown",
   "id": "ea2f5b9d-0d86-44d2-89a5-ba39c6bd5b59",
   "metadata": {},
   "source": [
    "# HEADING1\n",
    "## HEADING2\n",
    "### HEADING3\n",
    "#### HEADING4\n",
    "##### HEADING5\n",
    "###### HEADING6\n",
    "####### HEADING7"
   ]
  },
  {
   "cell_type": "markdown",
   "id": "a85c6f26-be75-42c2-9b76-5ddae045a91d",
   "metadata": {},
   "source": [
    "- JUPYTER\n",
    "- IDLE\n",
    "- SPYDER\n"
   ]
  },
  {
   "cell_type": "markdown",
   "id": "8a3b9c03-f3b2-4802-9095-5746f79bba27",
   "metadata": {},
   "source": [
    "# escape sequences : \\n and \\t -"
   ]
  },
  {
   "cell_type": "code",
   "execution_count": 8,
   "id": "37918acf-8bf2-4a80-8464-b347d75fadda",
   "metadata": {},
   "outputs": [
    {
     "name": "stdout",
     "output_type": "stream",
     "text": [
      "anshika is in \n",
      " maharajganj\n"
     ]
    }
   ],
   "source": [
    "print(\"anshika is in \\n maharajganj\")"
   ]
  },
  {
   "cell_type": "code",
   "execution_count": 9,
   "id": "b2ab5c59-9f2d-4ac6-9882-d9d7105b867f",
   "metadata": {},
   "outputs": [
    {
     "name": "stdout",
     "output_type": "stream",
     "text": [
      "python is easy\n",
      " programming language.\n"
     ]
    }
   ],
   "source": [
    "print(\"python is easy\\n programming language.\")"
   ]
  },
  {
   "cell_type": "code",
   "execution_count": 10,
   "id": "87d6544c-7c83-4c36-861b-e1e881bae571",
   "metadata": {},
   "outputs": [
    {
     "name": "stdout",
     "output_type": "stream",
     "text": [
      " anshika is walking in her room\n",
      " during study\n"
     ]
    }
   ],
   "source": [
    "print(\" anshika is walking in her room\\n during study\")"
   ]
  },
  {
   "cell_type": "code",
   "execution_count": 11,
   "id": "b81b51fb-f33e-477d-976d-f51a0ae8d46c",
   "metadata": {},
   "outputs": [
    {
     "name": "stdout",
     "output_type": "stream",
     "text": [
      "high level\n",
      " easy \n"
     ]
    }
   ],
   "source": [
    "print(\"high level\\n easy \")"
   ]
  },
  {
   "cell_type": "code",
   "execution_count": 12,
   "id": "ddd57314-a437-4cf6-859a-de0906addd26",
   "metadata": {},
   "outputs": [
    {
     "name": "stdout",
     "output_type": "stream",
     "text": [
      "she is well focused\n",
      " in studying python. \n"
     ]
    }
   ],
   "source": [
    "print(\"she is well focused\\n in studying python. \")"
   ]
  },
  {
   "cell_type": "code",
   "execution_count": 13,
   "id": "fd6022c7-50e8-4333-babe-46ae6edac6e1",
   "metadata": {},
   "outputs": [
    {
     "name": "stdout",
     "output_type": "stream",
     "text": [
      " she is doing \t her homework.\n"
     ]
    }
   ],
   "source": [
    "print(\" she is doing \\t her homework.\")"
   ]
  },
  {
   "cell_type": "code",
   "execution_count": 14,
   "id": "b2a32e0c-ab5b-4afd-b1fa-daba6bcbfc14",
   "metadata": {},
   "outputs": [
    {
     "name": "stdout",
     "output_type": "stream",
     "text": [
      "python is easy \t programming language\n"
     ]
    }
   ],
   "source": [
    "print(\"python is easy \\t programming language\")"
   ]
  },
  {
   "cell_type": "code",
   "execution_count": 15,
   "id": "1b346c2a-e8b9-4ac4-abe4-9190fc5dc654",
   "metadata": {},
   "outputs": [
    {
     "name": "stdout",
     "output_type": "stream",
     "text": [
      "*\n",
      "* *\n",
      "*   *\n",
      "*     *\n",
      "*       *\n",
      "*         *\n",
      "** **  ** * *\n"
     ]
    }
   ],
   "source": [
    "print(\"*\")\n",
    "print(\"* *\")\n",
    "print(\"*   *\")\n",
    "print(\"*     *\")\n",
    "print(\"*       *\")\n",
    "print(\"*         *\")\n",
    "print(\"** **  ** * *\")"
   ]
  },
  {
   "cell_type": "code",
   "execution_count": 16,
   "id": "64ed6bf6-b968-42ff-a9b4-98de7c831361",
   "metadata": {},
   "outputs": [
    {
     "name": "stdout",
     "output_type": "stream",
     "text": [
      "*\n",
      "* *\n",
      "*    *\n",
      "*      *\n",
      "*        *\n",
      "*          *\n",
      "*  *  *   *  *\n"
     ]
    }
   ],
   "source": [
    "print(\"*\\n* *\\n*    *\\n*      *\\n*        *\\n*          *\\n*  *  *   *  *\")\n",
    "\n",
    "    "
   ]
  },
  {
   "cell_type": "code",
   "execution_count": 6,
   "id": "406b3f4a-ab08-4d74-8ba8-07d101fc4329",
   "metadata": {},
   "outputs": [
    {
     "name": "stdout",
     "output_type": "stream",
     "text": [
      "*\n",
      "* *\n",
      "*   *\n",
      "*     *\n",
      "*        *\n",
      "*          *\n",
      "*            *\n",
      "* * * * * * *  *\n"
     ]
    }
   ],
   "source": [
    "print(\"*\\n* *\\n*   *\\n*     *\\n*        *\\n*          *\\n*            *\\n* * * * * * *  *\")"
   ]
  },
  {
   "cell_type": "code",
   "execution_count": 25,
   "id": "a2c71b12-2d73-4784-8099-49d1076465d6",
   "metadata": {},
   "outputs": [
    {
     "name": "stdout",
     "output_type": "stream",
     "text": [
      "      *\n",
      "    *   *\n",
      "   *     *\n",
      "  *       *\n",
      " * * *** * * \n"
     ]
    }
   ],
   "source": [
    "print(\"      *\\n    *   *\\n   *     *\\n  *       *\\n * * *** * * \")"
   ]
  },
  {
   "cell_type": "code",
   "execution_count": 23,
   "id": "ca162129-f1b8-4538-829d-b6cf436e96b4",
   "metadata": {},
   "outputs": [
    {
     "name": "stdout",
     "output_type": "stream",
     "text": [
      "    *\n",
      "   ***\n",
      "  *****\n",
      " *******\n",
      "*********\n"
     ]
    }
   ],
   "source": [
    " print(\"    *\\n   ***\\n  *****\\n *******\\n*********\")"
   ]
  },
  {
   "cell_type": "code",
   "execution_count": 19,
   "id": "8142850d-e974-451d-b630-e58e94647448",
   "metadata": {},
   "outputs": [
    {
     "name": "stdout",
     "output_type": "stream",
     "text": [
      "|\\ \n",
      "| \\ \n",
      "|  \\ \n",
      "|   \\ \n",
      "|    \\ \n",
      "|_ _ _\\ \n"
     ]
    }
   ],
   "source": [
    "print(\"|\\ \\n| \\ \\n|  \\ \\n|   \\ \\n|    \\ \\n|_ _ _\\ \")"
   ]
  },
  {
   "cell_type": "code",
   "execution_count": 21,
   "id": "facbff81-b5ad-41d5-b6eb-0ec2d53e25ef",
   "metadata": {},
   "outputs": [
    {
     "name": "stdout",
     "output_type": "stream",
     "text": [
      "    ***\n",
      " *       *\n",
      "*         *\n",
      "*         *\n",
      " *       *\n",
      "    ***\n"
     ]
    }
   ],
   "source": [
    "print(\"    ***\\n *       *\\n*         *\\n*         *\\n *       *\\n    ***\")"
   ]
  },
  {
   "cell_type": "code",
   "execution_count": 22,
   "id": "4be45e4b-a27b-4a95-990f-e4b082036707",
   "metadata": {},
   "outputs": [
    {
     "name": "stdout",
     "output_type": "stream",
     "text": [
      " _ _ _ _ _ _\n",
      "|           |\n",
      "|           |\n",
      "|           |\n",
      "|           |\n",
      " _ _ _ _ _ _\n"
     ]
    }
   ],
   "source": [
    "print(\" _ _ _ _ _ _\\n|           |\\n|           |\\n|           |\\n|           |\\n _ _ _ _ _ _\")"
   ]
  },
  {
   "cell_type": "code",
   "execution_count": 10,
   "id": "86372400-122e-4ca7-939d-7255528e3941",
   "metadata": {},
   "outputs": [
    {
     "name": "stdout",
     "output_type": "stream",
     "text": [
      " **   **\n",
      "*  *  *  *\n",
      "*   *   *\n",
      " *      *\n",
      "  *   *\n",
      "    *\n"
     ]
    }
   ],
   "source": [
    "print(\" **   **\\n*  *  *  *\\n*   *   *\\n *      *\\n  *   *\\n    *\")"
   ]
  },
  {
   "cell_type": "code",
   "execution_count": 4,
   "id": "376a02b7-3b4b-4a2e-a23c-6f6601aa0f1a",
   "metadata": {},
   "outputs": [
    {
     "ename": "TypeError",
     "evalue": "list.append() takes exactly one argument (2 given)",
     "output_type": "error",
     "traceback": [
      "\u001b[1;31m---------------------------------------------------------------------------\u001b[0m",
      "\u001b[1;31mTypeError\u001b[0m                                 Traceback (most recent call last)",
      "Cell \u001b[1;32mIn[4], line 2\u001b[0m\n\u001b[0;32m      1\u001b[0m \u001b[38;5;28mlist\u001b[39m \u001b[38;5;241m=\u001b[39m [\u001b[38;5;241m23.3\u001b[39m,\u001b[38;5;241m45\u001b[39m,\u001b[38;5;241m35\u001b[39m,\u001b[38;5;241m26\u001b[39m,\u001b[38;5;241m436\u001b[39m,\u001b[38;5;241m20\u001b[39m]\n\u001b[1;32m----> 2\u001b[0m list1\u001b[38;5;241m.\u001b[39mappend(\u001b[38;5;241m25\u001b[39m,\u001b[38;5;241m2\u001b[39m)\n\u001b[0;32m      3\u001b[0m \u001b[38;5;28mprint\u001b[39m(list1)\n",
      "\u001b[1;31mTypeError\u001b[0m: list.append() takes exactly one argument (2 given)"
     ]
    }
   ],
   "source": [
    "list = [23.3,45,35,26,436,20]\n",
    "list1.append(25,2)\n",
    "print(list1)"
   ]
  },
  {
   "cell_type": "code",
   "execution_count": null,
   "id": "86b97284-9a67-4ded-b1d5-6f4da20c5d64",
   "metadata": {},
   "outputs": [],
   "source": []
  }
 ],
 "metadata": {
  "kernelspec": {
   "display_name": "Python [conda env:base] *",
   "language": "python",
   "name": "conda-base-py"
  },
  "language_info": {
   "codemirror_mode": {
    "name": "ipython",
    "version": 3
   },
   "file_extension": ".py",
   "mimetype": "text/x-python",
   "name": "python",
   "nbconvert_exporter": "python",
   "pygments_lexer": "ipython3",
   "version": "3.13.5"
  }
 },
 "nbformat": 4,
 "nbformat_minor": 5
}
