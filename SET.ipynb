{
 "cells": [
  {
   "cell_type": "markdown",
   "id": "64d48b7a-3870-447a-b565-4afbe78afacc",
   "metadata": {},
   "source": [
    "###  Characteristics of Set-"
   ]
  },
  {
   "cell_type": "markdown",
   "id": "634272d9-71cc-4958-9114-42a49af3ad96",
   "metadata": {},
   "source": [
    "A set is a built -in data structure in python with the following 3 characteristics\n",
    "* Unordred: the items in the set are unordered ,unlike lists,i.e , it will not maintain the order in which the items are inserted the items will be in a different order each time when we access the set object, there will not be any index value assigned to each item in the set.\n",
    "* unchangeable : Set items must be immutable .we cannot change the set items but set as a whole is mutable.\n",
    "* Unique: there cannot be 2 items with the same value in the set.\n",
    "* iterable.\n"
   ]
  },
  {
   "cell_type": "code",
   "execution_count": 5,
   "id": "dab866e2-e398-4009-9f61-80a4ee1a3623",
   "metadata": {},
   "outputs": [
    {
     "name": "stdout",
     "output_type": "stream",
     "text": [
      "<class 'set'>\n"
     ]
    }
   ],
   "source": [
    "A = { 20,19,20,94,60,47}\n",
    "print(type(A))"
   ]
  },
  {
   "cell_type": "code",
   "execution_count": 6,
   "id": "130efc8b-9632-437d-a89e-faa9ad053ce2",
   "metadata": {},
   "outputs": [
    {
     "name": "stdout",
     "output_type": "stream",
     "text": [
      "<class 'set'>\n"
     ]
    }
   ],
   "source": [
    "B = {20,19,20,(23,50),47}\n",
    "print(type(B)) "
   ]
  },
  {
   "cell_type": "code",
   "execution_count": 3,
   "id": "741bea9a-b366-4a5f-9fa7-5489b5f16ce3",
   "metadata": {},
   "outputs": [
    {
     "ename": "TypeError",
     "evalue": "unhashable type: 'list'",
     "output_type": "error",
     "traceback": [
      "\u001b[1;31m---------------------------------------------------------------------------\u001b[0m",
      "\u001b[1;31mTypeError\u001b[0m                                 Traceback (most recent call last)",
      "Cell \u001b[1;32mIn[3], line 1\u001b[0m\n\u001b[1;32m----> 1\u001b[0m B \u001b[38;5;241m=\u001b[39m {\u001b[38;5;241m20\u001b[39m,\u001b[38;5;241m19\u001b[39m,[\u001b[38;5;241m23\u001b[39m,\u001b[38;5;241m20\u001b[39m],\u001b[38;5;241m20\u001b[39m,\u001b[38;5;241m47\u001b[39m}\n\u001b[0;32m      2\u001b[0m \u001b[38;5;28mprint\u001b[39m(\u001b[38;5;28mtype\u001b[39m(B))\n",
      "\u001b[1;31mTypeError\u001b[0m: unhashable type: 'list'"
     ]
    }
   ],
   "source": [
    "B = {20,19,[23,20],20,47}\n",
    "print(type(B)) "
   ]
  },
  {
   "cell_type": "code",
   "execution_count": 5,
   "id": "dac0c611-118a-4e6c-bff3-fc332293e807",
   "metadata": {},
   "outputs": [
    {
     "name": "stdout",
     "output_type": "stream",
     "text": [
      "<class 'set'>\n"
     ]
    }
   ],
   "source": [
    "B = set([23,50])\n",
    "print(type(B))"
   ]
  },
  {
   "cell_type": "code",
   "execution_count": 4,
   "id": "c03d549e-886c-446a-b469-21c20b0b4022",
   "metadata": {},
   "outputs": [
    {
     "name": "stdout",
     "output_type": "stream",
     "text": [
      "{1, 2, 3, 4}\n",
      "<class 'set'>\n"
     ]
    }
   ],
   "source": [
    "C = set([1,2,3,4])\n",
    "print(C)\n",
    "print(type(C))"
   ]
  },
  {
   "cell_type": "code",
   "execution_count": 6,
   "id": "c9c41f77-581a-4cbb-9222-412b316a0401",
   "metadata": {},
   "outputs": [
    {
     "name": "stdout",
     "output_type": "stream",
     "text": [
      "{40, 34, 67, 12}\n"
     ]
    }
   ],
   "source": [
    "Set1 = {12,34,12,67,40,12}\n",
    "print(Set1)"
   ]
  },
  {
   "cell_type": "code",
   "execution_count": 10,
   "id": "8e4d62df-db5b-45bc-bfdd-dca2cbc2a942",
   "metadata": {},
   "outputs": [
    {
     "name": "stdout",
     "output_type": "stream",
     "text": [
      "{2, 3, 34, 5}\n"
     ]
    }
   ],
   "source": [
    "list1 = [2,34,5,3,2,]\n",
    "A = set(list1)\n",
    "print(A) "
   ]
  },
  {
   "cell_type": "code",
   "execution_count": 11,
   "id": "e3f247f3-2860-4efb-8287-d9e53eef24e2",
   "metadata": {},
   "outputs": [
    {
     "name": "stdout",
     "output_type": "stream",
     "text": [
      "[2, 3, 34, 5]\n"
     ]
    }
   ],
   "source": [
    "B = list(A)\n",
    "print(B) "
   ]
  },
  {
   "cell_type": "code",
   "execution_count": 13,
   "id": "13d803e5-b14e-4044-bf1f-25ecb5530a50",
   "metadata": {},
   "outputs": [
    {
     "name": "stdout",
     "output_type": "stream",
     "text": [
      "{90, 45, 23}\n",
      "[90, 45, 23]\n"
     ]
    }
   ],
   "source": [
    "list2 = [23,45,23,90,23]\n",
    "A = set(list2)\n",
    "print(A)\n",
    "b = list(A)\n",
    "print(b)"
   ]
  },
  {
   "cell_type": "code",
   "execution_count": 4,
   "id": "d4aaaa64-56c2-4ed9-81e1-f339490f1222",
   "metadata": {},
   "outputs": [
    {
     "name": "stdout",
     "output_type": "stream",
     "text": [
      "<class 'set'>\n"
     ]
    }
   ],
   "source": [
    "set2 = set([203,2,34,20])\n",
    "print(type(set2))"
   ]
  },
  {
   "cell_type": "markdown",
   "id": "21ee1d86-2b8b-43f3-844a-0515ba3e1d7f",
   "metadata": {},
   "source": [
    "#### Creating a Set "
   ]
  },
  {
   "cell_type": "markdown",
   "id": "e43d0b58-61f2-4c1c-abc8-5aaeda8ec504",
   "metadata": {},
   "source": [
    "There are following 2 ways to create a set in python \n",
    "* Using  curly brackets: the easiest and straightforward way of creating a Set by just enclosing of data items inside the { }. \n",
    "the individual value are comma seperated.\n",
    "* using Set() constructor : the set object is of type class \"set\". So we can create a set by calling CONSTRUCTOR of class 'SET'.\n",
    " "
   ]
  },
  {
   "cell_type": "code",
   "execution_count": 15,
   "id": "1134168b-3da1-4b81-91c7-6f7679d25840",
   "metadata": {},
   "outputs": [
    {
     "name": "stdout",
     "output_type": "stream",
     "text": [
      "<class 'set'>\n"
     ]
    }
   ],
   "source": [
    "A = {20,19,20,94,60,47} \n",
    "print(type(A))"
   ]
  },
  {
   "cell_type": "code",
   "execution_count": 20,
   "id": "ce185193-2e9d-4dc9-831a-24f437ff0bd6",
   "metadata": {},
   "outputs": [
    {
     "name": "stdout",
     "output_type": "stream",
     "text": [
      "<class 'set'>\n"
     ]
    }
   ],
   "source": [
    "A1 = {20,19,20,(20,20),94,60,47} \n",
    "print(type(A1))"
   ]
  },
  {
   "cell_type": "code",
   "execution_count": 16,
   "id": "7fb9f8e7-0ac7-44bb-9d38-e587952a42e1",
   "metadata": {},
   "outputs": [
    {
     "name": "stdout",
     "output_type": "stream",
     "text": [
      "<class 'set'>\n"
     ]
    }
   ],
   "source": [
    "B = set([23,34,\"sona\",20])\n",
    "print(type(B))"
   ]
  },
  {
   "cell_type": "code",
   "execution_count": 18,
   "id": "6c4280ab-f08c-4f2c-a9ff-a1479c5cdefa",
   "metadata": {},
   "outputs": [
    {
     "name": "stdout",
     "output_type": "stream",
     "text": [
      "<class 'set'>\n"
     ]
    }
   ],
   "source": [
    "C = set((23,40,50))\n",
    "print(type(C))"
   ]
  },
  {
   "cell_type": "code",
   "execution_count": 4,
   "id": "0f91bb5a-70a7-4d58-8ce2-92db71ce758f",
   "metadata": {},
   "outputs": [
    {
     "name": "stdout",
     "output_type": "stream",
     "text": [
      "<class 'set'>\n"
     ]
    }
   ],
   "source": [
    "C = {(23,40,50),23}\n",
    "print(type(C))"
   ]
  },
  {
   "cell_type": "code",
   "execution_count": 19,
   "id": "56ade670-8d52-4c66-b771-8dc396db30a9",
   "metadata": {},
   "outputs": [
    {
     "name": "stdout",
     "output_type": "stream",
     "text": [
      "<class 'set'>\n"
     ]
    }
   ],
   "source": [
    "D = set(\"Sunita\")\n",
    "print(type(D))"
   ]
  },
  {
   "cell_type": "code",
   "execution_count": 6,
   "id": "0ffcbeca-32f7-4a60-8d8c-a27faed583dc",
   "metadata": {},
   "outputs": [
    {
     "name": "stdout",
     "output_type": "stream",
     "text": [
      "{'p', 'e', 'l', 'A'}\n"
     ]
    }
   ],
   "source": [
    "set1 =set(\"Apppple\")\n",
    "print(set1)\n"
   ]
  },
  {
   "cell_type": "code",
   "execution_count": 22,
   "id": "59bc8510-5bab-4d3f-b9ea-9ee258db6b6b",
   "metadata": {
    "scrolled": true
   },
   "outputs": [
    {
     "name": "stdout",
     "output_type": "stream",
     "text": [
      "{40, 90, 23}\n"
     ]
    }
   ],
   "source": [
    "set2 = set([23,90,40,90])\n",
    "print(set2)\n"
   ]
  },
  {
   "cell_type": "code",
   "execution_count": 7,
   "id": "e641dfd3-3d1a-4e02-ad07-e3cca6c6d916",
   "metadata": {},
   "outputs": [
    {
     "name": "stdout",
     "output_type": "stream",
     "text": [
      "<class 'set'>\n"
     ]
    }
   ],
   "source": [
    "set1 = {\"sona\"}\n",
    "print(type(set1))"
   ]
  },
  {
   "cell_type": "code",
   "execution_count": 5,
   "id": "44b0ee18-cb10-45db-94cf-af86b4eb5673",
   "metadata": {},
   "outputs": [
    {
     "ename": "TypeError",
     "evalue": "unhashable type: 'list'",
     "output_type": "error",
     "traceback": [
      "\u001b[1;31m---------------------------------------------------------------------------\u001b[0m",
      "\u001b[1;31mTypeError\u001b[0m                                 Traceback (most recent call last)",
      "Cell \u001b[1;32mIn[5], line 1\u001b[0m\n\u001b[1;32m----> 1\u001b[0m sample \u001b[38;5;241m=\u001b[39m {\u001b[38;5;124m\"\u001b[39m\u001b[38;5;124mRoopali\u001b[39m\u001b[38;5;124m\"\u001b[39m, \u001b[38;5;241m34\u001b[39m, \u001b[38;5;241m56\u001b[39m ,[ \u001b[38;5;241m20\u001b[39m,\u001b[38;5;241m13\u001b[39m]}\n\u001b[0;32m      2\u001b[0m \u001b[38;5;28mprint\u001b[39m(sample)\n",
      "\u001b[1;31mTypeError\u001b[0m: unhashable type: 'list'"
     ]
    }
   ],
   "source": [
    "sample = {\"Roopali\", 34, 56 ,[ 20,13]}\n",
    "print(sample)  # list is unhasable ,i.e. it is mutable. so it is cannot be the item of the set.\n"
   ]
  },
  {
   "cell_type": "code",
   "execution_count": 9,
   "id": "8287340d-d96f-47d3-84b4-9cd94a3c7849",
   "metadata": {},
   "outputs": [
    {
     "ename": "TypeError",
     "evalue": "set expected at most 1 argument, got 4",
     "output_type": "error",
     "traceback": [
      "\u001b[1;31m---------------------------------------------------------------------------\u001b[0m",
      "\u001b[1;31mTypeError\u001b[0m                                 Traceback (most recent call last)",
      "Cell \u001b[1;32mIn[9], line 1\u001b[0m\n\u001b[1;32m----> 1\u001b[0m sample \u001b[38;5;241m=\u001b[39m \u001b[38;5;28mset\u001b[39m(\u001b[38;5;124m\"\u001b[39m\u001b[38;5;124mRoopali\u001b[39m\u001b[38;5;124m\"\u001b[39m, \u001b[38;5;241m34\u001b[39m, \u001b[38;5;241m56\u001b[39m , [ \u001b[38;5;241m20\u001b[39m,\u001b[38;5;241m13\u001b[39m])\n\u001b[0;32m      2\u001b[0m \u001b[38;5;28mprint\u001b[39m(sample)\n",
      "\u001b[1;31mTypeError\u001b[0m: set expected at most 1 argument, got 4"
     ]
    }
   ],
   "source": [
    "sample = set(\"Roopali\", 34, 56 , [ 20,13])\n",
    "print(sample)  "
   ]
  },
  {
   "cell_type": "code",
   "execution_count": 67,
   "id": "a65bd290-112f-4ac2-9d87-dda0af9df1e4",
   "metadata": {},
   "outputs": [
    {
     "name": "stdout",
     "output_type": "stream",
     "text": [
      "{34, 200, 12, 50, 90}\n"
     ]
    }
   ],
   "source": [
    "A = set(list1)\n",
    "print(A)"
   ]
  },
  {
   "cell_type": "code",
   "execution_count": 68,
   "id": "be2526cf-b3a2-4694-903c-ce2c28080498",
   "metadata": {},
   "outputs": [
    {
     "name": "stdout",
     "output_type": "stream",
     "text": [
      "[34, 200, 12, 50, 90]\n"
     ]
    }
   ],
   "source": [
    "B = list(A)\n",
    "print(B)"
   ]
  },
  {
   "cell_type": "code",
   "execution_count": 29,
   "id": "28e0beb3-9830-4dec-9499-b965d2ffceaa",
   "metadata": {},
   "outputs": [
    {
     "ename": "TypeError",
     "evalue": "set expected at most 1 argument, got 2",
     "output_type": "error",
     "traceback": [
      "\u001b[1;31m---------------------------------------------------------------------------\u001b[0m",
      "\u001b[1;31mTypeError\u001b[0m                                 Traceback (most recent call last)",
      "Cell \u001b[1;32mIn[29], line 1\u001b[0m\n\u001b[1;32m----> 1\u001b[0m Set1 \u001b[38;5;241m=\u001b[39m \u001b[38;5;28mset\u001b[39m(\u001b[38;5;241m3\u001b[39m,\u001b[38;5;241m6\u001b[39m) \u001b[38;5;66;03m# only 1 argument\u001b[39;00m\n\u001b[0;32m      2\u001b[0m set2 \u001b[38;5;241m=\u001b[39m \u001b[38;5;28mset\u001b[39m(\u001b[38;5;241m3\u001b[39m)\n",
      "\u001b[1;31mTypeError\u001b[0m: set expected at most 1 argument, got 2"
     ]
    }
   ],
   "source": [
    "Set1 = set(3,6) # only 1 argument\n"
   ]
  },
  {
   "cell_type": "code",
   "execution_count": 10,
   "id": "473b2025-cfd1-46f4-bd65-abd455afeb63",
   "metadata": {},
   "outputs": [
    {
     "name": "stdout",
     "output_type": "stream",
     "text": [
      "<class 'set'>\n"
     ]
    }
   ],
   "source": [
    "set2 = set([3]) \n",
    "print(type(set2))\n",
    "# must have iterable datatypes. ( it.datatpes =L,S ,D, string, tuple)"
   ]
  },
  {
   "cell_type": "code",
   "execution_count": 43,
   "id": "8e21a225-4807-46a5-87df-67c8cc9e96f7",
   "metadata": {},
   "outputs": [
    {
     "name": "stdout",
     "output_type": "stream",
     "text": [
      "set()\n"
     ]
    }
   ],
   "source": [
    "set3 = set([])\n",
    "print(set3)"
   ]
  },
  {
   "cell_type": "code",
   "execution_count": 44,
   "id": "73d64c20-14b0-46a9-af50-f1d8c415ee9c",
   "metadata": {},
   "outputs": [
    {
     "name": "stdout",
     "output_type": "stream",
     "text": [
      "set()\n"
     ]
    }
   ],
   "source": [
    "set4 = set({})\n",
    "print(set4)"
   ]
  },
  {
   "cell_type": "code",
   "execution_count": 8,
   "id": "93bee73d-2f71-46c5-b4d5-1e49c46cfd6a",
   "metadata": {},
   "outputs": [
    {
     "name": "stdout",
     "output_type": "stream",
     "text": [
      "set()\n"
     ]
    }
   ],
   "source": [
    "set4 = set()\n",
    "print(set4)"
   ]
  },
  {
   "cell_type": "code",
   "execution_count": 1,
   "id": "e8aa344d-1fa6-4a3f-9e06-b28f5519979b",
   "metadata": {},
   "outputs": [
    {
     "name": "stdout",
     "output_type": "stream",
     "text": [
      "<class 'dict'>\n"
     ]
    }
   ],
   "source": [
    "B = {} # if there is no elements in a{} then it is a dict. datatype.\n",
    "print(type(B))"
   ]
  },
  {
   "cell_type": "code",
   "execution_count": 53,
   "id": "4510b0f5-d1d5-4533-95fb-ece0414ee5a5",
   "metadata": {},
   "outputs": [
    {
     "ename": "TypeError",
     "evalue": "'int' object is not iterable",
     "output_type": "error",
     "traceback": [
      "\u001b[1;31m---------------------------------------------------------------------------\u001b[0m",
      "\u001b[1;31mTypeError\u001b[0m                                 Traceback (most recent call last)",
      "Cell \u001b[1;32mIn[53], line 1\u001b[0m\n\u001b[1;32m----> 1\u001b[0m set5 \u001b[38;5;241m=\u001b[39m \u001b[38;5;28mset\u001b[39m((\u001b[38;5;241m4\u001b[39m))\n\u001b[0;32m      2\u001b[0m \u001b[38;5;28mprint\u001b[39m(\u001b[38;5;28mtype\u001b[39m(set5))\n",
      "\u001b[1;31mTypeError\u001b[0m: 'int' object is not iterable"
     ]
    }
   ],
   "source": [
    "set5 = set((4)) # tuple without , is int.\n",
    "print(type(set5))"
   ]
  },
  {
   "cell_type": "code",
   "execution_count": 57,
   "id": "8fb34efc-ef5a-40e6-b6d6-af879f82ba54",
   "metadata": {},
   "outputs": [
    {
     "name": "stdout",
     "output_type": "stream",
     "text": [
      "<class 'set'>\n"
     ]
    }
   ],
   "source": [
    "set5 = set((4,)) \n",
    "print(type(set5))"
   ]
  },
  {
   "cell_type": "code",
   "execution_count": 63,
   "id": "0a6d086b-6673-4c22-b5b2-cb09cc3e93d2",
   "metadata": {},
   "outputs": [
    {
     "name": "stdout",
     "output_type": "stream",
     "text": [
      "<class 'set'>\n"
     ]
    }
   ],
   "source": [
    "set6 = set(())\n",
    "print(type(set6))    # empty set"
   ]
  },
  {
   "cell_type": "code",
   "execution_count": 64,
   "id": "c15e02cc-931f-41c0-a850-a0165601032d",
   "metadata": {},
   "outputs": [
    {
     "name": "stdout",
     "output_type": "stream",
     "text": [
      "<class 'set'>\n"
     ]
    }
   ],
   "source": [
    "set6 = set([])\n",
    "print(type(set6))    # empty set"
   ]
  },
  {
   "cell_type": "code",
   "execution_count": 70,
   "id": "58070707-097e-4681-9869-e27233375de1",
   "metadata": {},
   "outputs": [
    {
     "name": "stdout",
     "output_type": "stream",
     "text": [
      "{'Banana', 34, 29, 23}\n"
     ]
    }
   ],
   "source": [
    "list1 = [ 23, 34, 29, 23, \"Banana\"]\n",
    "A = set(list1)\n",
    "print(A)"
   ]
  },
  {
   "cell_type": "code",
   "execution_count": 73,
   "id": "cf984f76-d42a-4809-b1e4-314d557c78dc",
   "metadata": {},
   "outputs": [
    {
     "name": "stdout",
     "output_type": "stream",
     "text": [
      "{'a', 'B', 'n'}\n"
     ]
    }
   ],
   "source": [
    "B = set(\"Banana\")\n",
    "print(B)"
   ]
  },
  {
   "cell_type": "code",
   "execution_count": 78,
   "id": "657985a2-4144-49a5-bdff-e871c9d6b357",
   "metadata": {},
   "outputs": [
    {
     "name": "stdout",
     "output_type": "stream",
     "text": [
      "{'banana'}\n"
     ]
    }
   ],
   "source": [
    "list2 = [\"banana\"]\n",
    "C = set(list2)\n",
    "print(C) "
   ]
  },
  {
   "cell_type": "code",
   "execution_count": 10,
   "id": "b96e23e4-7c19-4414-9475-744a9c6cc5fd",
   "metadata": {},
   "outputs": [
    {
     "name": "stdout",
     "output_type": "stream",
     "text": [
      "{40, 90, 23}\n"
     ]
    }
   ],
   "source": [
    "set2 = {23,90,40,90}\n",
    "print(set2)"
   ]
  },
  {
   "cell_type": "code",
   "execution_count": 15,
   "id": "3f5cdaab-c66d-4181-9fc3-48a0aaa86dbe",
   "metadata": {},
   "outputs": [
    {
     "name": "stdout",
     "output_type": "stream",
     "text": [
      "[40, 90, 23]\n"
     ]
    }
   ],
   "source": [
    "a = list(set2)\n",
    "print(a)"
   ]
  },
  {
   "cell_type": "code",
   "execution_count": 16,
   "id": "b556dccc-c273-4072-bfa2-73db01f72064",
   "metadata": {},
   "outputs": [
    {
     "name": "stdout",
     "output_type": "stream",
     "text": [
      "90\n"
     ]
    }
   ],
   "source": [
    "print(a[1])"
   ]
  },
  {
   "cell_type": "code",
   "execution_count": 17,
   "id": "5ed6ed21-1ff2-4228-8067-e0a92b467954",
   "metadata": {},
   "outputs": [
    {
     "name": "stdout",
     "output_type": "stream",
     "text": [
      "{24, 90, 3, 23}\n"
     ]
    }
   ],
   "source": [
    "my_list =[ 23,24,3,3,90,3]\n",
    "b = set(my_list)\n",
    "print(b)"
   ]
  },
  {
   "cell_type": "code",
   "execution_count": 39,
   "id": "11d6279a-343a-4c08-9cc3-ad024b9941e9",
   "metadata": {},
   "outputs": [],
   "source": [
    "b = {23,24,3,3,90,3}\n",
    "A = {23,23,40,23,50}"
   ]
  },
  {
   "cell_type": "code",
   "execution_count": 40,
   "id": "b5bd63cb-5bc6-4fca-b17f-6cd8e7f2e2dc",
   "metadata": {},
   "outputs": [
    {
     "name": "stdout",
     "output_type": "stream",
     "text": [
      "40\n",
      "50\n",
      "23\n"
     ]
    }
   ],
   "source": [
    "for i in A:\n",
    "    print (i)"
   ]
  },
  {
   "cell_type": "code",
   "execution_count": 41,
   "id": "54231d1e-7672-420d-b602-6e800773365f",
   "metadata": {},
   "outputs": [
    {
     "name": "stdout",
     "output_type": "stream",
     "text": [
      "24\n",
      "<class 'int'>\n",
      "90\n",
      "<class 'int'>\n",
      "3\n",
      "<class 'int'>\n",
      "23\n",
      "<class 'int'>\n"
     ]
    }
   ],
   "source": [
    "for i in b:\n",
    "    print(i)\n",
    "    print(type(i))"
   ]
  },
  {
   "cell_type": "code",
   "execution_count": 45,
   "id": "c2eab51d-d62e-47fe-aedd-34139d542584",
   "metadata": {},
   "outputs": [
    {
     "name": "stdout",
     "output_type": "stream",
     "text": [
      "<class 'int'>\n",
      "<class 'int'>\n",
      "<class 'int'>\n"
     ]
    }
   ],
   "source": [
    "for i in A:\n",
    "    print(type(i))  "
   ]
  },
  {
   "cell_type": "code",
   "execution_count": 47,
   "id": "0a6d57a1-bd7f-4551-b37e-b761ce1c2b37",
   "metadata": {},
   "outputs": [
    {
     "name": "stdout",
     "output_type": "stream",
     "text": [
      "a\n",
      "q\n",
      "s\n",
      "a\n"
     ]
    }
   ],
   "source": [
    "my = \"aqsa\"\n",
    "for i in my:\n",
    "    print(i)"
   ]
  },
  {
   "cell_type": "markdown",
   "id": "ab555f11-ec96-484e-9993-addd932e7c8d",
   "metadata": {},
   "source": [
    "### Create a set from a list -"
   ]
  },
  {
   "cell_type": "code",
   "execution_count": 11,
   "id": "56386793-8b0c-40e6-9f0b-8fdbc7a690a4",
   "metadata": {},
   "outputs": [
    {
     "name": "stdout",
     "output_type": "stream",
     "text": [
      "{40, 14, 20, 23, 29}\n"
     ]
    }
   ],
   "source": [
    "no_1= [23,14,20,40,29,23]\n",
    "a = set(no_1)\n",
    "print(a)"
   ]
  },
  {
   "cell_type": "code",
   "execution_count": 12,
   "id": "b2ca5dbb-afd0-4797-8ca1-d2885db8f178",
   "metadata": {},
   "outputs": [
    {
     "name": "stdout",
     "output_type": "stream",
     "text": [
      "[23, 14, 20, 40, 29, 23]\n"
     ]
    }
   ],
   "source": [
    "no_1= [23,14,20,40,29,23]\n",
    "print(no_1)"
   ]
  },
  {
   "cell_type": "code",
   "execution_count": 63,
   "id": "00aa9afe-3e78-49a3-95f3-7f8d8c3b0682",
   "metadata": {},
   "outputs": [
    {
     "ename": "TypeError",
     "evalue": "unsupported operand type(s) for +: 'set' and 'set'",
     "output_type": "error",
     "traceback": [
      "\u001b[1;31m---------------------------------------------------------------------------\u001b[0m",
      "\u001b[1;31mTypeError\u001b[0m                                 Traceback (most recent call last)",
      "Cell \u001b[1;32mIn[63], line 3\u001b[0m\n\u001b[0;32m      1\u001b[0m no_1\u001b[38;5;241m=\u001b[39m {\u001b[38;5;241m23\u001b[39m,\u001b[38;5;241m14\u001b[39m,\u001b[38;5;241m20\u001b[39m,\u001b[38;5;241m40\u001b[39m,\u001b[38;5;241m29\u001b[39m,\u001b[38;5;241m23\u001b[39m}\n\u001b[0;32m      2\u001b[0m no_2 \u001b[38;5;241m=\u001b[39m {\u001b[38;5;241m23\u001b[39m,\u001b[38;5;241m43\u001b[39m,\u001b[38;5;241m45\u001b[39m,\u001b[38;5;241m23\u001b[39m,\u001b[38;5;241m43\u001b[39m}\n\u001b[1;32m----> 3\u001b[0m AB \u001b[38;5;241m=\u001b[39m (no_1\u001b[38;5;241m+\u001b[39mno_2)\n\u001b[0;32m      4\u001b[0m \u001b[38;5;28mprint\u001b[39m(AB)\n",
      "\u001b[1;31mTypeError\u001b[0m: unsupported operand type(s) for +: 'set' and 'set'"
     ]
    }
   ],
   "source": [
    "no_1= {23,14,20,40,29,23}\n",
    "no_2 = {23,43,45,23,43}\n",
    "AB = (no_1+no_2)\n",
    "print(AB)"
   ]
  },
  {
   "cell_type": "code",
   "execution_count": 68,
   "id": "218bd3d8-c1c3-4c8e-b14e-85a2d3c06ebd",
   "metadata": {},
   "outputs": [
    {
     "name": "stdout",
     "output_type": "stream",
     "text": [
      "{40, 20, 29}\n"
     ]
    }
   ],
   "source": [
    "no_1= {23,20,40,29,23}\n",
    "no_2 = {23,43,45,23,27}\n",
    "c = (no_1-no_2)\n",
    "print(c)"
   ]
  },
  {
   "cell_type": "code",
   "execution_count": 67,
   "id": "63905656-9771-4a19-a29c-09341e1c40db",
   "metadata": {},
   "outputs": [
    {
     "name": "stdout",
     "output_type": "stream",
     "text": [
      "{43, 45}\n"
     ]
    }
   ],
   "source": [
    "no_1= {23,20,40,29,23}\n",
    "no_2 = {23,43,45,23,43}\n",
    "c = (no_2-no_1)\n",
    "print(c)"
   ]
  },
  {
   "cell_type": "code",
   "execution_count": 7,
   "id": "b34d130a-0eaf-44df-9f4d-8882e5b9c460",
   "metadata": {},
   "outputs": [
    {
     "name": "stdout",
     "output_type": "stream",
     "text": [
      "{20, 'a', 23, 40, 29, 14}\n"
     ]
    }
   ],
   "source": [
    "no_1= {23,14,20,40,29,23}\n",
    "no_2 = {23,43,45,23,43}\n",
    "no_1.add(\"a\") \n",
    "print(no_1)"
   ]
  },
  {
   "cell_type": "code",
   "execution_count": 77,
   "id": "d4db5370-df74-4067-a112-6565fef77a9f",
   "metadata": {},
   "outputs": [
    {
     "name": "stdout",
     "output_type": "stream",
     "text": [
      "{43, 45, 23}\n"
     ]
    }
   ],
   "source": [
    "abc = (no_1 and no_2)\n",
    "print(abc)"
   ]
  },
  {
   "cell_type": "code",
   "execution_count": 79,
   "id": "82f3ca8e-70a0-44bf-aad1-f47a248d2f1e",
   "metadata": {},
   "outputs": [
    {
     "name": "stdout",
     "output_type": "stream",
     "text": [
      "[20, 23, 40, 29, 14]\n",
      "[20, 23, 40, 29, 14, 200]\n"
     ]
    }
   ],
   "source": [
    "no_1= {23,14,20,40,29,23}\n",
    "A1 = list(no_1)\n",
    "print(A1)\n",
    "A1.append(200)\n",
    "print(A1)"
   ]
  },
  {
   "cell_type": "code",
   "execution_count": 80,
   "id": "9baab84c-ece0-4ccc-94d1-ff05e527e1c7",
   "metadata": {},
   "outputs": [
    {
     "name": "stdout",
     "output_type": "stream",
     "text": [
      "[20, 23, 40, 29, 14, 43, 45, 23]\n"
     ]
    }
   ],
   "source": [
    "no_1= {23,14,20,40,29,23}\n",
    "no_2 = {23,43,45,23,43}\n",
    "a = list(no_1)\n",
    "b = list(no_2)\n",
    "c = a + b\n",
    "print(c)"
   ]
  },
  {
   "cell_type": "code",
   "execution_count": 87,
   "id": "2e61967a-4323-4286-8163-f68f69069ce3",
   "metadata": {},
   "outputs": [
    {
     "name": "stdout",
     "output_type": "stream",
     "text": [
      "(40, 99, 23, 23, 45, 20)\n"
     ]
    }
   ],
   "source": [
    "set1 = {23,40,99}\n",
    "tuple1 = (23,45,20)\n",
    "A = tuple(set1)\n",
    "c = (A + tuple1)\n",
    "print(c) "
   ]
  },
  {
   "cell_type": "code",
   "execution_count": 89,
   "id": "7f3001b0-034b-4c8a-b0cc-8e80c28b74ff",
   "metadata": {},
   "outputs": [
    {
     "name": "stdout",
     "output_type": "stream",
     "text": [
      "{99, 40, 45, 20, 23}\n"
     ]
    }
   ],
   "source": [
    "Ug = set(c)\n",
    "print(Ug) "
   ]
  },
  {
   "cell_type": "code",
   "execution_count": 92,
   "id": "4c4c0311-ed91-4161-ba4b-fb6afc3b26ba",
   "metadata": {},
   "outputs": [
    {
     "name": "stdout",
     "output_type": "stream",
     "text": [
      "[40, 99, 23, 23, 45, 20]\n"
     ]
    }
   ],
   "source": [
    "list1 = list(set1)\n",
    "list2 = list(tuple1)\n",
    "ab = list1 + list2\n",
    "print(ab) "
   ]
  },
  {
   "cell_type": "markdown",
   "id": "e89ef2ca-0e0c-4fe7-8eee-9c34fe354552",
   "metadata": {},
   "source": [
    "#### Concatenation -"
   ]
  },
  {
   "cell_type": "code",
   "execution_count": 54,
   "id": "188403bd-1986-458a-9e77-2ad77aae82bd",
   "metadata": {},
   "outputs": [
    {
     "name": "stdout",
     "output_type": "stream",
     "text": [
      "[20, 23, 40, 29, 14, 43, 45, 23]\n"
     ]
    }
   ],
   "source": [
    "# set concatenation \n",
    "no_1= {23,14,20,40,29,23}\n",
    "no_2 = {23,43,45,23,43}\n",
    "a = list(no_1)\n",
    "b = list(no_2)\n",
    "c = a + b\n",
    "print(c)"
   ]
  },
  {
   "cell_type": "code",
   "execution_count": 55,
   "id": "148f47a9-248f-48a5-b9a2-2a8c300204fa",
   "metadata": {},
   "outputs": [
    {
     "name": "stdout",
     "output_type": "stream",
     "text": [
      "{40, 43, 45, 14, 20, 23, 29}\n"
     ]
    }
   ],
   "source": [
    "sample_set = set(c)\n",
    "print(sample_set)"
   ]
  },
  {
   "cell_type": "markdown",
   "id": "19c218b2-cc76-49ee-8233-a9464282591f",
   "metadata": {},
   "source": [
    "### Empty set-"
   ]
  },
  {
   "cell_type": "code",
   "execution_count": 99,
   "id": "25949c46-65cd-45e1-93b2-e22cafc0a0d6",
   "metadata": {},
   "outputs": [
    {
     "name": "stdout",
     "output_type": "stream",
     "text": [
      "<class 'set'>\n"
     ]
    }
   ],
   "source": [
    "set1 = set()\n",
    "print(type(set1))"
   ]
  },
  {
   "cell_type": "code",
   "execution_count": 100,
   "id": "059f2d56-d88f-448c-b902-a1213bc8a49d",
   "metadata": {},
   "outputs": [
    {
     "name": "stdout",
     "output_type": "stream",
     "text": [
      "<class 'dict'>\n"
     ]
    }
   ],
   "source": [
    "set2 ={}\n",
    "print(type(set2))"
   ]
  },
  {
   "cell_type": "code",
   "execution_count": 103,
   "id": "91129d4b-792c-4e80-832f-9b577b88d71d",
   "metadata": {},
   "outputs": [
    {
     "name": "stdout",
     "output_type": "stream",
     "text": [
      "<class 'tuple'>\n"
     ]
    }
   ],
   "source": [
    "set3 = ()\n",
    "print(type(set3))"
   ]
  },
  {
   "cell_type": "code",
   "execution_count": 114,
   "id": "e992b86d-5648-45c4-bbb7-775c6d25e445",
   "metadata": {},
   "outputs": [
    {
     "name": "stdout",
     "output_type": "stream",
     "text": [
      "<class 'tuple'>\n"
     ]
    }
   ],
   "source": [
    "tuple_1 = ()\n",
    "print(type(tuple_1))"
   ]
  },
  {
   "cell_type": "markdown",
   "id": "0cb848be-648e-4aa3-b0fe-52067196ad04",
   "metadata": {},
   "source": [
    "### Accessing items of a set: set being unordered so no indexing-"
   ]
  },
  {
   "cell_type": "code",
   "execution_count": 104,
   "id": "72e7fdb8-03e7-478c-ba2d-15092170a2ab",
   "metadata": {},
   "outputs": [
    {
     "name": "stdout",
     "output_type": "stream",
     "text": [
      "Atlas shrugged\n",
      "Harry potter\n",
      "Angles and demons\n"
     ]
    }
   ],
   "source": [
    "book_set = {\"Harry potter\", \"Angles and demons\", \"Atlas shrugged\"}\n",
    "for i in book_set:\n",
    "    print(i)"
   ]
  },
  {
   "cell_type": "code",
   "execution_count": 112,
   "id": "0bd0283b-a730-4e47-b3ad-36dfa986b949",
   "metadata": {},
   "outputs": [
    {
     "name": "stdout",
     "output_type": "stream",
     "text": [
      "Atlas shrugged\n",
      "Harry potter\n",
      "Angles and demons\n"
     ]
    }
   ],
   "source": [
    "a = list(book_set)\n",
    "for i in a:\n",
    "    print(i)"
   ]
  },
  {
   "cell_type": "code",
   "execution_count": 111,
   "id": "eef29a62-0fad-4f11-b0ac-0e79d894ccc2",
   "metadata": {},
   "outputs": [
    {
     "name": "stdout",
     "output_type": "stream",
     "text": [
      "['Atlas shrugged', 'Harry potter', 'Angles and demons']\n",
      "Atlas shrugged\n",
      "Harry potter\n",
      "['Atlas shrugged', 'Harry potter', 'Angles and demons']\n"
     ]
    }
   ],
   "source": [
    "a = list(book_set)\n",
    "print(a[0:])\n",
    "print(a[0])\n",
    "print(a[1])\n",
    "print(a[0:3])"
   ]
  },
  {
   "cell_type": "markdown",
   "id": "d6d2c161-920a-4f92-aa53-bc4a5efc52f9",
   "metadata": {},
   "source": [
    "### checking if an item exists in a set-"
   ]
  },
  {
   "cell_type": "code",
   "execution_count": 8,
   "id": "8da42bf6-979f-454f-928d-dad9bd3f3e27",
   "metadata": {},
   "outputs": [
    {
     "data": {
      "text/plain": [
       "True"
      ]
     },
     "execution_count": 8,
     "metadata": {},
     "output_type": "execute_result"
    }
   ],
   "source": [
    "set1 = { 23,49, \"sona\", \"aqsa\", \"aditya\",39.3}\n",
    "23 in set1"
   ]
  },
  {
   "cell_type": "code",
   "execution_count": 2,
   "id": "d26b71af-196a-4bb1-b77e-747e46086eb8",
   "metadata": {},
   "outputs": [
    {
     "data": {
      "text/plain": [
       "True"
      ]
     },
     "execution_count": 2,
     "metadata": {},
     "output_type": "execute_result"
    }
   ],
   "source": [
    "set2 = { \"sona\", \"aqsa\", \"harry potter\", \"aditya\"}\n",
    "\"sona\" in set2 \n"
   ]
  },
  {
   "cell_type": "code",
   "execution_count": 3,
   "id": "4882aa05-2624-49f9-b794-5627dcee26a3",
   "metadata": {},
   "outputs": [
    {
     "data": {
      "text/plain": [
       "False"
      ]
     },
     "execution_count": 3,
     "metadata": {},
     "output_type": "execute_result"
    }
   ],
   "source": [
    "\"rohan\" in set2"
   ]
  },
  {
   "cell_type": "code",
   "execution_count": 6,
   "id": "0669b992-8a0d-4781-9901-aeeb954c1ff8",
   "metadata": {},
   "outputs": [
    {
     "name": "stdout",
     "output_type": "stream",
     "text": [
      "4\n"
     ]
    }
   ],
   "source": [
    "print(len(set2))"
   ]
  },
  {
   "cell_type": "code",
   "execution_count": 6,
   "id": "696e1f80-6ac7-40f3-b86d-4ff980fbf3b6",
   "metadata": {},
   "outputs": [
    {
     "name": "stdout",
     "output_type": "stream",
     "text": [
      "yes\n"
     ]
    }
   ],
   "source": [
    "if \"harry potter\" in set2:\n",
    "    print( \"yes\")\n",
    "else:\n",
    "    print(\"no\")"
   ]
  },
  {
   "cell_type": "markdown",
   "id": "b86c07df-c84a-4cab-9506-cc699ca2446d",
   "metadata": {},
   "source": [
    "### Removing items from a set-"
   ]
  },
  {
   "cell_type": "markdown",
   "id": "197bcbc8-d74b-4a53-b4d7-6c16213a641c",
   "metadata": {},
   "source": [
    "* Remove() = to remove a single item from a set . this method will take 1 parameter , which is the item to be removed from the set. throws a keyerror if an item not present in original set."
   ]
  },
  {
   "cell_type": "markdown",
   "id": "08cd4102-8560-40e5-940b-2df1363944ed",
   "metadata": {},
   "source": [
    "* Discard() = to remove a single item that may or may not be present in the set . this method also takes 1 parameter, which is the items is present in the set will remove it. it will not throw any error if it is not present."
   ]
  },
  {
   "cell_type": "markdown",
   "id": "b9d98af0-fb0b-4d17-9533-680fc1fca3f9",
   "metadata": {},
   "source": [
    "* pop() = to remove any random item from a set."
   ]
  },
  {
   "cell_type": "markdown",
   "id": "f9593a50-e856-456a-9fcf-dad2d9de4ef3",
   "metadata": {},
   "source": [
    "* clear() = to remove all items . the output will be an empty set."
   ]
  },
  {
   "cell_type": "markdown",
   "id": "ad3060a0-6701-42c6-b2f2-4815b2b6add9",
   "metadata": {},
   "source": [
    "* del set = delete the item."
   ]
  },
  {
   "cell_type": "code",
   "execution_count": 11,
   "id": "78be1de1-83ed-412d-98f8-58656d3ab081",
   "metadata": {},
   "outputs": [
    {
     "name": "stdout",
     "output_type": "stream",
     "text": [
      "{49, 'aditya', 'aqsa', 39.3, 'sona'}\n"
     ]
    }
   ],
   "source": [
    "set1 = {23, 49, \"sona\", \"aqsa\", \"aditya\",39.3}\n",
    "set1.remove(23)\n",
    "print(set1)"
   ]
  },
  {
   "cell_type": "code",
   "execution_count": 12,
   "id": "976a89d4-0005-4304-9986-c44c9b3550fa",
   "metadata": {},
   "outputs": [
    {
     "ename": "KeyError",
     "evalue": "300",
     "output_type": "error",
     "traceback": [
      "\u001b[1;31m---------------------------------------------------------------------------\u001b[0m",
      "\u001b[1;31mKeyError\u001b[0m                                  Traceback (most recent call last)",
      "Cell \u001b[1;32mIn[12], line 1\u001b[0m\n\u001b[1;32m----> 1\u001b[0m set1\u001b[38;5;241m.\u001b[39mremove(\u001b[38;5;241m300\u001b[39m)\n\u001b[0;32m      2\u001b[0m \u001b[38;5;28mprint\u001b[39m(set1)\n",
      "\u001b[1;31mKeyError\u001b[0m: 300"
     ]
    }
   ],
   "source": [
    "set1.remove(300)\n",
    "print(set1)"
   ]
  },
  {
   "cell_type": "code",
   "execution_count": 31,
   "id": "747f970e-f3e3-4298-8ce4-debfff74c958",
   "metadata": {},
   "outputs": [
    {
     "name": "stdout",
     "output_type": "stream",
     "text": [
      "{'aditya', 23, 'aqsa', 39.3, 'sona', 40}\n"
     ]
    }
   ],
   "source": [
    "set2 = {23, 49, \"sona\", \"aqsa\", 40,\"aditya\",39.3}\n",
    "set2.discard(49)\n",
    "print(set2)"
   ]
  },
  {
   "cell_type": "code",
   "execution_count": 21,
   "id": "ea48cfa1-6041-4f65-ae93-db3601962698",
   "metadata": {},
   "outputs": [
    {
     "name": "stdout",
     "output_type": "stream",
     "text": [
      "{'aditya', 23, 'aqsa', 39.3, 'sona', 40}\n"
     ]
    }
   ],
   "source": [
    "set2.discard(900)\n",
    "print(set2)"
   ]
  },
  {
   "cell_type": "code",
   "execution_count": 26,
   "id": "c2ac6e11-2f08-409a-b63d-28e2dc9de153",
   "metadata": {},
   "outputs": [
    {
     "name": "stdout",
     "output_type": "stream",
     "text": [
      "3066890086976\n",
      "{49, 'aditya', 'aqsa', 39.3, 'sona'}\n",
      "3066890086976\n"
     ]
    }
   ],
   "source": [
    "set1 = {23, 49, \"sona\", \"aqsa\", \"aditya\",39.3}\n",
    "print(id(set1))\n",
    "set1.remove(23)\n",
    "print(set1)\n",
    "print(id(set1))"
   ]
  },
  {
   "cell_type": "code",
   "execution_count": 33,
   "id": "ef31170f-9078-46d7-ad3a-031576663323",
   "metadata": {},
   "outputs": [
    {
     "name": "stdout",
     "output_type": "stream",
     "text": [
      "{'aditya', 23, 'aqsa', 39.3, 'sona', 40}\n"
     ]
    }
   ],
   "source": [
    "set2 = {23, 49, \"sona\", \"aqsa\", 40,\"aditya\",39.3}\n",
    "set2.pop()\n",
    "print(set2)"
   ]
  },
  {
   "cell_type": "code",
   "execution_count": 24,
   "id": "16982faa-069a-4b43-82d8-305fcfbdd297",
   "metadata": {},
   "outputs": [
    {
     "data": {
      "text/plain": [
       "'aditya'"
      ]
     },
     "execution_count": 24,
     "metadata": {},
     "output_type": "execute_result"
    }
   ],
   "source": [
    "set2.pop()"
   ]
  },
  {
   "cell_type": "code",
   "execution_count": 29,
   "id": "89e43cfc-8c74-4f50-a887-b79d6ea666d3",
   "metadata": {},
   "outputs": [
    {
     "name": "stdout",
     "output_type": "stream",
     "text": [
      "set()\n"
     ]
    }
   ],
   "source": [
    "set2.clear()\n",
    "print(set2)"
   ]
  },
  {
   "cell_type": "code",
   "execution_count": 35,
   "id": "3ac313b2-18a8-4b92-8fb8-8d5bc0ec3bf6",
   "metadata": {},
   "outputs": [
    {
     "ename": "NameError",
     "evalue": "name 'set2' is not defined",
     "output_type": "error",
     "traceback": [
      "\u001b[1;31m---------------------------------------------------------------------------\u001b[0m",
      "\u001b[1;31mNameError\u001b[0m                                 Traceback (most recent call last)",
      "Cell \u001b[1;32mIn[35], line 1\u001b[0m\n\u001b[1;32m----> 1\u001b[0m \u001b[38;5;28;01mdel\u001b[39;00m set2\n\u001b[0;32m      2\u001b[0m \u001b[38;5;28mprint\u001b[39m(set2)\n",
      "\u001b[1;31mNameError\u001b[0m: name 'set2' is not defined"
     ]
    }
   ],
   "source": [
    "del set2\n",
    "print(set2)"
   ]
  },
  {
   "cell_type": "code",
   "execution_count": 13,
   "id": "666a80bc-54c9-4ed5-901f-bac5ee8c1133",
   "metadata": {},
   "outputs": [
    {
     "ename": "NameError",
     "evalue": "name 'set2' is not defined",
     "output_type": "error",
     "traceback": [
      "\u001b[1;31m---------------------------------------------------------------------------\u001b[0m",
      "\u001b[1;31mNameError\u001b[0m                                 Traceback (most recent call last)",
      "Cell \u001b[1;32mIn[13], line 3\u001b[0m\n\u001b[0;32m      1\u001b[0m set2 \u001b[38;5;241m=\u001b[39m [\u001b[38;5;241m23\u001b[39m, \u001b[38;5;241m49\u001b[39m, \u001b[38;5;124m\"\u001b[39m\u001b[38;5;124msona\u001b[39m\u001b[38;5;124m\"\u001b[39m, \u001b[38;5;124m\"\u001b[39m\u001b[38;5;124maqsa\u001b[39m\u001b[38;5;124m\"\u001b[39m, \u001b[38;5;241m40\u001b[39m,\u001b[38;5;124m\"\u001b[39m\u001b[38;5;124maditya\u001b[39m\u001b[38;5;124m\"\u001b[39m,\u001b[38;5;241m39.3\u001b[39m]\n\u001b[0;32m      2\u001b[0m \u001b[38;5;28;01mdel\u001b[39;00m set2\n\u001b[1;32m----> 3\u001b[0m \u001b[38;5;28mprint\u001b[39m(set2)\n",
      "\u001b[1;31mNameError\u001b[0m: name 'set2' is not defined"
     ]
    }
   ],
   "source": [
    "set2 = [23, 49, \"sona\", \"aqsa\", 40,\"aditya\",39.3]\n",
    "del set2\n",
    "print(set2)"
   ]
  },
  {
   "cell_type": "markdown",
   "id": "1fcd400a-3158-4c66-9c95-9b93f0be44c5",
   "metadata": {},
   "source": [
    "The following table will summerize  the set "
   ]
  },
  {
   "cell_type": "markdown",
   "id": "b8de7d72-50e2-4eac-816b-ad5e2766e4b2",
   "metadata": {},
   "source": [
    "1. Union  \n",
    "2. intersection "
   ]
  },
  {
   "cell_type": "code",
   "execution_count": 42,
   "id": "c8dfb997-34ca-4cd7-86aa-596fda59e863",
   "metadata": {},
   "outputs": [
    {
     "data": {
      "text/plain": [
       "{2, 3, 4, 5, 6, 10, 30, 90, 93}"
      ]
     },
     "execution_count": 42,
     "metadata": {},
     "output_type": "execute_result"
    }
   ],
   "source": [
    "set1={ 2,3,5,30,90}\n",
    "set2 = {3,6,93,4,10}\n",
    "set1.union(set2)"
   ]
  },
  {
   "cell_type": "code",
   "execution_count": 43,
   "id": "a3ba1ab1-67e5-493f-b601-1e2d26d91ea1",
   "metadata": {},
   "outputs": [
    {
     "data": {
      "text/plain": [
       "{3}"
      ]
     },
     "execution_count": 43,
     "metadata": {},
     "output_type": "execute_result"
    }
   ],
   "source": [
    "set1.intersection(set2)"
   ]
  },
  {
   "cell_type": "code",
   "execution_count": 44,
   "id": "9265d2a0-297e-4b73-a94b-826d9ccfda76",
   "metadata": {},
   "outputs": [
    {
     "data": {
      "text/plain": [
       "{3, 4, 6, 10, 93}"
      ]
     },
     "execution_count": 44,
     "metadata": {},
     "output_type": "execute_result"
    }
   ],
   "source": [
    "set2.intersection(set2)"
   ]
  },
  {
   "cell_type": "markdown",
   "id": "b3f529ad-5c97-4e92-ae35-2516016bdd48",
   "metadata": {},
   "source": [
    " the operation difference written the unique items of the1st set which are not in 2nd set."
   ]
  },
  {
   "cell_type": "code",
   "execution_count": 7,
   "id": "86b7b192-2ad1-4b69-98f8-1b409fdde260",
   "metadata": {},
   "outputs": [
    {
     "data": {
      "text/plain": [
       "{2, 30, 90}"
      ]
     },
     "execution_count": 7,
     "metadata": {},
     "output_type": "execute_result"
    }
   ],
   "source": [
    "set1={ 2,3,5,30,90}\n",
    "set2 = {3,6,93,5,10}\n",
    "set1.difference(set2)"
   ]
  },
  {
   "cell_type": "code",
   "execution_count": 10,
   "id": "b2a835f8-2f2d-4f14-9fe9-6272797325c5",
   "metadata": {},
   "outputs": [
    {
     "name": "stdout",
     "output_type": "stream",
     "text": [
      "{2, 90, 30}\n"
     ]
    }
   ],
   "source": [
    "print(set1.difference(set2))"
   ]
  },
  {
   "cell_type": "code",
   "execution_count": 8,
   "id": "d0d1e4ab-bf6b-4947-86f7-d36cb186dbdf",
   "metadata": {},
   "outputs": [
    {
     "data": {
      "text/plain": [
       "{6, 10, 93}"
      ]
     },
     "execution_count": 8,
     "metadata": {},
     "output_type": "execute_result"
    }
   ],
   "source": [
    "set2.difference(set1)"
   ]
  },
  {
   "cell_type": "markdown",
   "id": "7adade81-4566-407e-81e4-6f9d89714087",
   "metadata": {},
   "source": [
    " Symmetric difference-\n",
    "written the elements of both set ."
   ]
  },
  {
   "cell_type": "code",
   "execution_count": 8,
   "id": "38faea70-fa6b-4fd0-975a-92a9086baa6c",
   "metadata": {},
   "outputs": [
    {
     "ename": "AttributeError",
     "evalue": "'set' object has no attribute 'symmetricdifference'",
     "output_type": "error",
     "traceback": [
      "\u001b[1;31m---------------------------------------------------------------------------\u001b[0m",
      "\u001b[1;31mAttributeError\u001b[0m                            Traceback (most recent call last)",
      "Cell \u001b[1;32mIn[8], line 3\u001b[0m\n\u001b[0;32m      1\u001b[0m set1 \u001b[38;5;241m=\u001b[39m {\u001b[38;5;241m2\u001b[39m,\u001b[38;5;241m3\u001b[39m,\u001b[38;5;241m30\u001b[39m,\u001b[38;5;241m90\u001b[39m}\n\u001b[0;32m      2\u001b[0m set2 \u001b[38;5;241m=\u001b[39m {\u001b[38;5;241m3\u001b[39m,\u001b[38;5;241m6\u001b[39m,\u001b[38;5;241m93\u001b[39m,\u001b[38;5;241m10\u001b[39m} \n\u001b[1;32m----> 3\u001b[0m set1\u001b[38;5;241m.\u001b[39msymmetricdifference(set2)\n\u001b[0;32m      4\u001b[0m \u001b[38;5;28mprint\u001b[39m(set1)\n",
      "\u001b[1;31mAttributeError\u001b[0m: 'set' object has no attribute 'symmetricdifference'"
     ]
    }
   ],
   "source": [
    "set1 = {2,3,30,90}\n",
    "set2 = {3,6,93,10} \n",
    "set1.symmetricdifference(set2)\n",
    "print(set1)"
   ]
  },
  {
   "cell_type": "code",
   "execution_count": 9,
   "id": "b54f1f8e-f8a8-43df-a46b-f977f998aa24",
   "metadata": {},
   "outputs": [
    {
     "name": "stdout",
     "output_type": "stream",
     "text": [
      "{10, 3, 93, 6}\n"
     ]
    }
   ],
   "source": [
    "set2.symmetric_difference(set1)\n",
    "print(set2)"
   ]
  },
  {
   "cell_type": "code",
   "execution_count": 10,
   "id": "467e96a8-2916-40d3-95c2-f94e8ca98d0b",
   "metadata": {},
   "outputs": [
    {
     "name": "stdout",
     "output_type": "stream",
     "text": [
      "{2, 3, 90, 30}\n"
     ]
    }
   ],
   "source": [
    "set1.symmetric_difference(set2)\n",
    "print(set1)"
   ]
  },
  {
   "cell_type": "code",
   "execution_count": 11,
   "id": "9e372c6d-7444-4440-9522-1212355372e7",
   "metadata": {},
   "outputs": [
    {
     "name": "stdout",
     "output_type": "stream",
     "text": [
      "{2, 6, 10, 90, 93, 30}\n"
     ]
    }
   ],
   "source": [
    "set1 = {2,3,30,90}\n",
    "set2 = {3,6,93,10}\n",
    "print(set1.symmetric_difference(set2))"
   ]
  },
  {
   "cell_type": "code",
   "execution_count": null,
   "id": "cab1be0f-0ee4-484c-ad1f-cc2bcd6c391c",
   "metadata": {},
   "outputs": [],
   "source": []
  }
 ],
 "metadata": {
  "kernelspec": {
   "display_name": "Python [conda env:base] *",
   "language": "python",
   "name": "conda-base-py"
  },
  "language_info": {
   "codemirror_mode": {
    "name": "ipython",
    "version": 3
   },
   "file_extension": ".py",
   "mimetype": "text/x-python",
   "name": "python",
   "nbconvert_exporter": "python",
   "pygments_lexer": "ipython3",
   "version": "3.13.5"
  }
 },
 "nbformat": 4,
 "nbformat_minor": 5
}
