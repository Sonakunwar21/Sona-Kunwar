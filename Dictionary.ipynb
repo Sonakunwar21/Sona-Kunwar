{
 "cells": [
  {
   "cell_type": "markdown",
   "id": "43740604-ae0a-4a45-bf26-cc6d606d4fc6",
   "metadata": {},
   "source": [
    "## Dictionary -"
   ]
  },
  {
   "cell_type": "markdown",
   "id": "c2a59f00-f45f-4532-b349-d3d5173f7e16",
   "metadata": {},
   "source": [
    "Defination : A dictionary is a mutable datatype that maps unique , immutable keys to value."
   ]
  },
  {
   "cell_type": "code",
   "execution_count": 27,
   "id": "d80ad86d-ca3e-4713-b74c-517e4c12939b",
   "metadata": {},
   "outputs": [
    {
     "name": "stdout",
     "output_type": "stream",
     "text": [
      "<class 'dict'>\n"
     ]
    }
   ],
   "source": [
    "d1 = {\"course\" : \"data science\", \"timing\": \"10am\", \"name\": \"Sona\" }\n",
    "print(type(d1))"
   ]
  },
  {
   "cell_type": "code",
   "execution_count": 1,
   "id": "65a20242-6f75-47f3-ba45-03b453a66203",
   "metadata": {},
   "outputs": [
    {
     "name": "stdout",
     "output_type": "stream",
     "text": [
      "{'course': ' Data scientist', 'No.of students': 100}\n"
     ]
    }
   ],
   "source": [
    "d2 = {\"course\": \"Data analytics\", \"No.of students\": 100 , \"course\": \" Data scientist\"}\n",
    "print(d2)"
   ]
  },
  {
   "cell_type": "code",
   "execution_count": 29,
   "id": "422e6e4b-0db8-4d19-b0f4-90ab11401080",
   "metadata": {},
   "outputs": [
    {
     "name": "stdout",
     "output_type": "stream",
     "text": [
      "{'course1': 'data analytics', 'course2': 'data analytics'}\n"
     ]
    }
   ],
   "source": [
    "d2 = {\"course1\": \"data analytics\",\"course2\": \"data analytics\"}\n",
    "print(d2)"
   ]
  },
  {
   "cell_type": "code",
   "execution_count": 30,
   "id": "9929d1ee-1cd0-4ab8-945b-94b32e5d4c8d",
   "metadata": {},
   "outputs": [
    {
     "name": "stdout",
     "output_type": "stream",
     "text": [
      "{1: 'prakash', 2: 'Aqsa', 3: 'priyanshu'}\n"
     ]
    }
   ],
   "source": [
    "std = { 1 :\"prakash\" , 2 : \"Aqsa\", 3 : \"priyanshu\"}\n",
    "print(std)"
   ]
  },
  {
   "cell_type": "code",
   "execution_count": 31,
   "id": "35acc8aa-e720-4b22-aebf-6978b3a8ac39",
   "metadata": {},
   "outputs": [
    {
     "ename": "TypeError",
     "evalue": "unhashable type: 'list'",
     "output_type": "error",
     "traceback": [
      "\u001b[1;31m---------------------------------------------------------------------------\u001b[0m",
      "\u001b[1;31mTypeError\u001b[0m                                 Traceback (most recent call last)",
      "Cell \u001b[1;32mIn[31], line 1\u001b[0m\n\u001b[1;32m----> 1\u001b[0m Innovators\u001b[38;5;241m=\u001b[39m { [\u001b[38;5;241m1\u001b[39m,\u001b[38;5;241m2\u001b[39m ]: \u001b[38;5;124m\"\u001b[39m\u001b[38;5;124msteve jobs\u001b[39m\u001b[38;5;124m\"\u001b[39m , [ \u001b[38;5;241m3\u001b[39m,\u001b[38;5;241m4\u001b[39m]: \u001b[38;5;124m\"\u001b[39m\u001b[38;5;124melon musk\u001b[39m\u001b[38;5;124m\"\u001b[39m}\n\u001b[0;32m      2\u001b[0m \u001b[38;5;28mprint\u001b[39m(Innovators)\n",
      "\u001b[1;31mTypeError\u001b[0m: unhashable type: 'list'"
     ]
    }
   ],
   "source": [
    "Innovators= { [1,2 ]: \"steve jobs\" , [ 3,4]: \"elon musk\"}\n",
    "print(Innovators)\n"
   ]
  },
  {
   "cell_type": "code",
   "execution_count": 1,
   "id": "4f0dc022-26de-4bda-b8cd-5fcb2930d08b",
   "metadata": {},
   "outputs": [
    {
     "name": "stdout",
     "output_type": "stream",
     "text": [
      "{(1, 2): 'steve jobs', (3, 4): 'elon musk'}\n"
     ]
    }
   ],
   "source": [
    "Innovators1 = { (1,2 ): \"steve jobs\" , ( 3,4): \"elon musk\"}\n",
    "print(Innovators1)"
   ]
  },
  {
   "cell_type": "code",
   "execution_count": 2,
   "id": "e4993a89-3b81-42a8-ab03-275494288220",
   "metadata": {},
   "outputs": [
    {
     "ename": "TypeError",
     "evalue": "unhashable type: 'set'",
     "output_type": "error",
     "traceback": [
      "\u001b[1;31m---------------------------------------------------------------------------\u001b[0m",
      "\u001b[1;31mTypeError\u001b[0m                                 Traceback (most recent call last)",
      "Cell \u001b[1;32mIn[2], line 1\u001b[0m\n\u001b[1;32m----> 1\u001b[0m Innovators2\u001b[38;5;241m=\u001b[39m { {\u001b[38;5;241m1\u001b[39m,\u001b[38;5;241m2\u001b[39m }: \u001b[38;5;124m\"\u001b[39m\u001b[38;5;124msteve jobs\u001b[39m\u001b[38;5;124m\"\u001b[39m , [ \u001b[38;5;241m3\u001b[39m,\u001b[38;5;241m4\u001b[39m]: \u001b[38;5;124m\"\u001b[39m\u001b[38;5;124melon musk\u001b[39m\u001b[38;5;124m\"\u001b[39m}\n\u001b[0;32m      2\u001b[0m \u001b[38;5;28mprint\u001b[39m(Innovators2)\n",
      "\u001b[1;31mTypeError\u001b[0m: unhashable type: 'set'"
     ]
    }
   ],
   "source": [
    "Innovators2= { {1,2 }: \"steve jobs\" , [ 3,4]: \"elon musk\"}\n",
    "print(Innovators2)"
   ]
  },
  {
   "cell_type": "code",
   "execution_count": 3,
   "id": "eb8f8810-4e59-4e2e-91a3-49455dfd54f6",
   "metadata": {},
   "outputs": [
    {
     "ename": "TypeError",
     "evalue": "unhashable type: 'dict'",
     "output_type": "error",
     "traceback": [
      "\u001b[1;31m---------------------------------------------------------------------------\u001b[0m",
      "\u001b[1;31mTypeError\u001b[0m                                 Traceback (most recent call last)",
      "Cell \u001b[1;32mIn[3], line 1\u001b[0m\n\u001b[1;32m----> 1\u001b[0m d3 \u001b[38;5;241m=\u001b[39m { \u001b[38;5;241m1\u001b[39m : \u001b[38;5;124m\"\u001b[39m\u001b[38;5;124mclass\u001b[39m\u001b[38;5;124m\"\u001b[39m, { \u001b[38;5;124m\"\u001b[39m\u001b[38;5;124mname\u001b[39m\u001b[38;5;124m\"\u001b[39m: \u001b[38;5;124m\"\u001b[39m\u001b[38;5;124msona\u001b[39m\u001b[38;5;124m\"\u001b[39m} :\u001b[38;5;124m\"\u001b[39m\u001b[38;5;124mPython\u001b[39m\u001b[38;5;124m\"\u001b[39m,\u001b[38;5;124m\"\u001b[39m\u001b[38;5;124mcourse\u001b[39m\u001b[38;5;124m\"\u001b[39m :\u001b[38;5;124m\"\u001b[39m\u001b[38;5;124mdata analytics\u001b[39m\u001b[38;5;124m\"\u001b[39m, \u001b[38;5;241m2\u001b[39m:\u001b[38;5;124m\"\u001b[39m\u001b[38;5;124mpython\u001b[39m\u001b[38;5;124m\"\u001b[39m}\n\u001b[0;32m      2\u001b[0m \u001b[38;5;28mprint\u001b[39m(d3)\n",
      "\u001b[1;31mTypeError\u001b[0m: unhashable type: 'dict'"
     ]
    }
   ],
   "source": [
    "d3 = { 1 : \"class\", { \"name\": \"sona\"} :\"Python\",\"course\" :\"data analytics\", 2:\"python\"}\n",
    "print(d3)"
   ]
  },
  {
   "cell_type": "code",
   "execution_count": 4,
   "id": "958094b3-f55f-4ef3-9dab-ce0b7a1cc88b",
   "metadata": {},
   "outputs": [
    {
     "name": "stdout",
     "output_type": "stream",
     "text": [
      "{1: 'class', 'name': {'sona': 'Python', 'you': 'my'}, 'course': 'data analytics', 2: 'python'}\n"
     ]
    }
   ],
   "source": [
    "d3 = { 1 : \"class\",  \"name\":{ \"sona\":\"Python\", \"you\": \"my\"},\"course\" :\"data analytics\", 2:\"python\"}\n",
    "print(d3)"
   ]
  },
  {
   "cell_type": "code",
   "execution_count": 5,
   "id": "bc6696bc-4fc7-4dea-b7fc-88f8b6597ac7",
   "metadata": {},
   "outputs": [
    {
     "name": "stdout",
     "output_type": "stream",
     "text": [
      "my\n"
     ]
    }
   ],
   "source": [
    "print(d3[\"name\"][\"you\"])"
   ]
  },
  {
   "cell_type": "code",
   "execution_count": 6,
   "id": "6c6b044c-4747-46fa-a1a3-f08203baa14f",
   "metadata": {},
   "outputs": [
    {
     "name": "stdout",
     "output_type": "stream",
     "text": [
      "Python\n"
     ]
    }
   ],
   "source": [
    "print(d3[\"name\"][\"sona\"])"
   ]
  },
  {
   "cell_type": "code",
   "execution_count": 7,
   "id": "4e181e50-27f8-4154-bfbb-0661404c9fc7",
   "metadata": {},
   "outputs": [
    {
     "name": "stdout",
     "output_type": "stream",
     "text": [
      "{'subject': 'art', 'python': 'Easy', 200: 'marks'}\n"
     ]
    }
   ],
   "source": [
    "d4 = { \"subject\":\"art\", \"python\": \"Easy\", 200 : \"marks\"}\n",
    "print(d4)"
   ]
  },
  {
   "cell_type": "code",
   "execution_count": 8,
   "id": "1fed10a3-3c91-4085-819b-4366903cd0e8",
   "metadata": {},
   "outputs": [
    {
     "name": "stdout",
     "output_type": "stream",
     "text": [
      "{1: (2, 3), 5: 'sona'}\n"
     ]
    }
   ],
   "source": [
    "d5 = { 1 : ( 2, 3), 5: \"sona\"}\n",
    "print(d5)"
   ]
  },
  {
   "cell_type": "code",
   "execution_count": 9,
   "id": "e171b553-e315-48ff-a3fa-31840883c260",
   "metadata": {},
   "outputs": [
    {
     "name": "stdout",
     "output_type": "stream",
     "text": [
      "{1: [2, 3], 5: ['sona', 'you'], 'name': 'aqsa'}\n"
     ]
    }
   ],
   "source": [
    "d6 = { 1 : [ 2, 3], 5: [ \"sona\", \"you\"] , \"name\": \"aqsa\"}\n",
    "print(d6)"
   ]
  },
  {
   "cell_type": "code",
   "execution_count": 10,
   "id": "97a3688f-12f7-47f5-b8d6-76067cae865a",
   "metadata": {},
   "outputs": [
    {
     "name": "stdout",
     "output_type": "stream",
     "text": [
      "[2, 3]\n"
     ]
    }
   ],
   "source": [
    "print(d6[1])"
   ]
  },
  {
   "cell_type": "code",
   "execution_count": 11,
   "id": "40047d15-7372-4007-bb6d-592d61970454",
   "metadata": {},
   "outputs": [
    {
     "name": "stdout",
     "output_type": "stream",
     "text": [
      "['sona', 'you']\n"
     ]
    }
   ],
   "source": [
    "print(d6[5])"
   ]
  },
  {
   "cell_type": "code",
   "execution_count": 12,
   "id": "9e5058cb-7340-4a73-b7d2-a0a4b6a2f250",
   "metadata": {},
   "outputs": [
    {
     "name": "stdout",
     "output_type": "stream",
     "text": [
      "aqsa\n"
     ]
    }
   ],
   "source": [
    "print(d6[\"name\"])"
   ]
  },
  {
   "cell_type": "code",
   "execution_count": 35,
   "id": "9ac1e19c-654c-4a53-aa02-059328fde64f",
   "metadata": {},
   "outputs": [
    {
     "name": "stdout",
     "output_type": "stream",
     "text": [
      "1635522744640\n",
      "200\n",
      "{1: [2, 3], 'no': 200, 5: ['sona', 'you'], 'name': 'Mamta'}\n",
      "1635522744640\n"
     ]
    }
   ],
   "source": [
    "d6 = { 1 : [ 2, 3], \"no\" :100 ,5: [ \"sona\", \"you\"] , \"name\": \"Mamta\"}\n",
    "print(id(d6))\n",
    "d6[\"no\"] = 200\n",
    "print(d6[\"no\"])\n",
    "print(d6)\n",
    "print(id(d6))"
   ]
  },
  {
   "cell_type": "markdown",
   "id": "1b013d8a-0d70-48ab-98d6-8c56c243e782",
   "metadata": {},
   "source": [
    "## len()"
   ]
  },
  {
   "cell_type": "markdown",
   "id": "61667e9c-41a6-4647-bd2a-9a3875908367",
   "metadata": {},
   "source": [
    "## Access: [] VS get()"
   ]
  },
  {
   "cell_type": "code",
   "execution_count": 1,
   "id": "57b47d77-b101-42c5-8135-4c7b1b6c1c5f",
   "metadata": {},
   "outputs": [
    {
     "name": "stdout",
     "output_type": "stream",
     "text": [
      "100\n"
     ]
    }
   ],
   "source": [
    "d6 = { 1 : [ 2, 3], \"no\" :100 ,5: [ \"sona\", \"you\"] , \"name\": \"Mamta\"}\n",
    "print(d6[\"no\"])\n"
   ]
  },
  {
   "cell_type": "code",
   "execution_count": 14,
   "id": "fa8ae814-c496-49a3-afe1-8e56f7eac348",
   "metadata": {},
   "outputs": [
    {
     "ename": "SyntaxError",
     "evalue": "invalid syntax. Perhaps you forgot a comma? (3588416533.py, line 5)",
     "output_type": "error",
     "traceback": [
      "\u001b[1;36m  Cell \u001b[1;32mIn[14], line 5\u001b[1;36m\u001b[0m\n\u001b[1;33m    print(\"salery with get:\" d1.get(\"salery\"))\u001b[0m\n\u001b[1;37m          ^\u001b[0m\n\u001b[1;31mSyntaxError\u001b[0m\u001b[1;31m:\u001b[0m invalid syntax. Perhaps you forgot a comma?\n"
     ]
    }
   ],
   "source": [
    "d1 = {\"subject\": \"science\", \"name\": \"harry\", \"age\": 20}\n",
    "print(\"name :\", d1.get(\"name\"))\n",
    "print(\"subject:\",d1.get(\"subject\"))\n",
    "print(\"age with get :\", d1.get(\"age\"))\n",
    "print(\"salery with get:\" d1.get(\"salery\"))\n",
    "print(d[0])    # indexing does not work"
   ]
  },
  {
   "cell_type": "code",
   "execution_count": 4,
   "id": "bfaddaa5-4ec4-4be6-83ca-c97b7390f442",
   "metadata": {},
   "outputs": [
    {
     "name": "stdout",
     "output_type": "stream",
     "text": [
      "name : harry\n",
      "subject: science\n",
      "age with get : 20\n"
     ]
    }
   ],
   "source": [
    "d1 = {\"subject\": \"science\", \"name\": \"harry\", \"age\": 20}\n",
    "print(\"name :\", d1.get(\"name\"))\n",
    "print(\"subject:\",d1.get(\"subject\"))\n",
    "print(\"age with get :\", d1.get(\"age\")) "
   ]
  },
  {
   "cell_type": "code",
   "execution_count": 15,
   "id": "8afeffe9-9f5a-490d-9895-c487bc267938",
   "metadata": {},
   "outputs": [
    {
     "name": "stdout",
     "output_type": "stream",
     "text": [
      "batch: {'class': 'first'}\n"
     ]
    }
   ],
   "source": [
    "d2 = {\"subject\": \"science\", \"name\": \"harry\", \"batch\":{ \"class\": \"first\"}, \"age\": 20}\n",
    "print(\"batch:\" , d2.get(\"batch\"))"
   ]
  },
  {
   "cell_type": "markdown",
   "id": "1b58135d-8662-4dd0-9345-8c4b5212edfb",
   "metadata": {},
   "source": [
    "## insert / Update -"
   ]
  },
  {
   "cell_type": "code",
   "execution_count": 16,
   "id": "247bf22e-2f5b-4736-a85c-970a0cd83547",
   "metadata": {},
   "outputs": [
    {
     "name": "stdout",
     "output_type": "stream",
     "text": [
      "{1: 'saurbh', 2: 'Anjali', 3: 'you'}\n"
     ]
    }
   ],
   "source": [
    "d = {}\n",
    "d[1] = \"saurbh\"\n",
    "d[2] = \"Anjali\"\n",
    "d[3] = \"you\"\n",
    "print(d)"
   ]
  },
  {
   "cell_type": "code",
   "execution_count": 17,
   "id": "04867f04-e47d-4fb2-9d8d-81e446e91b68",
   "metadata": {},
   "outputs": [
    {
     "name": "stdout",
     "output_type": "stream",
     "text": [
      "After update: {1: 'saurbh', 2: 'sona', 3: 'Aqsa'}\n"
     ]
    }
   ],
   "source": [
    "d.update({2: \"sona\" , 3 : \"Aqsa\"})\n",
    "print(\"After update:\" ,d)"
   ]
  },
  {
   "cell_type": "code",
   "execution_count": 18,
   "id": "632cab8c-6137-4aff-a6ba-2c49486ac613",
   "metadata": {},
   "outputs": [
    {
     "name": "stdout",
     "output_type": "stream",
     "text": [
      "after assignment: {'sona': 'mansi', 'name': 'harry', 'friends': 100, 'age': 20}\n"
     ]
    }
   ],
   "source": [
    "d1= {}\n",
    "d1[\"sona\" ] = \"mansi\"\n",
    "d1 [\"name\"] = \"harry\"\n",
    "d1[\"friends\"] = 100\n",
    "d1[\"age\"] = 20\n",
    "print(\"after assignment:\",d1) "
   ]
  },
  {
   "cell_type": "code",
   "execution_count": 19,
   "id": "b74a57d2-78ed-4f34-abf6-ed2537bba6e5",
   "metadata": {},
   "outputs": [
    {
     "name": "stdout",
     "output_type": "stream",
     "text": [
      "{'sona': 'mansi', 'name': 'harry', 'friends': 100, 'age': 21}\n"
     ]
    }
   ],
   "source": [
    "d1.update({\"age\" : 21 })\n",
    "print(d1)"
   ]
  },
  {
   "cell_type": "code",
   "execution_count": 20,
   "id": "4e39aadd-7876-4a4a-91e1-4a68887d4122",
   "metadata": {},
   "outputs": [
    {
     "name": "stdout",
     "output_type": "stream",
     "text": [
      "['sona', 'name', 'friends', 'age']\n"
     ]
    }
   ],
   "source": [
    "list1 = list(d1)\n",
    "print(list1)"
   ]
  },
  {
   "cell_type": "code",
   "execution_count": 21,
   "id": "80d244fe-e0b4-4b20-ab81-6628a557df99",
   "metadata": {},
   "outputs": [
    {
     "name": "stdout",
     "output_type": "stream",
     "text": [
      "('sona', 'name', 'friends', 'age')\n"
     ]
    }
   ],
   "source": [
    "tuple1 = tuple(d1)\n",
    "print(tuple1)"
   ]
  },
  {
   "cell_type": "markdown",
   "id": "3ec747c6-a359-4538-b410-4e9e72758e5e",
   "metadata": {},
   "source": [
    "## pop() -"
   ]
  },
  {
   "cell_type": "code",
   "execution_count": 22,
   "id": "8340d1f8-9c78-432c-9e02-c10fc7c90f62",
   "metadata": {},
   "outputs": [
    {
     "name": "stdout",
     "output_type": "stream",
     "text": [
      "12\n",
      "popped a: 12  | d now: {'b': 34, 'c': 20}\n"
     ]
    }
   ],
   "source": [
    "d = {\"a\": 12, \"b\" : 34 , \"c\":20}\n",
    "item = d.pop(\"a\")\n",
    "print(item)\n",
    "print(\"popped a:\", item , \" | d now:\", d)"
   ]
  },
  {
   "cell_type": "code",
   "execution_count": 5,
   "id": "b35b8b0b-3db6-4752-b605-e93a0c2b8dcc",
   "metadata": {},
   "outputs": [
    {
     "name": "stdout",
     "output_type": "stream",
     "text": [
      "{'b': 34, 'c': 20}\n"
     ]
    }
   ],
   "source": [
    "d = {\"a\": 12, \"b\" : 34 , \"c\":20}\n",
    "d.pop(\"a\")\n",
    "print(d)\n"
   ]
  },
  {
   "cell_type": "markdown",
   "id": "3e21642f-98ab-4131-90aa-4a77b41ecd5b",
   "metadata": {},
   "source": [
    "### Popitem() -"
   ]
  },
  {
   "cell_type": "code",
   "execution_count": 23,
   "id": "efeeca11-bf17-4417-937c-c388e86dc7fd",
   "metadata": {},
   "outputs": [
    {
     "name": "stdout",
     "output_type": "stream",
     "text": [
      "popped item: ('c', 20) | d1 now: {'a': 12, 'b': 34}\n",
      "data type of item: <class 'tuple'>\n"
     ]
    }
   ],
   "source": [
    "d1 = {\"a\": 12, \"b\" : 34 , \"c\":20}\n",
    "items  = d1.popitem()\n",
    "print(\"popped item:\" , items,\"| d1 now:\", d1)\n",
    "print(\"data type of item:\" , type(items))"
   ]
  },
  {
   "cell_type": "code",
   "execution_count": 24,
   "id": "cedeb7e9-2210-47f8-a8c1-2f141e7f939b",
   "metadata": {},
   "outputs": [
    {
     "name": "stdout",
     "output_type": "stream",
     "text": [
      "('b', 34)\n"
     ]
    }
   ],
   "source": [
    "items  = d1.popitem()\n",
    "print(items)"
   ]
  },
  {
   "cell_type": "code",
   "execution_count": 25,
   "id": "86383ce6-0ece-4ec8-b432-f27fa3f6a7e2",
   "metadata": {},
   "outputs": [
    {
     "name": "stdout",
     "output_type": "stream",
     "text": [
      "popped item: ('c', 20) | d2 now: {'a': 12, 'b': 34}\n"
     ]
    }
   ],
   "source": [
    "d2 = { \"a\": 12, \"b\" : 34 , \"c\":20}\n",
    "variable = d2.popitem()\n",
    "print(\"popped item:\" , variable, \"| d2 now:\" , d2)"
   ]
  },
  {
   "cell_type": "markdown",
   "id": "accc5e04-a2d3-40bc-a0f5-5f2586c34ec1",
   "metadata": {},
   "source": [
    "### Keys() , values(), items() -"
   ]
  },
  {
   "cell_type": "code",
   "execution_count": 26,
   "id": "abcc023b-ed46-4483-affc-48e6b265636c",
   "metadata": {},
   "outputs": [
    {
     "name": "stdout",
     "output_type": "stream",
     "text": [
      " keys: dict_keys([' name', 'subject', 'course '])\n"
     ]
    }
   ],
   "source": [
    "d = { \" name\" : \" sona\" , \"subject\" : \"CS\", \"course \": \"python\"}\n",
    "print(\" keys:\" , d.keys())"
   ]
  },
  {
   "cell_type": "code",
   "execution_count": 27,
   "id": "c0cfac4f-b34c-46c0-bd0f-1aca60c514eb",
   "metadata": {},
   "outputs": [
    {
     "name": "stdout",
     "output_type": "stream",
     "text": [
      "dict_keys([' name', 'subject', 'course '])\n",
      "<class 'dict_keys'>\n"
     ]
    }
   ],
   "source": [
    "keys_d = d.keys()\n",
    "print(keys_d)\n",
    "print(type(keys_d))"
   ]
  },
  {
   "cell_type": "code",
   "execution_count": 36,
   "id": "5c9b147b-51a3-49d1-85da-c086117f46f1",
   "metadata": {},
   "outputs": [
    {
     "name": "stdout",
     "output_type": "stream",
     "text": [
      "[' name', 'subject', 'course ']\n",
      "<class 'list'>\n"
     ]
    }
   ],
   "source": [
    "# type casting dict_keys to list\n",
    "\n",
    "keys_d_list = list(keys_d)\n",
    "print(keys_d_list)\n",
    "print(type(keys_d_list))"
   ]
  },
  {
   "cell_type": "code",
   "execution_count": 29,
   "id": "b0d61ae9-c8fe-456d-94ea-b1eb4adc445f",
   "metadata": {},
   "outputs": [
    {
     "name": "stdout",
     "output_type": "stream",
     "text": [
      "{' name', 'course ', 'subject'}\n",
      "<class 'set'>\n"
     ]
    }
   ],
   "source": [
    "keys1 = set(keys_d)\n",
    "print(keys1)\n",
    "print(type(keys1))"
   ]
  },
  {
   "cell_type": "code",
   "execution_count": 30,
   "id": "82e649a1-704b-4047-907d-c7828ada38c2",
   "metadata": {},
   "outputs": [
    {
     "name": "stdout",
     "output_type": "stream",
     "text": [
      "dict_values([' sona', 'CS', 'python'])\n",
      "dict_values([' sona', 'CS', 'python'])\n",
      "<class 'dict_values'>\n"
     ]
    }
   ],
   "source": [
    "d = { \" name\" : \" sona\" , \"subject\" : \"CS\", \"course \": \"python\"}\n",
    "print(d.values())\n",
    "val = d.values()     # storing the values in a variable \"val\" .\n",
    "print(val)\n",
    "print(type (val))"
   ]
  },
  {
   "cell_type": "code",
   "execution_count": 31,
   "id": "cbe527ec-0e1a-464a-84f8-6452d1868a9d",
   "metadata": {},
   "outputs": [
    {
     "name": "stdout",
     "output_type": "stream",
     "text": [
      "[' sona', 'CS', 'python']\n",
      "<class 'list'>\n"
     ]
    }
   ],
   "source": [
    "list1 = list(val)\n",
    "print(list1)\n",
    "print(type(list1))"
   ]
  },
  {
   "cell_type": "code",
   "execution_count": 32,
   "id": "ba008014-23b0-4a03-90fd-625e1307a625",
   "metadata": {},
   "outputs": [
    {
     "name": "stdout",
     "output_type": "stream",
     "text": [
      "(' sona', 'CS', 'python')\n",
      "<class 'tuple'>\n"
     ]
    }
   ],
   "source": [
    "tuple1 = tuple(val)\n",
    "print(tuple1)\n",
    "print(type(tuple1))"
   ]
  },
  {
   "cell_type": "code",
   "execution_count": 33,
   "id": "21a0280b-2454-4f50-a67c-85a9cbee9a9a",
   "metadata": {},
   "outputs": [
    {
     "name": "stdout",
     "output_type": "stream",
     "text": [
      "dict_items([(' name', ' sona'), ('subject', 'CS'), ('course ', 'python')])\n",
      "dict_items([(' name', ' sona'), ('subject', 'CS'), ('course ', 'python')])\n",
      "<class 'dict_items'>\n"
     ]
    }
   ],
   "source": [
    "d = { \" name\" : \" sona\" , \"subject\" : \"CS\", \"course \": \"python\"}\n",
    "print(d.items())\n",
    "item_d = d.items()\n",
    "print(item_d)\n",
    "print(type(item_d))"
   ]
  },
  {
   "cell_type": "code",
   "execution_count": 7,
   "id": "ee67561a-2066-4dfd-b90f-0bc8af30664c",
   "metadata": {},
   "outputs": [
    {
     "name": "stdout",
     "output_type": "stream",
     "text": [
      "[' name', 'subject', 'course ']\n",
      "<class 'list'>\n"
     ]
    }
   ],
   "source": [
    "# type casting dict_items to list -\n",
    "d = { \" name\" : \" sona\" , \"subject\" : \"CS\", \"course \": \"python\"}\n",
    "item_d1 = list(d)\n",
    "print(item_d1)\n",
    "print(type(item_d1))"
   ]
  },
  {
   "cell_type": "code",
   "execution_count": 2,
   "id": "9d0a01e6-c5f4-4f75-8dc9-091e4e9e943f",
   "metadata": {},
   "outputs": [
    {
     "name": "stdout",
     "output_type": "stream",
     "text": [
      "dict_keys(['sona', 'aqsa', ' sonal', 'saurabh', 'Neha', 'Roshni'])\n"
     ]
    }
   ],
   "source": [
    "d = { \"sona\": 90, \"aqsa\": 95 ,\" sonal\": 30, \"saurabh\": 100,\"Neha\": 49,\"Roshni\": 59}\n",
    "val= d.keys()\n",
    "print(val)"
   ]
  },
  {
   "cell_type": "code",
   "execution_count": 8,
   "id": "2c7e3287-3dc7-4833-a302-9b662177c94e",
   "metadata": {},
   "outputs": [
    {
     "name": "stdout",
     "output_type": "stream",
     "text": [
      "dict_values([50, 20, 100])\n",
      "{'apple': 50, 'banana': 20, 'mango': 100}\n"
     ]
    }
   ],
   "source": [
    "fruits= {\"apple\": 50, \"banana\":20, \"mango\":100}\n",
    "price = fruits.values()\n",
    "print(price)\n",
    "print(fruits)"
   ]
  },
  {
   "cell_type": "code",
   "execution_count": 9,
   "id": "d38f60ac-6cef-4e41-8b85-f9ed191d5083",
   "metadata": {},
   "outputs": [
    {
     "name": "stdout",
     "output_type": "stream",
     "text": [
      "{'apple': 50, 'banana': 20, 'mango': 100, 'orange': 70}\n"
     ]
    }
   ],
   "source": [
    "fruits[\"orange\"] = 70\n",
    "print(fruits)"
   ]
  },
  {
   "cell_type": "code",
   "execution_count": 10,
   "id": "b5fd5e16-05a1-44b0-a9b9-825d0bf6c00a",
   "metadata": {},
   "outputs": [
    {
     "name": "stdout",
     "output_type": "stream",
     "text": [
      "{'apple': 50, 'banana': 20, 'mango': 100, 'orange': 70}\n"
     ]
    }
   ],
   "source": [
    "d1 = fruits.get(\"banana\")\n",
    "print(fruits)"
   ]
  },
  {
   "cell_type": "code",
   "execution_count": 11,
   "id": "a1b22165-9cbe-4566-a629-f5e7cf3d7449",
   "metadata": {},
   "outputs": [
    {
     "name": "stdout",
     "output_type": "stream",
     "text": [
      "True\n"
     ]
    }
   ],
   "source": [
    "print( \"apple\" in fruits)"
   ]
  },
  {
   "cell_type": "code",
   "execution_count": 12,
   "id": "d5da0c83-5858-494e-bca0-b4b99d5527ad",
   "metadata": {},
   "outputs": [
    {
     "data": {
      "text/plain": [
       "True"
      ]
     },
     "execution_count": 12,
     "metadata": {},
     "output_type": "execute_result"
    }
   ],
   "source": [
    "\"apple\" in fruits"
   ]
  },
  {
   "cell_type": "code",
   "execution_count": 28,
   "id": "a02b126c-d26a-4489-9df4-4bf0128958bd",
   "metadata": {},
   "outputs": [
    {
     "name": "stdout",
     "output_type": "stream",
     "text": [
      "{1: 20, 2: 30, 3: 25}\n"
     ]
    }
   ],
   "source": [
    "d = {}\n",
    "d[1] = 20\n",
    "d[2] = 30\n",
    "d[3] = 25\n",
    "print(d)"
   ]
  },
  {
   "cell_type": "code",
   "execution_count": 49,
   "id": "2573a598-b992-498c-8a4b-de16b02a2a06",
   "metadata": {},
   "outputs": [
    {
     "name": "stdout",
     "output_type": "stream",
     "text": [
      "dict_values(['tokyo', 'Bizing', 'seoul'])\n"
     ]
    }
   ],
   "source": [
    "d1 = {\"Japan\": \"tokyo\", \"china\": \"Bizing\" , \"SouthKorea\" : \"seoul\"}\n",
    "capitals = d1.values()\n",
    "print(capitals)"
   ]
  },
  {
   "cell_type": "code",
   "execution_count": 60,
   "id": "e2f07ce3-c6a4-4e49-aea1-e81209607fbb",
   "metadata": {},
   "outputs": [
    {
     "name": "stdout",
     "output_type": "stream",
     "text": [
      "after update: {'Japan': 'tokyo', 'SouthKorea': 'seoul', 'china': 'Beijing'}\n"
     ]
    }
   ],
   "source": [
    "d1.update({\"china\":\"Beijing\"})\n",
    "print(\"after update:\" ,d1) "
   ]
  },
  {
   "cell_type": "code",
   "execution_count": 51,
   "id": "f1db2cf5-689c-42be-ab4a-14ce42f212a1",
   "metadata": {},
   "outputs": [
    {
     "name": "stdout",
     "output_type": "stream",
     "text": [
      "dict_keys(['Japan', 'china', 'SouthKorea'])\n",
      "dict_values(['tokyo', 'Beijing', 'seoul'])\n"
     ]
    }
   ],
   "source": [
    "val = d1.keys()\n",
    "print(val)\n",
    "item = d1.values()\n",
    "print(item)"
   ]
  },
  {
   "cell_type": "code",
   "execution_count": 46,
   "id": "30a9b141-e8ce-47e9-8b4d-7c2d6be317e9",
   "metadata": {},
   "outputs": [
    {
     "name": "stdout",
     "output_type": "stream",
     "text": [
      "3\n"
     ]
    }
   ],
   "source": [
    "print(len(d1))"
   ]
  },
  {
   "cell_type": "code",
   "execution_count": 61,
   "id": "2604fede-dd1f-4b0a-b707-3d1fa9fe0ff4",
   "metadata": {},
   "outputs": [
    {
     "name": "stdout",
     "output_type": "stream",
     "text": [
      "china: Beijing\n"
     ]
    }
   ],
   "source": [
    "d2 = d1.pop(\"china\")\n",
    "print(\"china:\",d2)"
   ]
  },
  {
   "cell_type": "code",
   "execution_count": null,
   "id": "82c44434-6050-4d01-b281-2f445263a8d8",
   "metadata": {},
   "outputs": [],
   "source": []
  }
 ],
 "metadata": {
  "kernelspec": {
   "display_name": "Python [conda env:base] *",
   "language": "python",
   "name": "conda-base-py"
  },
  "language_info": {
   "codemirror_mode": {
    "name": "ipython",
    "version": 3
   },
   "file_extension": ".py",
   "mimetype": "text/x-python",
   "name": "python",
   "nbconvert_exporter": "python",
   "pygments_lexer": "ipython3",
   "version": "3.13.5"
  }
 },
 "nbformat": 4,
 "nbformat_minor": 5
}
