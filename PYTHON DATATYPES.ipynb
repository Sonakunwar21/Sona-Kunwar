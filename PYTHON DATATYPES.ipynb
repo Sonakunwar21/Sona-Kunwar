{
 "cells": [
  {
   "cell_type": "markdown",
   "id": "b6668a31-cd97-4102-8c82-2d7b3d1b2d57",
   "metadata": {},
   "source": [
    "TWO TYPES -"
   ]
  },
  {
   "cell_type": "markdown",
   "id": "f595fb73-a9ef-4d3d-936e-671385ff78fa",
   "metadata": {},
   "source": [
    "# 1. Mutable¶\n",
    "# 2. Immutable"
   ]
  },
  {
   "cell_type": "markdown",
   "id": "edd80a3b-3e6b-44f5-9ab1-498c00096988",
   "metadata": {},
   "source": [
    "1. Mutable/ Unhashable/sequense data types = these datatypes are those datatypes which can be changed but after changing their memory, address do not changes.\n",
    " list , set and dictionary (LSD) are mutable datatypes."
   ]
  },
  {
   "cell_type": "markdown",
   "id": "542818f9-a504-4eba-b77c-d23eff0d2d56",
   "metadata": {},
   "source": [
    " 2 . Immutable Datatypes = these datatypes are those which can not be changed . we can not change their memory, address ."
   ]
  },
  {
   "cell_type": "code",
   "execution_count": null,
   "id": "2ec432cf-1fa0-4b5f-9692-30d4773dc4d9",
   "metadata": {},
   "outputs": [],
   "source": []
  }
 ],
 "metadata": {
  "kernelspec": {
   "display_name": "Python [conda env:base] *",
   "language": "python",
   "name": "conda-base-py"
  },
  "language_info": {
   "codemirror_mode": {
    "name": "ipython",
    "version": 3
   },
   "file_extension": ".py",
   "mimetype": "text/x-python",
   "name": "python",
   "nbconvert_exporter": "python",
   "pygments_lexer": "ipython3",
   "version": "3.13.5"
  }
 },
 "nbformat": 4,
 "nbformat_minor": 5
}
