{
 "cells": [
  {
   "cell_type": "markdown",
   "id": "9fa54b8d-9f1d-4bea-9b78-7cd8661217f6",
   "metadata": {},
   "source": [
    " ### Set-\n",
    "  * An unordered collection of unique elements.\n",
    "  * no repetition allowed .\n",
    " "
   ]
  },
  {
   "cell_type": "code",
   "execution_count": 2,
   "id": "7c5acad0-d46b-4102-b850-5882c64dae49",
   "metadata": {},
   "outputs": [
    {
     "name": "stdout",
     "output_type": "stream",
     "text": [
      "<class 'set'>\n"
     ]
    }
   ],
   "source": [
    "a = set() # an empty set.\n",
    "print(type(a))"
   ]
  },
  {
   "cell_type": "code",
   "execution_count": 1,
   "id": "07ddee0d-44da-4680-b05c-14eb8dd162df",
   "metadata": {},
   "outputs": [
    {
     "name": "stdout",
     "output_type": "stream",
     "text": [
      "{1, 2, 3, 4}\n",
      "<class 'set'>\n"
     ]
    }
   ],
   "source": [
    " text = { 1,2,3,4}\n",
    "print(text)\n",
    "print(type(text)) "
   ]
  },
  {
   "cell_type": "code",
   "execution_count": 2,
   "id": "b6d9cfd5-fe8d-4a62-8fc7-6ab76d17bd48",
   "metadata": {},
   "outputs": [
    {
     "name": "stdout",
     "output_type": "stream",
     "text": [
      "{1, 2, 3, 4}\n",
      "<class 'set'>\n"
     ]
    }
   ],
   "source": [
    "text1 = set([1,2,3,4])\n",
    "print(text1)\n",
    "print(type(text1))"
   ]
  },
  {
   "cell_type": "code",
   "execution_count": 1,
   "id": "cbce1aab-0d2d-4295-a68e-e67691d62525",
   "metadata": {},
   "outputs": [
    {
     "ename": "TypeError",
     "evalue": "set expected at most 1 argument, got 3",
     "output_type": "error",
     "traceback": [
      "\u001b[1;31m---------------------------------------------------------------------------\u001b[0m",
      "\u001b[1;31mTypeError\u001b[0m                                 Traceback (most recent call last)",
      "Cell \u001b[1;32mIn[1], line 1\u001b[0m\n\u001b[1;32m----> 1\u001b[0m text1 \u001b[38;5;241m=\u001b[39m\u001b[38;5;28mset\u001b[39m ( \u001b[38;5;241m23\u001b[39m,\u001b[38;5;241m20\u001b[39m,[\u001b[38;5;241m1\u001b[39m,\u001b[38;5;241m2\u001b[39m,\u001b[38;5;241m3\u001b[39m,\u001b[38;5;241m4\u001b[39m]) \u001b[38;5;66;03m# ...\u001b[39;00m\n\u001b[0;32m      2\u001b[0m \u001b[38;5;28mprint\u001b[39m(text1)\n\u001b[0;32m      3\u001b[0m \u001b[38;5;28mprint\u001b[39m(\u001b[38;5;28mtype\u001b[39m(text1))\n",
      "\u001b[1;31mTypeError\u001b[0m: set expected at most 1 argument, got 3"
     ]
    }
   ],
   "source": [
    "text1 =set ( 23,20,[1,2,3,4]) # ...\n",
    "print(text1)\n",
    "print(type(text1))"
   ]
  },
  {
   "cell_type": "code",
   "execution_count": 2,
   "id": "c40e9557-7608-4375-9088-d4ec8d7900b7",
   "metadata": {},
   "outputs": [
    {
     "name": "stdout",
     "output_type": "stream",
     "text": [
      "{'a', 1, 2, 3, 4}\n"
     ]
    }
   ],
   "source": [
    "text1.add('a')\n",
    "print(text1)"
   ]
  },
  {
   "cell_type": "code",
   "execution_count": 2,
   "id": "a2260a76-0641-42fb-be15-c6f87e56a2c0",
   "metadata": {},
   "outputs": [
    {
     "name": "stdout",
     "output_type": "stream",
     "text": [
      "frozenset({1, 2, 3, 4})\n",
      "<class 'frozenset'>\n"
     ]
    }
   ],
   "source": [
    "fs = frozenset([1,2,3,4])\n",
    "print(fs)\n",
    "print(type(fs))"
   ]
  },
  {
   "cell_type": "code",
   "execution_count": 3,
   "id": "a8a4acfb-63e7-4d3f-9874-b9d394dd864e",
   "metadata": {},
   "outputs": [
    {
     "name": "stdout",
     "output_type": "stream",
     "text": [
      "<class 'set'>\n"
     ]
    }
   ],
   "source": [
    "a = set(fs)\n",
    "print(type(a))"
   ]
  },
  {
   "cell_type": "code",
   "execution_count": 4,
   "id": "efeb5c24-0f8b-4b84-b302-c8b021f7f381",
   "metadata": {},
   "outputs": [],
   "source": [
    "s1 = {1,3,4,5}\n",
    "s2 ={3,5,6,7}\n"
   ]
  },
  {
   "cell_type": "code",
   "execution_count": 5,
   "id": "c87fc64c-c663-4c62-adf2-67c1b5bc8682",
   "metadata": {},
   "outputs": [
    {
     "data": {
      "text/plain": [
       "{1, 3, 4, 5, 6, 7}"
      ]
     },
     "execution_count": 5,
     "metadata": {},
     "output_type": "execute_result"
    }
   ],
   "source": [
    "s1.union(s2) # because no repetition."
   ]
  },
  {
   "cell_type": "code",
   "execution_count": 7,
   "id": "34b229f0-911b-4124-a27f-28a5e64feb9e",
   "metadata": {},
   "outputs": [
    {
     "name": "stdout",
     "output_type": "stream",
     "text": [
      "{1, 4}\n"
     ]
    }
   ],
   "source": [
    "a =s1.difference(s2)\n",
    "print(a)"
   ]
  },
  {
   "cell_type": "code",
   "execution_count": 7,
   "id": "1f78bcbe-0777-45e2-9377-f4219c662234",
   "metadata": {},
   "outputs": [
    {
     "data": {
      "text/plain": [
       "{6, 7}"
      ]
     },
     "execution_count": 7,
     "metadata": {},
     "output_type": "execute_result"
    }
   ],
   "source": [
    "s2.difference(s1)"
   ]
  },
  {
   "cell_type": "code",
   "execution_count": null,
   "id": "39f51183-b8f6-4d60-97f4-7f2bbc1371f0",
   "metadata": {},
   "outputs": [],
   "source": [
    "#QUE\n"
   ]
  },
  {
   "cell_type": "code",
   "execution_count": 8,
   "id": "35883f0e-360d-4464-ab16-518c85b437ac",
   "metadata": {},
   "outputs": [],
   "source": [
    "#QUE\n"
   ]
  },
  {
   "cell_type": "code",
   "execution_count": 9,
   "id": "e1545d8d-7da9-48db-b435-a6644cae2ea1",
   "metadata": {},
   "outputs": [],
   "source": [
    "#QUE\n"
   ]
  },
  {
   "cell_type": "code",
   "execution_count": 10,
   "id": "97e385a2-bc86-4a00-9992-0ac90e493716",
   "metadata": {},
   "outputs": [],
   "source": [
    "#QUE\n"
   ]
  },
  {
   "cell_type": "code",
   "execution_count": null,
   "id": "90868936-6bad-41ff-9377-4464a1c7583d",
   "metadata": {},
   "outputs": [],
   "source": [
    "#QUE\n"
   ]
  },
  {
   "cell_type": "code",
   "execution_count": null,
   "id": "769007c1-2496-4a5c-b4e1-54fd67ec8bbe",
   "metadata": {},
   "outputs": [],
   "source": [
    "#QUE\n"
   ]
  },
  {
   "cell_type": "code",
   "execution_count": null,
   "id": "e5376cf0-fa41-47a9-842c-e6225ea0c160",
   "metadata": {},
   "outputs": [],
   "source": [
    "#Que\n"
   ]
  }
 ],
 "metadata": {
  "kernelspec": {
   "display_name": "Python [conda env:base] *",
   "language": "python",
   "name": "conda-base-py"
  },
  "language_info": {
   "codemirror_mode": {
    "name": "ipython",
    "version": 3
   },
   "file_extension": ".py",
   "mimetype": "text/x-python",
   "name": "python",
   "nbconvert_exporter": "python",
   "pygments_lexer": "ipython3",
   "version": "3.13.5"
  }
 },
 "nbformat": 4,
 "nbformat_minor": 5
}
