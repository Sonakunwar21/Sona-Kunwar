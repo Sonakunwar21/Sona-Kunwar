{
 "cells": [
  {
   "cell_type": "markdown",
   "id": "88f1b57e-4bb5-459c-a156-ad61acd251ce",
   "metadata": {},
   "source": [
    " # Python variables-"
   ]
  },
  {
   "cell_type": "markdown",
   "id": "3a7c0898-e891-4f05-aa5b-f95abca171e3",
   "metadata": {},
   "source": [
    "* In Python , variables are used to store data, that can be referenced and manipulated during solving the problem.\n",
    "* A variable is assigned a value. In Python, it is not necessary to declare the data type  during assignment of \n",
    "variables act as a place holder for a data."
   ]
  },
  {
   "cell_type": "code",
   "execution_count": 1,
   "id": "c02963bb-77e2-4ef0-800b-23863cdeb2df",
   "metadata": {},
   "outputs": [
    {
     "name": "stdout",
     "output_type": "stream",
     "text": [
      "Swarnika\n"
     ]
    }
   ],
   "source": [
    "name = \"Swarnika\"\n",
    "print(name)"
   ]
  },
  {
   "cell_type": "code",
   "execution_count": 3,
   "id": "259e11e2-a18f-452f-b2a7-71d29d7d0f3f",
   "metadata": {},
   "outputs": [
    {
     "name": "stdout",
     "output_type": "stream",
     "text": [
      "name\n"
     ]
    }
   ],
   "source": [
    "name = \"sona\"\n",
    "print(\"name\")"
   ]
  },
  {
   "cell_type": "code",
   "execution_count": 6,
   "id": "67162b11-4331-4ec6-8b69-ec69adea9635",
   "metadata": {},
   "outputs": [
    {
     "name": "stdout",
     "output_type": "stream",
     "text": [
      "x\n"
     ]
    }
   ],
   "source": [
    "print(\"x\")"
   ]
  },
  {
   "cell_type": "code",
   "execution_count": 5,
   "id": "8bcb4420-ab44-4844-9398-b0f8e2510ec4",
   "metadata": {},
   "outputs": [
    {
     "name": "stdout",
     "output_type": "stream",
     "text": [
      "50\n"
     ]
    }
   ],
   "source": [
    "x = 50\n",
    "print(x)"
   ]
  },
  {
   "cell_type": "markdown",
   "id": "36d03b15-8518-46fe-8055-3df1ea01fa3e",
   "metadata": {},
   "source": [
    "## Rules for naming Variable -"
   ]
  },
  {
   "cell_type": "markdown",
   "id": "9e73f5f6-3116-420b-891d-b6ebcff92ed1",
   "metadata": {},
   "source": [
    "* variables name can only contain letters , digits, underscore.\n",
    "*   a variable name can not start with a digits.\n",
    "*  variables names are case sensitive.\n",
    "*  avoid using python keywords."
   ]
  },
  {
   "cell_type": "code",
   "execution_count": 7,
   "id": "993937f3-82ba-4c71-b284-cc38f53e97ad",
   "metadata": {},
   "outputs": [
    {
     "name": "stdout",
     "output_type": "stream",
     "text": [
      "20\n"
     ]
    }
   ],
   "source": [
    "score = 20\n",
    "print(score)"
   ]
  },
  {
   "cell_type": "code",
   "execution_count": 8,
   "id": "7e86936c-a6d9-4c73-839b-f5056e3ff22f",
   "metadata": {},
   "outputs": [
    {
     "name": "stdout",
     "output_type": "stream",
     "text": [
      "20\n"
     ]
    }
   ],
   "source": [
    "score_1 = 20\n",
    "print(score_1)"
   ]
  },
  {
   "cell_type": "code",
   "execution_count": 11,
   "id": "6802e607-87a1-4667-8a26-31a7e2830b64",
   "metadata": {},
   "outputs": [
    {
     "ename": "SyntaxError",
     "evalue": "invalid decimal literal (1449458166.py, line 1)",
     "output_type": "error",
     "traceback": [
      "\u001b[1;36m  Cell \u001b[1;32mIn[11], line 1\u001b[1;36m\u001b[0m\n\u001b[1;33m    1score = 20\u001b[0m\n\u001b[1;37m    ^\u001b[0m\n\u001b[1;31mSyntaxError\u001b[0m\u001b[1;31m:\u001b[0m invalid decimal literal\n"
     ]
    }
   ],
   "source": [
    "1score = 20\n",
    "print(1score)"
   ]
  },
  {
   "cell_type": "code",
   "execution_count": 10,
   "id": "39eab009-7aa5-4a8b-92ad-02a391592763",
   "metadata": {},
   "outputs": [
    {
     "name": "stdout",
     "output_type": "stream",
     "text": [
      "20\n"
     ]
    }
   ],
   "source": [
    "_score = 20\n",
    "print(_score)"
   ]
  },
  {
   "cell_type": "code",
   "execution_count": 12,
   "id": "8b2704a5-42d5-4290-8a1f-80287c987224",
   "metadata": {},
   "outputs": [
    {
     "ename": "SyntaxError",
     "evalue": "cannot assign to expression here. Maybe you meant '==' instead of '='? (3146110508.py, line 1)",
     "output_type": "error",
     "traceback": [
      "\u001b[1;36m  Cell \u001b[1;32mIn[12], line 1\u001b[1;36m\u001b[0m\n\u001b[1;33m    total-students = 20\u001b[0m\n\u001b[1;37m    ^\u001b[0m\n\u001b[1;31mSyntaxError\u001b[0m\u001b[1;31m:\u001b[0m cannot assign to expression here. Maybe you meant '==' instead of '='?\n"
     ]
    }
   ],
   "source": [
    "total-students = 20\n",
    "print(total-students)"
   ]
  },
  {
   "cell_type": "code",
   "execution_count": 13,
   "id": "bd5d040e-fa11-4b23-9bbf-f99d91a84765",
   "metadata": {},
   "outputs": [
    {
     "name": "stdout",
     "output_type": "stream",
     "text": [
      "20\n"
     ]
    }
   ],
   "source": [
    "total_students = 20\n",
    "print(total_students)"
   ]
  },
  {
   "cell_type": "code",
   "execution_count": 21,
   "id": "183f47a7-63cb-476d-a9f4-5283301cd1a0",
   "metadata": {},
   "outputs": [
    {
     "ename": "SyntaxError",
     "evalue": "cannot assign to True (1888372918.py, line 1)",
     "output_type": "error",
     "traceback": [
      "\u001b[1;36m  Cell \u001b[1;32mIn[21], line 1\u001b[1;36m\u001b[0m\n\u001b[1;33m    True = 20\u001b[0m\n\u001b[1;37m    ^\u001b[0m\n\u001b[1;31mSyntaxError\u001b[0m\u001b[1;31m:\u001b[0m cannot assign to True\n"
     ]
    }
   ],
   "source": [
    "True = 20\n",
    "print(True)"
   ]
  },
  {
   "cell_type": "markdown",
   "id": "296f7da8-7cde-44cf-acab-93ab98a2a4bf",
   "metadata": {},
   "source": [
    "## Dynamic typing-"
   ]
  },
  {
   "cell_type": "code",
   "execution_count": null,
   "id": "ab9bed2d-b37e-4408-a040-1b998da11681",
   "metadata": {},
   "outputs": [],
   "source": [
    "python variables are dynamicly typed."
   ]
  },
  {
   "cell_type": "code",
   "execution_count": 1,
   "id": "34e9f869-9967-4006-84fb-b8cc287baf20",
   "metadata": {},
   "outputs": [
    {
     "name": "stdout",
     "output_type": "stream",
     "text": [
      "20\n"
     ]
    }
   ],
   "source": [
    "x = \"sangeeta\"\n",
    "x =20\n",
    "print(x)"
   ]
  },
  {
   "cell_type": "markdown",
   "id": "c7756427-db63-41e1-8a31-b0984900b021",
   "metadata": {},
   "source": [
    "## multiple assignment-"
   ]
  },
  {
   "cell_type": "markdown",
   "id": "cf8451f8-db8f-4b45-bdb2-34fab007c7d0",
   "metadata": {},
   "source": [
    "* python allows multiple variables in a single line."
   ]
  },
  {
   "cell_type": "code",
   "execution_count": 26,
   "id": "efcab814-29e5-48fa-bdec-803c6b831b70",
   "metadata": {},
   "outputs": [
    {
     "name": "stdout",
     "output_type": "stream",
     "text": [
      "10\n",
      "10\n",
      "10\n",
      "10 10 10\n"
     ]
    }
   ],
   "source": [
    "a , b , c = 10,10,10\n",
    "print(a)\n",
    "print(b)\n",
    "print(c)\n",
    "print(a, b, c)"
   ]
  },
  {
   "cell_type": "markdown",
   "id": "e9042bb0-f21d-4c3f-b3bd-90b6f10cdd45",
   "metadata": {},
   "source": [
    "## Assigning different values-"
   ]
  },
  {
   "cell_type": "markdown",
   "id": "9ced66e5-a394-4c39-a2f7-b38fbb51ec1e",
   "metadata": {},
   "source": [
    "* python allows different values to multiple variables."
   ]
  },
  {
   "cell_type": "code",
   "execution_count": 28,
   "id": "3e6a6b77-a99a-4874-adbc-c003e3a7a4c6",
   "metadata": {},
   "outputs": [
    {
     "name": "stdout",
     "output_type": "stream",
     "text": [
      "25 29 mamta\n"
     ]
    }
   ],
   "source": [
    "x = 25\n",
    "y = 29\n",
    "z = \"mamta\"\n",
    "print(x, y, z)"
   ]
  },
  {
   "cell_type": "code",
   "execution_count": 31,
   "id": "beb0eba5-56ff-4f75-8432-a9cd53d8c204",
   "metadata": {},
   "outputs": [
    {
     "name": "stdout",
     "output_type": "stream",
     "text": [
      "10 20 AQSA\n"
     ]
    }
   ],
   "source": [
    "x,y,Aqsa = 10,20,\"AQSA\"\n",
    "print(x,y,Aqsa)"
   ]
  },
  {
   "cell_type": "code",
   "execution_count": 3,
   "id": "7e6d7717-5c61-43f2-93b3-089d7b7bad52",
   "metadata": {},
   "outputs": [
    {
     "ename": "ValueError",
     "evalue": "not enough values to unpack (expected 3, got 2)",
     "output_type": "error",
     "traceback": [
      "\u001b[1;31m---------------------------------------------------------------------------\u001b[0m",
      "\u001b[1;31mValueError\u001b[0m                                Traceback (most recent call last)",
      "Cell \u001b[1;32mIn[3], line 1\u001b[0m\n\u001b[1;32m----> 1\u001b[0m p, q, mamta \u001b[38;5;241m=\u001b[39m \u001b[38;5;241m20\u001b[39m, \u001b[38;5;241m26\u001b[39m\n\u001b[0;32m      2\u001b[0m \u001b[38;5;28mprint\u001b[39m(p,q)\n",
      "\u001b[1;31mValueError\u001b[0m: not enough values to unpack (expected 3, got 2)"
     ]
    }
   ],
   "source": [
    "p, q, mamta = 20, 26\n",
    "print(p,q)"
   ]
  },
  {
   "cell_type": "code",
   "execution_count": 34,
   "id": "fe3a13e4-d4f5-472b-b264-fe1896cd3c32",
   "metadata": {},
   "outputs": [
    {
     "name": "stdout",
     "output_type": "stream",
     "text": [
      "5 30 10\n"
     ]
    }
   ],
   "source": [
    "a, b , c = 5, 30, 10\n",
    "print(a, b , c)"
   ]
  },
  {
   "cell_type": "code",
   "execution_count": 40,
   "id": "83d02675-c99b-4256-b2c9-2db943399434",
   "metadata": {},
   "outputs": [
    {
     "name": "stdout",
     "output_type": "stream",
     "text": [
      "None 30.2 20\n"
     ]
    }
   ],
   "source": [
    "a ,b,c = None , 30.2, 20\n",
    "print(a,b,c)"
   ]
  },
  {
   "cell_type": "code",
   "execution_count": 1,
   "id": "f604e9ad-d7ff-4b90-9c31-e3351a32d853",
   "metadata": {},
   "outputs": [
    {
     "name": "stdout",
     "output_type": "stream",
     "text": [
      "60\n"
     ]
    }
   ],
   "source": [
    "a = 20 \n",
    "b =2*a\n",
    "c = a+b\n",
    "print(c)"
   ]
  },
  {
   "cell_type": "code",
   "execution_count": null,
   "id": "99aa5067-c6c2-4518-97d5-0c722a0b0180",
   "metadata": {},
   "outputs": [],
   "source": []
  },
  {
   "cell_type": "code",
   "execution_count": null,
   "id": "6b3a426a-6fa2-4277-91ac-e45c761cabe1",
   "metadata": {},
   "outputs": [],
   "source": []
  }
 ],
 "metadata": {
  "kernelspec": {
   "display_name": "Python [conda env:base] *",
   "language": "python",
   "name": "conda-base-py"
  },
  "language_info": {
   "codemirror_mode": {
    "name": "ipython",
    "version": 3
   },
   "file_extension": ".py",
   "mimetype": "text/x-python",
   "name": "python",
   "nbconvert_exporter": "python",
   "pygments_lexer": "ipython3",
   "version": "3.13.5"
  }
 },
 "nbformat": 4,
 "nbformat_minor": 5
}
