{
 "cells": [
  {
   "cell_type": "markdown",
   "id": "d0aa6a82-1331-4fcf-b841-fc637dcf4f33",
   "metadata": {},
   "source": [
    "##  Input function -"
   ]
  },
  {
   "cell_type": "code",
   "execution_count": 2,
   "id": "79eeef39-42fd-4e12-acd3-f9001116a9f2",
   "metadata": {},
   "outputs": [
    {
     "name": "stdin",
     "output_type": "stream",
     "text": [
      "Enter amount in words: ten thousand\n"
     ]
    }
   ],
   "source": [
    "amount = input(\"Enter amount in words:\")\n"
   ]
  },
  {
   "cell_type": "code",
   "execution_count": 3,
   "id": "467d665f-e598-4377-99db-d1733e242b61",
   "metadata": {},
   "outputs": [
    {
     "name": "stdin",
     "output_type": "stream",
     "text": [
      "Enter amount in digits: 10,000\n"
     ]
    }
   ],
   "source": [
    "amount = input(\"Enter amount in digits:\")\n"
   ]
  },
  {
   "cell_type": "code",
   "execution_count": 4,
   "id": "b65cc462-65db-4996-b3ce-a81f646f05a2",
   "metadata": {},
   "outputs": [
    {
     "name": "stdout",
     "output_type": "stream",
     "text": [
      "<class 'str'>\n"
     ]
    }
   ],
   "source": [
    "print(type(amount))  #the type of data from input fun. is always string"
   ]
  },
  {
   "cell_type": "code",
   "execution_count": 7,
   "id": "61c111f4-4de1-43f6-80bc-92337b1c20b1",
   "metadata": {},
   "outputs": [
    {
     "name": "stdin",
     "output_type": "stream",
     "text": [
      "Enter amount in digit 10,000\n"
     ]
    }
   ],
   "source": [
    "amount1 = input(\"Enter amount in digit\")"
   ]
  },
  {
   "cell_type": "code",
   "execution_count": 5,
   "id": "29e29662-2d94-4fd1-a1ec-bf1f93dfe54a",
   "metadata": {},
   "outputs": [
    {
     "name": "stdin",
     "output_type": "stream",
     "text": [
      "Enter amount in word 10,000\n"
     ]
    }
   ],
   "source": [
    "amount2 =input(\"Enter amount in word\")"
   ]
  },
  {
   "cell_type": "code",
   "execution_count": 8,
   "id": "92ebc075-3094-4af8-bc23-b8a51ff65390",
   "metadata": {},
   "outputs": [
    {
     "name": "stdout",
     "output_type": "stream",
     "text": [
      "10,00010,000\n"
     ]
    }
   ],
   "source": [
    "print(amount1 + amount2)"
   ]
  },
  {
   "cell_type": "code",
   "execution_count": 7,
   "id": "211ae2d1-8b75-412d-aebb-05d4c56e7e77",
   "metadata": {},
   "outputs": [
    {
     "name": "stdin",
     "output_type": "stream",
     "text": [
      "Enter amount in digit 50\n"
     ]
    }
   ],
   "source": [
    "amount1 = int(input(\"Enter amount in digit\"))"
   ]
  },
  {
   "cell_type": "code",
   "execution_count": 11,
   "id": "d5c4dde4-5494-4f9d-b6fd-facb15ee01eb",
   "metadata": {},
   "outputs": [
    {
     "name": "stdin",
     "output_type": "stream",
     "text": [
      "Enter amount in word 50\n"
     ]
    }
   ],
   "source": [
    "amount2 =int(input(\"Enter amount in word\"))\n"
   ]
  },
  {
   "cell_type": "code",
   "execution_count": 12,
   "id": "93a01c3a-945a-4b29-b41f-975fc65fcce5",
   "metadata": {},
   "outputs": [
    {
     "name": "stdout",
     "output_type": "stream",
     "text": [
      "100\n"
     ]
    }
   ],
   "source": [
    "print(amount1 + amount2)"
   ]
  },
  {
   "cell_type": "code",
   "execution_count": null,
   "id": "fa69ccea-8850-4531-9966-ab3c58d0a1ff",
   "metadata": {},
   "outputs": [],
   "source": []
  },
  {
   "cell_type": "markdown",
   "id": "464f777e-c0a4-487f-b417-8014e2b773c6",
   "metadata": {},
   "source": [
    "## Basic Calculator"
   ]
  },
  {
   "cell_type": "code",
   "execution_count": 13,
   "id": "51ce843b-08ac-42b7-b809-d938da7b822d",
   "metadata": {},
   "outputs": [
    {
     "name": "stdin",
     "output_type": "stream",
     "text": [
      "Enter first no. 34\n"
     ]
    }
   ],
   "source": [
    "num1 = float(input(\"Enter first no.\"))"
   ]
  },
  {
   "cell_type": "code",
   "execution_count": 15,
   "id": "36c37521-78aa-4ebb-9152-5a8461ac7b3e",
   "metadata": {},
   "outputs": [
    {
     "name": "stdin",
     "output_type": "stream",
     "text": [
      "Enter second no. 20\n"
     ]
    }
   ],
   "source": [
    "num2 = float(input(\"Enter second no.\"))"
   ]
  },
  {
   "cell_type": "code",
   "execution_count": 16,
   "id": "d51b58c0-5335-45dc-9a7b-5c826bbcc9d6",
   "metadata": {},
   "outputs": [
    {
     "name": "stdout",
     "output_type": "stream",
     "text": [
      "54.0\n"
     ]
    }
   ],
   "source": [
    "result = num1 + num2\n",
    "print(result)"
   ]
  },
  {
   "cell_type": "code",
   "execution_count": 17,
   "id": "e464d4ec-df33-4922-9a93-b28e36836400",
   "metadata": {},
   "outputs": [
    {
     "name": "stdout",
     "output_type": "stream",
     "text": [
      "14.0\n"
     ]
    }
   ],
   "source": [
    "results = num1 - num2\n",
    "print(results)"
   ]
  },
  {
   "cell_type": "code",
   "execution_count": 18,
   "id": "c457c742-3c80-4547-9151-15e82bc15027",
   "metadata": {},
   "outputs": [
    {
     "name": "stdout",
     "output_type": "stream",
     "text": [
      "680.0\n"
     ]
    }
   ],
   "source": [
    "multiply = num1* num2\n",
    "print(multiply)"
   ]
  },
  {
   "cell_type": "code",
   "execution_count": 19,
   "id": "d3630b55-8574-4fd5-8a30-477c949824ed",
   "metadata": {},
   "outputs": [
    {
     "name": "stdout",
     "output_type": "stream",
     "text": [
      "1.0\n"
     ]
    }
   ],
   "source": [
    "val = num1//num2\n",
    "print(val)"
   ]
  },
  {
   "cell_type": "code",
   "execution_count": 20,
   "id": "d5affe36-467e-4263-9813-7fe3e7160be1",
   "metadata": {},
   "outputs": [
    {
     "name": "stdout",
     "output_type": "stream",
     "text": [
      "1.7\n"
     ]
    }
   ],
   "source": [
    "value = num1/num2\n",
    "print(value)"
   ]
  },
  {
   "cell_type": "code",
   "execution_count": 21,
   "id": "94bc4b98-1994-4c90-aa26-78f8512361d1",
   "metadata": {},
   "outputs": [
    {
     "name": "stdout",
     "output_type": "stream",
     "text": [
      "10\n"
     ]
    }
   ],
   "source": [
    "x = 2\n",
    "y =5\n",
    "result = x*y\n",
    "print(result)"
   ]
  },
  {
   "cell_type": "code",
   "execution_count": 22,
   "id": "b6973570-f9c7-42f1-a6e6-d08f5515841e",
   "metadata": {},
   "outputs": [
    {
     "name": "stdin",
     "output_type": "stream",
     "text": [
      "Enter first no.: 25\n",
      "Enter second no.: 20\n"
     ]
    }
   ],
   "source": [
    "num1 = float(input(\"Enter first no.:\"))   \n",
    "num2 = float(input(\"Enter second no.:\"))"
   ]
  },
  {
   "cell_type": "code",
   "execution_count": 23,
   "id": "b36ebfb0-3ee8-48fa-88b9-358dd7138bf4",
   "metadata": {},
   "outputs": [
    {
     "data": {
      "text/plain": [
       "45.0"
      ]
     },
     "execution_count": 23,
     "metadata": {},
     "output_type": "execute_result"
    }
   ],
   "source": [
    "num1+num2"
   ]
  },
  {
   "cell_type": "code",
   "execution_count": 24,
   "id": "e26df380-f5ac-4016-93b5-0890fe6b5988",
   "metadata": {},
   "outputs": [
    {
     "name": "stdin",
     "output_type": "stream",
     "text": [
      "Enter first no.: 20\n",
      "Enter second no.: 4\n"
     ]
    },
    {
     "name": "stdout",
     "output_type": "stream",
     "text": [
      "GOod amount\n"
     ]
    }
   ],
   "source": [
    "num1 = float(input(\"Enter first no.:\"))   \n",
    "num2 = float(input(\"Enter second no.:\"))\n",
    "if num1*num2>num1:\n",
    "    print(\"GOod amount\")\n",
    "elif num1*num2< 15:\n",
    "    print(\"nice\")\n",
    "else:\n",
    "    print(\"out of no.\")"
   ]
  },
  {
   "cell_type": "code",
   "execution_count": 25,
   "id": "8250a056-7903-451e-8dd3-0097fd70003a",
   "metadata": {},
   "outputs": [
    {
     "name": "stdin",
     "output_type": "stream",
     "text": [
      "Enter first no.: 12\n",
      "Enter second no.: 1\n"
     ]
    },
    {
     "name": "stdout",
     "output_type": "stream",
     "text": [
      "nice\n"
     ]
    }
   ],
   "source": [
    "num1 = float(input(\"Enter first no.:\"))   \n",
    "num2 = float(input(\"Enter second no.:\"))\n",
    "if num1*num2>num1:\n",
    "    print(\"GOod amount\")\n",
    "elif num1*num2< 15:\n",
    "    print(\"nice\")\n",
    "    \n",
    "else:\n",
    "    print(\"out of no.\")"
   ]
  },
  {
   "cell_type": "code",
   "execution_count": 26,
   "id": "33cf1108-b3a8-44d5-82e3-fbd0ef42b6d5",
   "metadata": {},
   "outputs": [
    {
     "name": "stdin",
     "output_type": "stream",
     "text": [
      "Enter first no.: 24\n",
      "Enter second no.: 1\n"
     ]
    },
    {
     "name": "stdout",
     "output_type": "stream",
     "text": [
      "out of order\n"
     ]
    }
   ],
   "source": [
    "num1 = float(input(\"Enter first no.:\"))   \n",
    "num2 = float(input(\"Enter second no.:\"))\n",
    "if num1*num2>num1:\n",
    "    print(\"GOod amount\")\n",
    "elif num1*num2< 15:\n",
    "    print(\"nice\")\n",
    "else:\n",
    "    \n",
    "    print(\"out of order\")"
   ]
  },
  {
   "cell_type": "code",
   "execution_count": null,
   "id": "d8fc732b-3949-4667-b2ec-c7caffe77586",
   "metadata": {},
   "outputs": [],
   "source": []
  },
  {
   "cell_type": "code",
   "execution_count": null,
   "id": "42cb43a3-d0ac-4f3b-a095-3d83bd8a96ae",
   "metadata": {},
   "outputs": [],
   "source": []
  },
  {
   "cell_type": "markdown",
   "id": "891447df-d54c-4292-b0eb-b4d0020bef4f",
   "metadata": {},
   "source": [
    "### Conditional Statements { if - else- elif } "
   ]
  },
  {
   "cell_type": "code",
   "execution_count": 1,
   "id": "1b6e1b25-3603-49b5-b347-7f5dac727b39",
   "metadata": {},
   "outputs": [
    {
     "name": "stdin",
     "output_type": "stream",
     "text": [
      "Enter first no.: 20\n",
      "Enter second no.: 30\n",
      "Enter operator(user choice =+,-,/,*) +\n"
     ]
    },
    {
     "name": "stdout",
     "output_type": "stream",
     "text": [
      "50.0\n"
     ]
    }
   ],
   "source": [
    "num1 = float(input(\"Enter first no.:\"))\n",
    "num2 = float(input(\"Enter second no.:\"))\n",
    "operator = input(\"Enter operator(user choice =+,-,/,*)\") \n",
    "if operator ==\"+\":\n",
    "    result =num1 + num2\n",
    "elif operator == \"-\":\n",
    "    result = num1-num2\n",
    "elif operator == \"/\":\n",
    "    result = num1/num2\n",
    "elif operator == \"*\":\n",
    "    result = num1*num2\n",
    "print(result)\n"
   ]
  },
  {
   "cell_type": "code",
   "execution_count": 2,
   "id": "e5c8cb40-8791-4611-a0ec-5333874d88cb",
   "metadata": {},
   "outputs": [
    {
     "name": "stdin",
     "output_type": "stream",
     "text": [
      "Enter first no.: 2\n",
      "Enter second no.: 6\n",
      "user demand +\n"
     ]
    },
    {
     "name": "stdout",
     "output_type": "stream",
     "text": [
      "8\n"
     ]
    }
   ],
   "source": [
    "num1 = int(input(\"Enter first no.:\"))   \n",
    "num2 = int(input(\"Enter second no.:\"))\n",
    "opt = input(\"user demand\")\n",
    "if opt==\"+\":\n",
    "    result=num1 +num2\n",
    "elif opt ==\"-\":\n",
    "    result = num1 -num2\n",
    "elif opt == \"*\":\n",
    "    result = num1*num2 \n",
    "elif opt==\"/\":\n",
    "    result = num1 /num2\n",
    "\n",
    "print(result)"
   ]
  },
  {
   "cell_type": "code",
   "execution_count": 11,
   "id": "1066f8e3-8fd9-49d9-a631-4fa65ea8b432",
   "metadata": {},
   "outputs": [
    {
     "name": "stdin",
     "output_type": "stream",
     "text": [
      "Enter first no.: 2\n",
      "Enter second no.: 5\n",
      "Enter operator(user choice =+,-,/,*) +\n"
     ]
    },
    {
     "name": "stdout",
     "output_type": "stream",
     "text": [
      "7\n"
     ]
    }
   ],
   "source": [
    "num1 = int(input(\"Enter first no.:\"))\n",
    "num2 = int(input(\"Enter second no.:\"))\n",
    "operator = input(\"Enter operator(user choice =+,-,/,*)\") \n",
    "if operator ==\"+\":\n",
    "    result =num1 + num2\n",
    "elif operator == \"-\":\n",
    "    result = num1-num2\n",
    "elif operator == \"/\":\n",
    "    result = num1/num2\n",
    "elif operator == \"*\":\n",
    "    result = num1*num2\n",
    "print(result)\n"
   ]
  },
  {
   "cell_type": "code",
   "execution_count": 3,
   "id": "7e07fa9d-6191-41d2-b29e-6f5265c3815c",
   "metadata": {},
   "outputs": [
    {
     "name": "stdin",
     "output_type": "stream",
     "text": [
      "the tea you want: lemon tea/ Milk tea / masala tea :  lemon tea\n",
      "Enter the tea ingrediants : lemon,water,tealeave\n"
     ]
    },
    {
     "name": "stdout",
     "output_type": "stream",
     "text": [
      " your tea is ready : lemon tea\n"
     ]
    }
   ],
   "source": [
    "#1 \n",
    "demand =input(\"the tea you want: lemon tea/ Milk tea / masala tea : \")\n",
    "choice = input(\"Enter the tea ingrediants :\")\n",
    "if choice==\"lemon,water,tealeave\":\n",
    "    print(\" your tea is ready : lemon tea\")\n",
    "elif choice==(\"water,tealeave,milk\"):\n",
    "    print(\" your tea is ready : Milk tea\")\n",
    "elif choice==(\"milk,water,tealeave,ginger,teamasala\"):\n",
    "    print(\" your tea is ready : masala tea\")\n",
    "else:\n",
    "    print(\"tea is not available\")"
   ]
  },
  {
   "cell_type": "code",
   "execution_count": null,
   "id": "04778d69-1840-44fe-b276-14f7940f8d1f",
   "metadata": {},
   "outputs": [],
   "source": []
  },
  {
   "cell_type": "code",
   "execution_count": 1,
   "id": "595dadde-45c6-4888-9efb-106193537f87",
   "metadata": {},
   "outputs": [
    {
     "name": "stdout",
     "output_type": "stream",
     "text": [
      "the tea you want: lemon tea/ Milk tea / masala tea\n"
     ]
    },
    {
     "name": "stdin",
     "output_type": "stream",
     "text": [
      "Enter the tea ingrediants : lemon,water,tealeave\n"
     ]
    },
    {
     "name": "stdout",
     "output_type": "stream",
     "text": [
      " tea you want: lemon tea\n"
     ]
    }
   ],
   "source": [
    "#1 \n",
    "print(\"the tea you want: lemon tea/ Milk tea / masala tea\")\n",
    "choice = input(\"Enter the tea ingrediants :\")\n",
    "if choice==\"lemon,water,tealeave\":\n",
    "    print(\" tea you want: lemon tea\")\n",
    "elif choice==(\"water,tealeave,milk\"):\n",
    "    print(\" tea you want: Milk tea\")\n",
    "elif choice==(\"milk,water,tealeave,ginger,teamasala\"):\n",
    "    print(\" tea you want:masala tea\")"
   ]
  },
  {
   "cell_type": "code",
   "execution_count": null,
   "id": "03f00001-a6f0-42c5-acac-8a52ad1f4b72",
   "metadata": {},
   "outputs": [],
   "source": []
  },
  {
   "cell_type": "code",
   "execution_count": 3,
   "id": "5fa7ddae-dea2-415b-b5de-bd6bbbbdbd23",
   "metadata": {},
   "outputs": [
    {
     "name": "stdin",
     "output_type": "stream",
     "text": [
      "Enter the tea you want(lemon/black/masala): lemon\n"
     ]
    },
    {
     "name": "stdout",
     "output_type": "stream",
     "text": [
      "ing = lemon,water ,tea leave\n"
     ]
    }
   ],
   "source": [
    "#2\n",
    "demand= input(\"Enter the tea you want(lemon/black/masala):\")\n",
    "if demand== \"lemon\":\n",
    "    print(\"ing = lemon,water ,tea leave\")\n",
    "elif demand == \"black\":\n",
    "    print(\"ing = water,tea leave\")\n",
    "elif demand== \"masala\":\n",
    "    print(\"ing = water,tea leave, milk, ginger,cardmom\")"
   ]
  },
  {
   "cell_type": "code",
   "execution_count": 6,
   "id": "f39a902c-4325-4547-9c9c-f5dcca41963c",
   "metadata": {},
   "outputs": [
    {
     "ename": "SyntaxError",
     "evalue": "unexpected character after line continuation character (2789320122.py, line 4)",
     "output_type": "error",
     "traceback": [
      "\u001b[1;36m  Cell \u001b[1;32mIn[6], line 4\u001b[1;36m\u001b[0m\n\u001b[1;33m    print(\"ing = lemon,water ,tea leave \", \\n \"lemon tea\").split(\"\\n\")\u001b[0m\n\u001b[1;37m                                            ^\u001b[0m\n\u001b[1;31mSyntaxError\u001b[0m\u001b[1;31m:\u001b[0m unexpected character after line continuation character\n"
     ]
    }
   ],
   "source": [
    "#2\n",
    "demand= input(\"Enter the tea you want(lemon tea/black tea/masala tea):\")\n",
    "if demand== \"lemon tea\":\n",
    "    print(\"ing = lemon,water ,tea leave \", \\n \"lemon tea\").split(\"\\n\")\n",
    "elif demand == \"black tea\":2\n",
    "    print(\"ing = water,tea leave \",\\n \"milk tea\").split(\"\\n\")\n",
    "elif demand== \"masala tea\":\n",
    "    print(\"ing = water,tea leave, milk, ginger,cardmom \",\\n \"masala tea\").split(\"\\n\")"
   ]
  },
  {
   "cell_type": "code",
   "execution_count": 3,
   "id": "d9b9d87a-b183-477a-95ed-042ddd241a45",
   "metadata": {},
   "outputs": [
    {
     "name": "stdout",
     "output_type": "stream",
     "text": [
      "1. lemon tea \n",
      "2. milk tea \n",
      "3. Masala tea\n"
     ]
    },
    {
     "name": "stdin",
     "output_type": "stream",
     "text": [
      "enter the tea you want: 2\n"
     ]
    },
    {
     "name": "stdout",
     "output_type": "stream",
     "text": [
      "ingredients : milk, water,tea leave,ginger\n"
     ]
    }
   ],
   "source": [
    "#3\n",
    "print(\"1. lemon tea \")\n",
    "print(\"2. milk tea \")\n",
    "print(\"3. Masala tea\")\n",
    "choice = input(\"enter the tea you want:\")\n",
    "if choice== \"1\":\n",
    "    print(\"ingredients : lemon,water,tea leave\")\n",
    "elif choice== \"2\":\n",
    "    print(\"ingredients : milk,water,tea leave,ginger\")\n",
    "elif choice == \"3\":\n",
    "    print(\"ingredients : milk,water,tea leave,tea masala\")\n",
    "    \n"
   ]
  },
  {
   "cell_type": "code",
   "execution_count": 15,
   "id": "ff60bce6-c89d-4100-a443-6e8e0b1e43d6",
   "metadata": {},
   "outputs": [
    {
     "name": "stdin",
     "output_type": "stream",
     "text": [
      "Enter the first no. 10\n",
      "Enter the second no. 5\n"
     ]
    }
   ],
   "source": [
    "num1 = list(input(\"Enter the first no.\"))\n",
    "num2 =list(input(\"Enter the second no.\"))"
   ]
  },
  {
   "cell_type": "code",
   "execution_count": 16,
   "id": "a2feac9e-b6fe-44b1-a7b4-7eed957b6e95",
   "metadata": {},
   "outputs": [
    {
     "name": "stdout",
     "output_type": "stream",
     "text": [
      "<class 'list'>\n",
      "<class 'list'>\n"
     ]
    }
   ],
   "source": [
    "print(type(num1))\n",
    "print(type(num2))\n"
   ]
  },
  {
   "cell_type": "code",
   "execution_count": 17,
   "id": "782e5280-3ef6-40f7-a51e-effb045f0735",
   "metadata": {},
   "outputs": [
    {
     "name": "stdin",
     "output_type": "stream",
     "text": [
      "Enter the no. 20\n",
      "Enter the no. 100\n"
     ]
    }
   ],
   "source": [
    "num1 = set(input(\"Enter the no.\"))\n",
    "num2 =set(input(\"Enter the no.\"))"
   ]
  },
  {
   "cell_type": "code",
   "execution_count": 18,
   "id": "0fe295f9-6760-40f2-86d7-31de4f1a5b0a",
   "metadata": {},
   "outputs": [
    {
     "name": "stdout",
     "output_type": "stream",
     "text": [
      "<class 'set'>\n"
     ]
    }
   ],
   "source": [
    "print(type(num1))"
   ]
  },
  {
   "cell_type": "code",
   "execution_count": 19,
   "id": "2fe191ed-01a4-4d64-b36b-0332e342ee84",
   "metadata": {},
   "outputs": [
    {
     "name": "stdin",
     "output_type": "stream",
     "text": [
      "Enter the no. 20\n",
      "Enter the no. 1\n"
     ]
    }
   ],
   "source": [
    "num2 = dict(input(\"Enter the no.\"))\n",
    "num3 =dict(input(\"Enter the no.\"))"
   ]
  },
  {
   "cell_type": "code",
   "execution_count": 20,
   "id": "cbadaa91-97f0-483d-8a1e-5e9bfd90dd09",
   "metadata": {},
   "outputs": [
    {
     "name": "stdout",
     "output_type": "stream",
     "text": [
      "<class 'set'>\n",
      "<class 'set'>\n"
     ]
    }
   ],
   "source": [
    "print(type(num2))\n",
    "print(type(num3))"
   ]
  },
  {
   "cell_type": "code",
   "execution_count": 23,
   "id": "cfe3e03d-40d1-4982-80c2-ecde536f8e79",
   "metadata": {},
   "outputs": [
    {
     "name": "stdin",
     "output_type": "stream",
     "text": [
      "Enter the no. 2\n",
      "Enter the no. 90\n"
     ]
    },
    {
     "name": "stdout",
     "output_type": "stream",
     "text": [
      "<class 'tuple'>\n",
      "<class 'tuple'>\n"
     ]
    }
   ],
   "source": [
    "num2 = tuple(input(\"Enter the no.\"))\n",
    "num3 =tuple(input(\"Enter the no.\"))\n",
    "print(type(num2))\n",
    "print(type(num3))\n"
   ]
  },
  {
   "cell_type": "markdown",
   "id": "4d10dfc0-342d-4449-bbd3-c6447986dfce",
   "metadata": {},
   "source": []
  },
  {
   "cell_type": "markdown",
   "id": "81e06aa4-925d-41e3-ac02-a45274dcaf4f",
   "metadata": {},
   "source": []
  },
  {
   "cell_type": "markdown",
   "id": "fc1c1592-7ce9-420a-baf4-aaa1bd6e1067",
   "metadata": {},
   "source": []
  },
  {
   "cell_type": "code",
   "execution_count": null,
   "id": "8e4a6bdb-573b-4c49-a194-6310f7cd62d8",
   "metadata": {},
   "outputs": [],
   "source": []
  },
  {
   "cell_type": "code",
   "execution_count": null,
   "id": "79445963-e6d9-43b9-8aa6-99921bb2934f",
   "metadata": {},
   "outputs": [],
   "source": []
  },
  {
   "cell_type": "code",
   "execution_count": null,
   "id": "7c6cd7ac-3d0a-46aa-9d76-fd9ca2a4eb34",
   "metadata": {},
   "outputs": [],
   "source": []
  },
  {
   "cell_type": "code",
   "execution_count": null,
   "id": "52c3e15e-5e24-42f9-9b4d-e04220cb4ea9",
   "metadata": {},
   "outputs": [],
   "source": []
  },
  {
   "cell_type": "code",
   "execution_count": null,
   "id": "ded90dcf-4046-47b3-beb5-d99c50045a27",
   "metadata": {},
   "outputs": [],
   "source": []
  },
  {
   "cell_type": "code",
   "execution_count": null,
   "id": "41957b65-22d9-4698-97bd-b138b5a83b53",
   "metadata": {},
   "outputs": [],
   "source": []
  },
  {
   "cell_type": "code",
   "execution_count": null,
   "id": "f7dcb01a-254b-4623-b0e9-1c6dad1abef1",
   "metadata": {},
   "outputs": [],
   "source": []
  },
  {
   "cell_type": "code",
   "execution_count": null,
   "id": "c40c8532-cb88-4a7e-81c8-c09d7140ce76",
   "metadata": {},
   "outputs": [],
   "source": [
    "a = int(input(\"Enter your age:\"))\n",
    "if (a<18):\n",
    "    print(\"you are underage\")\n",
    "elif(a == 18):\n",
    "    print(\"good for you\")\n",
    "else:\n",
    "    print(\"fine\")\n",
    "    "
   ]
  },
  {
   "cell_type": "code",
   "execution_count": null,
   "id": "bb1d79b6-3062-4686-b208-21fdbaaf003a",
   "metadata": {},
   "outputs": [],
   "source": [
    "a = int(input(\"Enter your age:\"))\n",
    "if (a<18):\n",
    "    print(\"you are underage\")\n",
    "elif(a == 18):\n",
    "    print(\"good for you\")\n",
    "else:\n",
    "    print(\"fine\")"
   ]
  },
  {
   "cell_type": "code",
   "execution_count": null,
   "id": "1a56329d-b673-4670-add3-1b898c40b0a2",
   "metadata": {},
   "outputs": [],
   "source": [
    "temperature = 20\n",
    "if temperature > 30 :\n",
    "    print(\"it's really hot today!\") \n",
    "else:\n",
    "    print(\"it's a normal day\")"
   ]
  },
  {
   "cell_type": "code",
   "execution_count": null,
   "id": "f88ed384-627d-492d-ba38-308d03cbd66a",
   "metadata": {},
   "outputs": [],
   "source": [
    "temperature = 25 \n",
    "if temperature<30 :\n",
    "    print(\"it's really hot today!\")\n",
    "elif temperature==20:\n",
    "    print(\" It's a normal day\")\n",
    "elif temperature < 10 :\n",
    "    print(\"It's a cold day\")\n"
   ]
  },
  {
   "cell_type": "code",
   "execution_count": null,
   "id": "6d382edf-6d1d-4d46-b45b-383fc251a8b7",
   "metadata": {},
   "outputs": [],
   "source": []
  },
  {
   "cell_type": "code",
   "execution_count": null,
   "id": "152d8161-0552-477e-a7c7-ac8f3c6f17ff",
   "metadata": {},
   "outputs": [],
   "source": []
  },
  {
   "cell_type": "code",
   "execution_count": null,
   "id": "61db6e26-bedf-40ad-8e4a-a8eb04d94119",
   "metadata": {},
   "outputs": [],
   "source": [
    "# srtring length check \n",
    "name = \"Saurabh\"\n",
    "if len(name)>7:\n",
    "    print(\"It's a long name\")\n",
    "else:\n",
    "    print(\"It's a sweet name\")"
   ]
  },
  {
   "cell_type": "code",
   "execution_count": null,
   "id": "afd618be-ba1a-46da-802d-d7f92f417613",
   "metadata": {},
   "outputs": [],
   "source": [
    "password = \"mydoandajf\"\n",
    "if len(password)>= 8:\n",
    "    print(\"password length is okay\")"
   ]
  },
  {
   "cell_type": "code",
   "execution_count": null,
   "id": "d0ba00ed-7c26-4f3b-b771-7e87288f8652",
   "metadata": {},
   "outputs": [],
   "source": [
    "# Even or odd\n",
    "number = 256\n",
    "if number%2 == 0 :\n",
    "    print(\"the number is even \")\n",
    "else:\n",
    "    print(\"the number is odd\")\n",
    "    "
   ]
  },
  {
   "cell_type": "code",
   "execution_count": null,
   "id": "81a1f363-04b0-4421-9ffc-9da7af8f9ff9",
   "metadata": {},
   "outputs": [],
   "source": [
    "# largest of 2 numbers\n",
    "num1 = int(input(\"first no.\"))\n",
    "num2 = int(input(\"second no.\"))\n",
    "if num1 > num2:\n",
    "    print(\"num1 is greater then num2\")\n",
    "elif num1< num2:\n",
    "    print(\"num2 is greater then num1\")\n",
    "else:\n",
    "    print(\"same value\")\n",
    "    "
   ]
  },
  {
   "cell_type": "code",
   "execution_count": null,
   "id": "93238014-1eb7-4e2b-a502-481d4a0c4078",
   "metadata": {},
   "outputs": [],
   "source": [
    "# Smallest of given numbers-\n",
    "num1 = int(input(\"first no.\"))\n",
    "num2 = int(input(\"second no.\"))\n",
    "num3 = int(input(\"third no.\"))\n",
    "if num1 < num2 and num1< num3:\n",
    "    print(\"smallest is num1\")\n",
    "if num2 < num1 and num2< num3:\n",
    "    print(\"smallest is num2\")\n",
    "if num3 < num2 and num3< num1:\n",
    "    print(\"smallest is num3\")\n"
   ]
  },
  {
   "cell_type": "code",
   "execution_count": null,
   "id": "24921815-3929-4c13-8d45-1470b56a93df",
   "metadata": {},
   "outputs": [],
   "source": [
    "# positive,negative,or zero -\n",
    "num1 = 10\n",
    "if num1>0:\n",
    "    print(\"postive\")\n",
    "elif num1< 0:\n",
    "    print(\"negative\")\n",
    "else:\n",
    "    print(\"no value\")\n",
    "    "
   ]
  },
  {
   "cell_type": "code",
   "execution_count": null,
   "id": "fbcd9ba8-b4f9-4f94-a917-677c6060a40e",
   "metadata": {},
   "outputs": [],
   "source": [
    "num1 = 0\n",
    "if num1>0:\n",
    "    print(\"postive\")\n",
    "elif num1< 0:\n",
    "    print(\"negative\")\n",
    "else:\n",
    "    print(\"no value\")"
   ]
  },
  {
   "cell_type": "code",
   "execution_count": null,
   "id": "b68dce8b-b5ed-413b-b83d-f175b2ea4265",
   "metadata": {},
   "outputs": [],
   "source": [
    "# voting eligibility\n",
    "age = int(input(\"enter the age\"))\n",
    "if age>=18:\n",
    "    print(\"you are eligible for voting\")\n",
    "else:\n",
    "    print(\"you are not eligible for voting\")"
   ]
  },
  {
   "cell_type": "code",
   "execution_count": null,
   "id": "ae237120-5f25-434e-9dbb-36661ccb387a",
   "metadata": {},
   "outputs": [],
   "source": [
    "# leap year checking -\n",
    "year = 2025\n",
    "if year%4==0:\n",
    "    print(\"a leap year\")\n",
    "else:\n",
    "    print(\" not a leap year\")"
   ]
  },
  {
   "cell_type": "code",
   "execution_count": null,
   "id": "89df65f6-c37a-4357-ba7d-5c19156e4d8e",
   "metadata": {},
   "outputs": [],
   "source": [
    "year = 2020\n",
    "if year%4==0:\n",
    "    print(\"a leap year\")\n",
    "else:\n",
    "    print(\" not a leap year\")"
   ]
  },
  {
   "cell_type": "code",
   "execution_count": null,
   "id": "a35c2358-6e15-4835-aca0-0981aa6b9f22",
   "metadata": {},
   "outputs": [],
   "source": [
    "# grade calculator \n",
    "marks = int(input(\"student's marks\"))\n",
    "if marks>= 90:\n",
    "    print(\"A\")\n",
    "elif marks>=75:\n",
    "    print(\"B\")\n",
    "elif marks>= 89:\n",
    "    print(\"B\")\n",
    "elif marks >= 50:\n",
    "    print(\"C\")\n",
    "elif marks<50:\n",
    "    print(\"Fail\")\n"
   ]
  },
  {
   "cell_type": "code",
   "execution_count": null,
   "id": "026aa98d-96b4-49f2-a15a-e2874c8bf0f8",
   "metadata": {},
   "outputs": [],
   "source": [
    "marks =int(input(\"Student's marks\"))\n",
    "if marks>= 90:\n",
    "    print(\"A\")\n",
    "elif marks>= 75 and marks<=89:\n",
    "    print(\"B\")\n",
    "elif marks >50:\n",
    "    print(\"C\")\n",
    "else:\n",
    "    print(\"Fail\")"
   ]
  },
  {
   "cell_type": "code",
   "execution_count": 1,
   "id": "2e799be2-dbb7-43a0-97d6-44b602068f89",
   "metadata": {},
   "outputs": [
    {
     "name": "stdout",
     "output_type": "stream",
     "text": [
      "it is divisible by both 5 and 7\n"
     ]
    }
   ],
   "source": [
    "# divisibility check -\n",
    "number2= 35\n",
    "if number2%5==0:\n",
    "    if number2%7==0:\n",
    "        print(\"it is divisible by both 5 and 7\")\n",
    "        "
   ]
  },
  {
   "cell_type": "code",
   "execution_count": 3,
   "id": "721974a7-801d-405d-a0f1-bcd72e43aac9",
   "metadata": {},
   "outputs": [
    {
     "name": "stdin",
     "output_type": "stream",
     "text": [
      "Enter thenumber 21\n"
     ]
    },
    {
     "name": "stdout",
     "output_type": "stream",
     "text": [
      "it is not divisible by both 3,and 8\n"
     ]
    }
   ],
   "source": [
    "number = int(input(\"Enter thenumber\"))\n",
    "if number%3==0 and number%8 ==0:\n",
    "    print(\"it is divisible by both 3,8\")\n",
    "else:\n",
    "    print(\"it is not divisible by both 3,and 8\")"
   ]
  },
  {
   "cell_type": "code",
   "execution_count": null,
   "id": "8f51ba70-daa8-40c0-a92f-1db778c322dd",
   "metadata": {},
   "outputs": [],
   "source": [
    "number = int(input(\"Enter thenumber\"))\n",
    "if number%3==0 and number%8 ==0:\n",
    "    print(\"it is divisible by both 3,8\")\n",
    "else:\n",
    "    print(\"it is not divisible by both 3,and 8\")"
   ]
  },
  {
   "cell_type": "code",
   "execution_count": null,
   "id": "476287d9-26a7-44b5-bccf-9de2f11c1c99",
   "metadata": {},
   "outputs": [],
   "source": []
  },
  {
   "cell_type": "code",
   "execution_count": null,
   "id": "79c6791c-6299-4b14-82c7-4664b9706d9c",
   "metadata": {},
   "outputs": [],
   "source": [
    "# password checker \n",
    "password = \"python123\"\n",
    "if password == \"python123\":\n",
    "    print(\"Access granted\")\n",
    "else:\n",
    "    print(\"Access denied\")"
   ]
  },
  {
   "cell_type": "code",
   "execution_count": null,
   "id": "fb62aaf9-625a-4c27-b534-9addaa399d2f",
   "metadata": {},
   "outputs": [],
   "source": [
    "# Odd or even sum\n",
    "num1 = int(input(\"first no.\"))\n",
    "num2 = int(input(\"second no.\"))\n",
    "result = num1 + num2 \n",
    "if result%2 ==0:\n",
    "    print(\"even sum\")\n",
    "else:\n",
    "    print(\"odd sum\")"
   ]
  },
  {
   "cell_type": "code",
   "execution_count": null,
   "id": "a9a4e31e-c172-4372-af83-8d3367e9f2b1",
   "metadata": {},
   "outputs": [],
   "source": [
    "day = input(\"enter the day of week\")\n",
    "if day == \"monday\" and day == \"tuesday\":\n",
    "     print(\"start of the week\")\n",
    "elif day == \"thursday\" and day == \"friday\":\n",
    "    print(\"almost weekend\")\n",
    "elif day == \"Saturday\":\n",
    "    print(\"Weekend\")\n",
    "else:\n",
    "    print(\"Its holiday\")\n"
   ]
  },
  {
   "cell_type": "code",
   "execution_count": null,
   "id": "d421822f-5c60-4d79-9cf1-d069430f8b1f",
   "metadata": {},
   "outputs": [],
   "source": [
    "number = int(input(\" day of week \"))\n",
    "if number == 1:\n",
    "    print(\"monday\")\n",
    "elif number ==2:\n",
    "    print(\"tuesday\")\n",
    "elif number ==3:\n",
    "    print(\"wednesday\")\n",
    "elif number == 4:\n",
    "    print(\"thursday\")\n",
    "elif number == 5:\n",
    "    print(\"friday\")\n",
    "else:\n",
    "    print(\"weekend\")\n",
    "    \n",
    "             "
   ]
  },
  {
   "cell_type": "code",
   "execution_count": null,
   "id": "bc02987f-3b7c-43df-a84b-02848aa32e11",
   "metadata": {},
   "outputs": [],
   "source": [
    "number = int(input(\" day of week \"))\n",
    "if number == 1:\n",
    "    print(\"monday\")\n",
    "elif number ==2:\n",
    "    print(\"tuesday\")\n",
    "elif number ==3:\n",
    "    print(\"wednesday\")\n",
    "elif number == 4:\n",
    "    print(\"thursday\")\n",
    "elif number == 5:\n",
    "    print(\"friday\")\n",
    "else:\n",
    "    print(\"weekend\")\n",
    "    \n",
    "             "
   ]
  },
  {
   "cell_type": "code",
   "execution_count": null,
   "id": "c2446d88-db46-4a4b-8024-843099f7a1f8",
   "metadata": {},
   "outputs": [],
   "source": [
    "age = int(input(\"age\"))\n",
    "if age <12 :\n",
    "    print(\"price = 100\")\n",
    "elif age ==12 and age >17:\n",
    "    print(\"price =150\")\n",
    "elif age <= 59:\n",
    "    print(\"price= 200\")\n",
    "elif age >=60:\n",
    "    print(\"price= 120\")\n",
    "    "
   ]
  },
  {
   "cell_type": "code",
   "execution_count": null,
   "id": "11ef5c5b-5857-40cc-be9e-18938dcd79cc",
   "metadata": {},
   "outputs": [],
   "source": [
    "#\n",
    "num = input()"
   ]
  },
  {
   "cell_type": "raw",
   "id": "a276c048-54b4-46b2-8a11-77e0120241e6",
   "metadata": {},
   "source": [
    "num1 = input(\"enter the no. :\")\n"
   ]
  },
  {
   "cell_type": "code",
   "execution_count": null,
   "id": "d68732ee-6747-4230-9491-8da0b9e49bd7",
   "metadata": {},
   "outputs": [],
   "source": [
    "your_name = input(\"Fill up your name:\")"
   ]
  },
  {
   "cell_type": "code",
   "execution_count": null,
   "id": "dfa23abc-4105-4c8d-9c76-9653c1810f72",
   "metadata": {},
   "outputs": [],
   "source": []
  }
 ],
 "metadata": {
  "kernelspec": {
   "display_name": "Python [conda env:base] *",
   "language": "python",
   "name": "conda-base-py"
  },
  "language_info": {
   "codemirror_mode": {
    "name": "ipython",
    "version": 3
   },
   "file_extension": ".py",
   "mimetype": "text/x-python",
   "name": "python",
   "nbconvert_exporter": "python",
   "pygments_lexer": "ipython3",
   "version": "3.13.5"
  }
 },
 "nbformat": 4,
 "nbformat_minor": 5
}
